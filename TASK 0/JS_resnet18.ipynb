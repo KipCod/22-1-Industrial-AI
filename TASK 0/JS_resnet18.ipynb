{
 "cells": [
  {
   "cell_type": "markdown",
   "metadata": {},
   "source": [
    "# 라이브러리 불러오기"
   ]
  },
  {
   "cell_type": "code",
   "execution_count": 1,
   "metadata": {},
   "outputs": [],
   "source": [
    "#필요한 library 들을 load 합니다.\n",
    "import os \n",
    "from glob import glob\n",
    "os.environ[\"CUDA_VISIBLE_DEVICES\"]=\"0\" \n",
    "\n",
    "import numpy as np\n",
    "import pandas as pd\n",
    "from tqdm import tqdm\n",
    "from multiprocessing import cpu_count\n",
    "import matplotlib.pyplot as plt\n",
    "import seaborn as sns\n",
    "\n",
    "# Image handling\n",
    "from torchvision import datasets, transforms\n",
    "from PIL import Image\n",
    "\n",
    "# Pytorch\n",
    "import torch\n",
    "import torch.nn as nn\n",
    "from torch.nn import functional as F\n",
    "import torch.optim as optim\n",
    "from torch.optim.lr_scheduler import ReduceLROnPlateau\n",
    "from torch.utils.data import Dataset, DataLoader, SubsetRandomSampler, RandomSampler, SequentialSampler, ConcatDataset\n",
    "from torchvision import models\n",
    "\n",
    "# Sklearn\n",
    "from sklearn.model_selection import train_test_split\n",
    "from sklearn.metrics import f1_score\n",
    "from sklearn.preprocessing import LabelEncoder\n",
    "\n",
    "# Augmenting library \n",
    "import albumentations as A\n",
    "import torchvision.transforms as T\n",
    "\n",
    "# Control Randomness\n",
    "import random\n",
    "random_seed = 7\n",
    "torch.manual_seed(random_seed)\n",
    "torch.backends.cudnn.deterministic = True\n",
    "torch.backends.cudnn.benchmark = False\n",
    "np.random.seed(random_seed)\n",
    "random.seed(random_seed)\n",
    "\n",
    "import warnings\n",
    "warnings.filterwarnings(\"ignore\")"
   ]
  },
  {
   "cell_type": "markdown",
   "metadata": {},
   "source": [
    "# 데이터 load\n",
    "\n",
    "이후 추가할 데이터 정규화를 위해, Train 데이터를 모두 훑어주면서 평균과 분산을 찾아줍니다."
   ]
  },
  {
   "cell_type": "markdown",
   "metadata": {},
   "source": [
    "RGB 채널별로 평균과 표준편차를 구해줍니다.\n",
    "\n",
    "데이터 정규화를 시켜주는 이유는 간단히 다음과 같습니다.\n",
    "\n",
    "1. 평균을 0, 분산을 1로 만들어줌으로써 학습 속도를 증가\n",
    "\n",
    "2. Train/Val 과 Test 데이터의 분포가 다름(Dataset Shift Problem)으로써 나오는 악영향을 줄임\n",
    "\n",
    "등등, https://hyen4110.tistory.com/20"
   ]
  },
  {
   "cell_type": "code",
   "execution_count": 2,
   "metadata": {},
   "outputs": [],
   "source": [
    "temp_transform = T.Compose([\n",
    "    T.ToTensor(), #이미지 데이터를 tensor 데이터 포멧으로 바꾸어줍니다.\n",
    "    # T.Resize([224, 224]), #이미지의 크기가 다를 수 있으니 크기를 통일해 줍니다.\n",
    "    # T.Normalize(mean=(0.5, 0.5, 0.5), std=(0.5, 0.5, 0.5)) #픽셀 단위 데이터를 정규화 시켜줍니다.\n",
    "])\n",
    "\n",
    "# R_mean = data[0][:, 0].mean().numpy()\n",
    "# G_mean = data[0][:, 1].mean().numpy()\n",
    "# B_mean = data[0][:, 2].mean().numpy()\n",
    "\n",
    "# R_std = data[0][:, 0].std().numpy()\n",
    "# G_std = data[0][:, 1].std().numpy()\n",
    "# B_std = data[0][:, 2].std().numpy()\n",
    "\n",
    "R_mean = 0.4912\n",
    "G_mean = 0.4820\n",
    "B_mean = 0.4465\n",
    "\n",
    "R_std = 0.2457\n",
    "G_std = 0.2429\n",
    "B_std = 0.2610"
   ]
  },
  {
   "cell_type": "markdown",
   "metadata": {},
   "source": [
    "Pytorch는 String 형태의 레이블을 입력받지 못하므로, 숫자형태로 매핑해줍니다."
   ]
  },
  {
   "cell_type": "code",
   "execution_count": 3,
   "metadata": {},
   "outputs": [],
   "source": [
    "submission = pd.read_csv('./data/sample_submission.csv')\n",
    "train_imgs = glob('./data/train/*/*')\n",
    "train_labels = [path.split('\\\\')[1] for path in train_imgs]\n",
    "test_imgs = glob('./data/test/*')\n",
    "\n",
    "# Pytorch는 String 형태의 label을 입력받지 못합니다.\n",
    "label_map = {\n",
    "    'airplane' : 0, \n",
    "    'automobile': 1, \n",
    "    'bird': 2,\n",
    "    'cat': 3, \n",
    "    'deer': 4, \n",
    "    'dog': 5, \n",
    "    'frog': 6,\n",
    "    'horse': 7, \n",
    "    'ship': 8, \n",
    "    'truck': 9,\n",
    "}"
   ]
  },
  {
   "cell_type": "markdown",
   "metadata": {},
   "source": [
    "# Dataset 정의"
   ]
  },
  {
   "cell_type": "code",
   "execution_count": 4,
   "metadata": {},
   "outputs": [],
   "source": [
    "class train_dataset(Dataset):\n",
    "    def __init__(self, imgs, labels, transform = None):\n",
    "        super(train_dataset, self).__init__()\n",
    "        self.imgs = imgs\n",
    "        self.labels = labels\n",
    "        self.transform = transform\n",
    "        \n",
    "    def __len__(self):\n",
    "        assert len(self.imgs) == len(self.labels)\n",
    "        return len(self.imgs)\n",
    "    \n",
    "    def __getitem__(self, idx):\n",
    "        X = np.array(Image.open(self.imgs[idx]))\n",
    "        y = label_map[self.labels[idx]]\n",
    "        \n",
    "        if self.transform:\n",
    "            img = self.transform(image = X)['image']\n",
    "        else:\n",
    "            img = X\n",
    "    \n",
    "        y = torch.tensor(y, dtype = torch.long)\n",
    "        return {\n",
    "            'img' : img,\n",
    "            'label' : y\n",
    "        }\n",
    "    \n",
    "class test_dataset(Dataset):\n",
    "    def __init__(self, imgs, transform = None):\n",
    "        super(test_dataset, self).__init__()\n",
    "        self.imgs = imgs\n",
    "        self.transform = transform\n",
    "        # self.n_tta = n_tta\n",
    "        \n",
    "    def __len__(self):\n",
    "        return len(self.imgs)\n",
    "    \n",
    "    def __getitem__(self, idx):\n",
    "        X = np.array(Image.open(self.imgs[idx]))\n",
    "        if self.transform:\n",
    "            img = self.transform(image = X)['image']\n",
    "            return img\n",
    "        else:\n",
    "            return X"
   ]
  },
  {
   "cell_type": "markdown",
   "metadata": {},
   "source": [
    "# Config\n",
    "\n",
    "하이퍼파라미터들을 설정해 줍니다.\n",
    "\n",
    "batch_size 란 하드웨어에 한번에 load 할 데이터의 크기입니다. \n",
    "\n",
    "num_workers 란 데이터 로드 멀티 프로세싱을 위한 파라미터입니다. Windows에서는 따로 설정하면 에러납니다.\n",
    "\n",
    "Train 데이터 batch_size는 적당한 값, val/test 데이터는 하드웨어가 감당하는 최대한 큰 값으로 하면 좋습니다."
   ]
  },
  {
   "cell_type": "code",
   "execution_count": 5,
   "metadata": {},
   "outputs": [],
   "source": [
    "re_size = 32\n",
    "\n",
    "train_batch_size = 16\n",
    "valid_batch_size = 128\n",
    "test_batch_size = 128\n",
    "\n",
    "epochs = 100\n",
    "learning_rate = 1e-5 * train_batch_size\n",
    "\n",
    "save_name = f'js_resnet18_r{re_size}_b{train_batch_size}_lr{learning_rate}_e{epochs}'\n",
    "save_path = f'models/{save_name}.pt'"
   ]
  },
  {
   "cell_type": "markdown",
   "metadata": {},
   "source": [
    "# 데이터 증강 (Augmentation)\n",
    "\n",
    "데이터 형태마다 고유의 증강 기법이 존재합니다. \n",
    "\n",
    "증강을 통해 Train 데이터에 변형을 주어 다양성(Variability)를 높이고, Bias를 낮춰 앞서 말한 Dataset shift 문제에 대처할 수 있습니다.\n",
    "\n",
    "즉, 과적합(Overfitting)에 조금 더 강건한 모델을 만들 수 있습니다.\n",
    "\n",
    "이미지에는 다음과 같은 증강 기법들이 존재합니다. 컴퓨터 비전 관련한 수업을 들으신 분들은 익숙하실 것입니다.\n",
    "1. 픽셀 단위 증강 : 가우시안 블러링, 가우시안 노이즈 추가, 픽셀 정규화, Grayscaling 등\n",
    "2. 공간 수준 증강(Spatial-level Augmentation): Resize, Crop, Rotate, Flip, Shift 등 \n",
    "\n",
    "- 이외에도 Cutout, Mixup, CutMix, Augmix 등 다양한 증강 기법들이 개발되고 있습니다.\n",
    "\n",
    "**Validation 및 Test 데이터에는 Augmentation을 적용하면 안 됩니다. (정규화 제외)**\n",
    "- Test-time Augmentation(TTA)라는 기법이 있긴 하지만, 여기서는 적용하지 않겠습니다."
   ]
  },
  {
   "cell_type": "code",
   "execution_count": 6,
   "metadata": {},
   "outputs": [],
   "source": [
    "from albumentations.pytorch import ToTensorV2\n",
    "import cv2\n",
    "\n",
    "train_transform = A.Compose([\n",
    "    A.Resize(re_size, re_size, interpolation=cv2.INTER_AREA),\n",
    "    A.HorizontalFlip(p=0.5),\n",
    "    A.VerticalFlip(p=0.3),\n",
    "    A.GaussNoise(p=0.3),\n",
    "    A.OneOf([\n",
    "        A.MotionBlur(blur_limit = 3, p = 1.0),\n",
    "        A.MedianBlur(blur_limit = 3, p = 1.0),\n",
    "        A.Blur(blur_limit = 3, p = 1.0),\n",
    "        ], p = 0.3),\n",
    "    A.ShiftScaleRotate(rotate_limit = 30),\n",
    "    A.OneOf([\n",
    "        A.OpticalDistortion(p = 1.0),\n",
    "        A.GridDistortion(p = 1.0),\n",
    "        ], p = 0.3),\n",
    "    A.OneOf([\n",
    "        A.CLAHE(clip_limit = 2),\n",
    "        A.RandomBrightnessContrast(),\n",
    "        ], p = 0.3),\n",
    "    A.HueSaturationValue(p = 0.3),\n",
    "    A.Normalize(mean=(R_mean, G_mean, B_mean), std=(R_std, G_std, B_std)),\n",
    "    ToTensorV2(),\n",
    "])\n",
    "\n",
    "else_transform = A.Compose([\n",
    "    A.Resize(re_size, re_size, interpolation=cv2.INTER_AREA),\n",
    "    A.Normalize(mean=(R_mean, G_mean, B_mean), std=(R_std, G_std, B_std)),\n",
    "    ToTensorV2(),\n",
    "])"
   ]
  },
  {
   "cell_type": "markdown",
   "metadata": {},
   "source": [
    "Train/Val split"
   ]
  },
  {
   "cell_type": "code",
   "execution_count": 7,
   "metadata": {},
   "outputs": [
    {
     "data": {
      "text/plain": [
       "(40000, 10000, 40000, 10000)"
      ]
     },
     "execution_count": 7,
     "metadata": {},
     "output_type": "execute_result"
    }
   ],
   "source": [
    "train_data = datasets.ImageFolder(root='./data/train/',transform=temp_transform)\n",
    "train_imgs = glob('./data/train/*/*')\n",
    "train_labels = [path.split('\\\\')[1] for path in train_imgs]\n",
    "test_imgs = glob('./data/test/*')\n",
    "\n",
    "# Pytorch는 String 형태의 label을 입력받지 못합니다.\n",
    "label_map = {\n",
    "    'airplane' : 0, \n",
    "    'automobile': 1, \n",
    "    'bird': 2,\n",
    "    'cat': 3, \n",
    "    'deer': 4, \n",
    "    'dog': 5, \n",
    "    'frog': 6,\n",
    "    'horse': 7, \n",
    "    'ship': 8, \n",
    "    'truck': 9,\n",
    "}\n",
    "\n",
    "train_imgs, val_imgs, train_labels, val_labels = train_test_split(train_imgs, train_labels, test_size = 0.2,\n",
    "                                                                  stratify = train_labels, random_state = 42)\n",
    "len(train_imgs), len(val_imgs), len(train_labels), len(val_labels)"
   ]
  },
  {
   "cell_type": "code",
   "execution_count": 8,
   "metadata": {},
   "outputs": [
    {
     "data": {
      "image/png": "[encoded data removed]",
      "text/plain": [
       "<Figure size 432x288 with 1 Axes>"
      ]
     },
     "metadata": {
      "needs_background": "light"
     },
     "output_type": "display_data"
    },
    {
     "data": {
      "image/png": "[encoded data removed]",
      "text/plain": [
       "<Figure size 1800x360 with 5 Axes>"
      ]
     },
     "metadata": {
      "needs_background": "light"
     },
     "output_type": "display_data"
    }
   ],
   "source": [
    "def display_aug(imgs, transform, labels = None, n_aug = 5, cols = 5):\n",
    "    idx = random.randint(0, len(imgs) - 1)\n",
    "    \n",
    "    plt.imshow(np.array(Image.open(imgs[idx])))\n",
    "    \n",
    "    if labels:\n",
    "        label = labels[idx]\n",
    "        plt.title(label)\n",
    "    plt.show()\n",
    "    \n",
    "    rows = int(np.ceil(n_aug / cols))\n",
    "    \n",
    "    fig, axes = plt.subplots(rows, cols, figsize = (cols * 5, rows * 5))\n",
    "\n",
    "    for i in range(n_aug):\n",
    "        img = np.array(Image.open(imgs[idx]))\n",
    "        img = transform(image = img)['image']\n",
    "        img = np.clip(img.numpy().transpose(1, 2, 0) * np.array([0.229, 0.224, 0.225]) + np.array([0.485, 0.456, 0.406]), 0, 1)\n",
    "        axes.flat[i].imshow(img)\n",
    "    plt.show()\n",
    "\n",
    "display_aug(train_imgs, train_transform, labels = train_labels)"
   ]
  },
  {
   "cell_type": "markdown",
   "metadata": {},
   "source": [
    "data loader 를 생성해줍니다. \n",
    "\n",
    "data loader 란 데이터 셋을 순회하며 모델에 데이터를 넣어주는 객체입니다. "
   ]
  },
  {
   "cell_type": "code",
   "execution_count": 9,
   "metadata": {},
   "outputs": [],
   "source": [
    "train_loader = DataLoader(train_dataset(train_imgs, train_labels, transform = train_transform),\n",
    "                          shuffle = True, batch_size = train_batch_size)\n",
    "val_loader = DataLoader(train_dataset(val_imgs, val_labels, transform = else_transform),\n",
    "                        shuffle = False, batch_size = valid_batch_size)"
   ]
  },
  {
   "cell_type": "code",
   "execution_count": 10,
   "metadata": {},
   "outputs": [
    {
     "data": {
      "text/plain": [
       "(torch.Size([16, 3, 32, 32]),\n",
       " tensor([1, 4, 9, 3, 4, 8, 7, 7, 4, 2, 2, 3, 8, 9, 9, 6]))"
      ]
     },
     "execution_count": 10,
     "metadata": {},
     "output_type": "execute_result"
    }
   ],
   "source": [
    "next(iter(train_loader))['img'].shape, next(iter(train_loader))['label']\n",
    "\n",
    "# (B, C, H, W), (B, num_classes)"
   ]
  },
  {
   "cell_type": "markdown",
   "metadata": {},
   "source": [
    "# Device 설정\n",
    "\n",
    "device 를 설정해줍니다.\n",
    "\n",
    "이번 베이스라인에서는 gpu 가 있다고 가정하겠습니다. "
   ]
  },
  {
   "cell_type": "code",
   "execution_count": 11,
   "metadata": {},
   "outputs": [
    {
     "data": {
      "text/plain": [
       "True"
      ]
     },
     "execution_count": 11,
     "metadata": {},
     "output_type": "execute_result"
    }
   ],
   "source": [
    "device = 'cuda' if torch.cuda.is_available() else 'cpu'\n",
    "torch.cuda.is_available()"
   ]
  },
  {
   "cell_type": "markdown",
   "metadata": {},
   "source": [
    "# Model\n",
    "\n",
    "전이학습을 위한 모델을 load 해줍니다. \n",
    "\n",
    "PYTORCH 의 models 메소드를 사용하면 손쉽게 외부의 모델을 불러올 수 있습니다.\n",
    "\n",
    "이번 베이스라인에서는 efficientnet_b3 모델을 사용해 볼 것입니다. \n",
    "\n",
    "사전 학습 모델을 사용하는 것은 부정행위에 해당하니, pretrained 파라미터를 False 로 설정해야 합니다!\n",
    "\n",
    "pretrained 파라미터를 True 로 설정한다면, ImageNet 이라는 데이터셋을 대상으로 학습된 모델이 load 됩니다.\n",
    "\n",
    "반면, pretrained 파라미터를 False 로 설정한다면, 모델의 구조만 load 되고 모델의 가중치 들은 load 되지 않습니다. "
   ]
  },
  {
   "cell_type": "code",
   "execution_count": 12,
   "metadata": {},
   "outputs": [],
   "source": [
    "model = models.resnet18(pretrained=False)"
   ]
  },
  {
   "cell_type": "code",
   "execution_count": 13,
   "metadata": {},
   "outputs": [
    {
     "data": {
      "text/plain": [
       "ResNet(\n",
       "  (conv1): Conv2d(3, 64, kernel_size=(7, 7), stride=(2, 2), padding=(3, 3), bias=False)\n",
       "  (bn1): BatchNorm2d(64, eps=1e-05, momentum=0.1, affine=True, track_running_stats=True)\n",
       "  (relu): ReLU(inplace=True)\n",
       "  (maxpool): MaxPool2d(kernel_size=3, stride=2, padding=1, dilation=1, ceil_mode=False)\n",
       "  (layer1): Sequential(\n",
       "    (0): BasicBlock(\n",
       "      (conv1): Conv2d(64, 64, kernel_size=(3, 3), stride=(1, 1), padding=(1, 1), bias=False)\n",
       "      (bn1): BatchNorm2d(64, eps=1e-05, momentum=0.1, affine=True, track_running_stats=True)\n",
       "      (relu): ReLU(inplace=True)\n",
       "      (conv2): Conv2d(64, 64, kernel_size=(3, 3), stride=(1, 1), padding=(1, 1), bias=False)\n",
       "      (bn2): BatchNorm2d(64, eps=1e-05, momentum=0.1, affine=True, track_running_stats=True)\n",
       "    )\n",
       "    (1): BasicBlock(\n",
       "      (conv1): Conv2d(64, 64, kernel_size=(3, 3), stride=(1, 1), padding=(1, 1), bias=False)\n",
       "      (bn1): BatchNorm2d(64, eps=1e-05, momentum=0.1, affine=True, track_running_stats=True)\n",
       "      (relu): ReLU(inplace=True)\n",
       "      (conv2): Conv2d(64, 64, kernel_size=(3, 3), stride=(1, 1), padding=(1, 1), bias=False)\n",
       "      (bn2): BatchNorm2d(64, eps=1e-05, momentum=0.1, affine=True, track_running_stats=True)\n",
       "    )\n",
       "  )\n",
       "  (layer2): Sequential(\n",
       "    (0): BasicBlock(\n",
       "      (conv1): Conv2d(64, 128, kernel_size=(3, 3), stride=(2, 2), padding=(1, 1), bias=False)\n",
       "      (bn1): BatchNorm2d(128, eps=1e-05, momentum=0.1, affine=True, track_running_stats=True)\n",
       "      (relu): ReLU(inplace=True)\n",
       "      (conv2): Conv2d(128, 128, kernel_size=(3, 3), stride=(1, 1), padding=(1, 1), bias=False)\n",
       "      (bn2): BatchNorm2d(128, eps=1e-05, momentum=0.1, affine=True, track_running_stats=True)\n",
       "      (downsample): Sequential(\n",
       "        (0): Conv2d(64, 128, kernel_size=(1, 1), stride=(2, 2), bias=False)\n",
       "        (1): BatchNorm2d(128, eps=1e-05, momentum=0.1, affine=True, track_running_stats=True)\n",
       "      )\n",
       "    )\n",
       "    (1): BasicBlock(\n",
       "      (conv1): Conv2d(128, 128, kernel_size=(3, 3), stride=(1, 1), padding=(1, 1), bias=False)\n",
       "      (bn1): BatchNorm2d(128, eps=1e-05, momentum=0.1, affine=True, track_running_stats=True)\n",
       "      (relu): ReLU(inplace=True)\n",
       "      (conv2): Conv2d(128, 128, kernel_size=(3, 3), stride=(1, 1), padding=(1, 1), bias=False)\n",
       "      (bn2): BatchNorm2d(128, eps=1e-05, momentum=0.1, affine=True, track_running_stats=True)\n",
       "    )\n",
       "  )\n",
       "  (layer3): Sequential(\n",
       "    (0): BasicBlock(\n",
       "      (conv1): Conv2d(128, 256, kernel_size=(3, 3), stride=(2, 2), padding=(1, 1), bias=False)\n",
       "      (bn1): BatchNorm2d(256, eps=1e-05, momentum=0.1, affine=True, track_running_stats=True)\n",
       "      (relu): ReLU(inplace=True)\n",
       "      (conv2): Conv2d(256, 256, kernel_size=(3, 3), stride=(1, 1), padding=(1, 1), bias=False)\n",
       "      (bn2): BatchNorm2d(256, eps=1e-05, momentum=0.1, affine=True, track_running_stats=True)\n",
       "      (downsample): Sequential(\n",
       "        (0): Conv2d(128, 256, kernel_size=(1, 1), stride=(2, 2), bias=False)\n",
       "        (1): BatchNorm2d(256, eps=1e-05, momentum=0.1, affine=True, track_running_stats=True)\n",
       "      )\n",
       "    )\n",
       "    (1): BasicBlock(\n",
       "      (conv1): Conv2d(256, 256, kernel_size=(3, 3), stride=(1, 1), padding=(1, 1), bias=False)\n",
       "      (bn1): BatchNorm2d(256, eps=1e-05, momentum=0.1, affine=True, track_running_stats=True)\n",
       "      (relu): ReLU(inplace=True)\n",
       "      (conv2): Conv2d(256, 256, kernel_size=(3, 3), stride=(1, 1), padding=(1, 1), bias=False)\n",
       "      (bn2): BatchNorm2d(256, eps=1e-05, momentum=0.1, affine=True, track_running_stats=True)\n",
       "    )\n",
       "  )\n",
       "  (layer4): Sequential(\n",
       "    (0): BasicBlock(\n",
       "      (conv1): Conv2d(256, 512, kernel_size=(3, 3), stride=(2, 2), padding=(1, 1), bias=False)\n",
       "      (bn1): BatchNorm2d(512, eps=1e-05, momentum=0.1, affine=True, track_running_stats=True)\n",
       "      (relu): ReLU(inplace=True)\n",
       "      (conv2): Conv2d(512, 512, kernel_size=(3, 3), stride=(1, 1), padding=(1, 1), bias=False)\n",
       "      (bn2): BatchNorm2d(512, eps=1e-05, momentum=0.1, affine=True, track_running_stats=True)\n",
       "      (downsample): Sequential(\n",
       "        (0): Conv2d(256, 512, kernel_size=(1, 1), stride=(2, 2), bias=False)\n",
       "        (1): BatchNorm2d(512, eps=1e-05, momentum=0.1, affine=True, track_running_stats=True)\n",
       "      )\n",
       "    )\n",
       "    (1): BasicBlock(\n",
       "      (conv1): Conv2d(512, 512, kernel_size=(3, 3), stride=(1, 1), padding=(1, 1), bias=False)\n",
       "      (bn1): BatchNorm2d(512, eps=1e-05, momentum=0.1, affine=True, track_running_stats=True)\n",
       "      (relu): ReLU(inplace=True)\n",
       "      (conv2): Conv2d(512, 512, kernel_size=(3, 3), stride=(1, 1), padding=(1, 1), bias=False)\n",
       "      (bn2): BatchNorm2d(512, eps=1e-05, momentum=0.1, affine=True, track_running_stats=True)\n",
       "    )\n",
       "  )\n",
       "  (avgpool): AdaptiveAvgPool2d(output_size=(1, 1))\n",
       "  (fc): Linear(in_features=512, out_features=1000, bias=True)\n",
       ")"
      ]
     },
     "execution_count": 13,
     "metadata": {},
     "output_type": "execute_result"
    }
   ],
   "source": [
    "model"
   ]
  },
  {
   "cell_type": "markdown",
   "metadata": {},
   "source": [
    "모델에 데이터를 학습하기 위해서는 모델의 마지막 layer 의 output size 와 분류할 라벨의 수를 입력해주어야 합니다.\n",
    "\n",
    "즉, 끝단만 바꿔줍니다."
   ]
  },
  {
   "cell_type": "code",
   "execution_count": 14,
   "metadata": {},
   "outputs": [],
   "source": [
    "model.fc = nn.Linear(512, 10)"
   ]
  },
  {
   "cell_type": "code",
   "execution_count": 15,
   "metadata": {},
   "outputs": [
    {
     "data": {
      "text/plain": [
       "(tensor([-0.4182,  0.4049,  0.0280,  0.4534,  0.4298, -0.1928, -0.0976, -0.1131,\n",
       "          0.1403,  0.4279], grad_fn=<SelectBackward0>),\n",
       " tensor(8))"
      ]
     },
     "execution_count": 15,
     "metadata": {},
     "output_type": "execute_result"
    }
   ],
   "source": [
    "sample_img = next(iter(train_loader))['img']\n",
    "sample_lab = next(iter(train_loader))['label']\n",
    "model(sample_img)[0], sample_lab[0]"
   ]
  },
  {
   "cell_type": "code",
   "execution_count": 16,
   "metadata": {},
   "outputs": [],
   "source": [
    "criterion = nn.CrossEntropyLoss(reduction='sum')\n",
    "optimizer = optim.AdamW(params=model.parameters(), lr=learning_rate)"
   ]
  },
  {
   "cell_type": "markdown",
   "metadata": {},
   "source": [
    "# 학습 \n",
    "\n",
    "train/validate 함수를 따로 정의해주었습니다."
   ]
  },
  {
   "cell_type": "code",
   "execution_count": 17,
   "metadata": {},
   "outputs": [
    {
     "data": {
      "text/plain": [
       "18105"
      ]
     },
     "execution_count": 17,
     "metadata": {},
     "output_type": "execute_result"
    }
   ],
   "source": [
    "from sklearn.metrics import f1_score \n",
    "import gc\n",
    "\n",
    "def train(model, loader, epoch, nb_epochs):\n",
    "    print(f'Epoch {epoch+1}/{nb_epochs}')\n",
    "    running_loss = 0.0\n",
    "    # running_f1 = 0.0\n",
    "    running_corrects = 0\n",
    "    model.train()\n",
    "    # scaler = torch.cuda.amp.GradScaler()\n",
    "    # y_true = []\n",
    "    # y_pred = []\n",
    "\n",
    "    for idx, batch in enumerate(tqdm(loader)):\n",
    "        img = batch['img'].float().to(device)\n",
    "        label = batch['label'].long().to(device)\n",
    "\n",
    "        # zero the parameter gradients\n",
    "        optimizer.zero_grad()\n",
    "\n",
    "        # with torch.cuda.amp.autocast():\n",
    "        #     output = model(img, csv_feature)\n",
    "        #     loss = criterion(output, label)\n",
    "\n",
    "        # scaler.scale(loss).backward() # ADDED - mixed precision + gradient clipping\n",
    "        # nn.utils.clip_grad_norm_(model.parameters(), max_norm=10)\n",
    "        # scaler.step(optimizer)\n",
    "        # scaler.update()\n",
    "        \n",
    "        # forward + backward + optimize\n",
    "        output = model(img)\n",
    "        loss = criterion(output, label)\n",
    "        loss.backward()\n",
    "        optimizer.step()\n",
    "\n",
    "        # stats\n",
    "        preds = torch.argmax(output, dim=1)\n",
    "        correct = torch.eq(preds, label).sum()\n",
    "        running_loss += loss.item() \n",
    "        running_corrects+=correct\n",
    "\n",
    "    epoch_loss = running_loss / len(loader.dataset)\n",
    "    epoch_acc = running_corrects / len(loader.dataset)\n",
    "    # epoch_f1_macro = f1_score(y_true, y_pred, average='macro')\n",
    "    # epoch_f1_weighted = f1_score(y_true, y_pred, average='weighted')\n",
    "\n",
    "    writer.add_scalar('Loss/Train', epoch_loss, epoch)\n",
    "    writer.add_scalar('Accuracy/Train', epoch_acc, epoch)\n",
    "    # writer.add_scalar('F1_macro/Train', epoch_f1_macro, epoch)\n",
    "    # writer.add_scalar('F1_weighted/Train', epoch_f1_weighted, epoch)\n",
    "    writer.add_scalar('learning_rate', optimizer.param_groups[0][\"lr\"], epoch)\n",
    "\n",
    "    # print(f'Train loss: {epoch_loss:.6f}, Train ACC: {epoch_acc:.6f}, F1_macro: {epoch_f1_macro:.6f}, F1_weighted: {epoch_f1_weighted:.6f},\\\n",
    "    # lr: {optimizer.param_groups[0][\"lr\"]:.6f}')\n",
    "    print(f'Train loss: {epoch_loss:.6f}, Train ACC: {epoch_acc:.6f}, lr: {optimizer.param_groups[0][\"lr\"]:.6f}')    \n",
    "    # scheduler.step()\n",
    "    \n",
    "def validate(model, loader, epoch, nb_epochs):\n",
    "    running_loss = 0.0\n",
    "    # running_f1 = 0.0\n",
    "    running_corrects = 0\n",
    "    model.eval()\n",
    "    # y_true = []\n",
    "    # y_pred = []\n",
    "\n",
    "    with torch.no_grad():\n",
    "        for idx, batch in enumerate(loader):\n",
    "            img = batch['img'].float().to(device)\n",
    "            label = batch['label'].long().to(device)\n",
    "\n",
    "            output = model(img)\n",
    "            loss = criterion(output, label)\n",
    "\n",
    "            # stats\n",
    "            preds = torch.argmax(output, dim=1)\n",
    "            correct = torch.eq(preds, label).sum()\n",
    "            running_loss += loss.item() \n",
    "            running_corrects+=correct\n",
    "\n",
    "\n",
    "        epoch_loss = running_loss / len(loader.dataset)\n",
    "        epoch_acc = running_corrects / len(loader.dataset)\n",
    "        # epoch_f1_macro = f1_score(y_true, y_pred, average='macro')\n",
    "        # epoch_f1_weighted = f1_score(y_true, y_pred, average='weighted')\n",
    "        \n",
    "        writer.add_scalar('Loss/Valid', epoch_loss, epoch)\n",
    "        writer.add_scalar('Accuracy/Valid', epoch_acc, epoch)\n",
    "        # writer.add_scalar('F1_macro/Valid', epoch_f1_macro, epoch)\n",
    "        # writer.add_scalar('F1_weighted/Valid', epoch_f1_weighted, epoch)\n",
    "        \n",
    "        print(f'{running_corrects}/{len(loader.dataset)} correct' )\n",
    "        # print(f'Valid loss: {epoch_loss:.6f}, Valid ACC: {epoch_acc:.6f}, F1_macro: {epoch_f1_macro:.6f}, F1_weighted: {epoch_f1_weighted:.6f}')\n",
    "        print(f'Valid loss: {epoch_loss:.6f}, Valid ACC: {epoch_acc:.6f}')\n",
    "        \n",
    "        val_acc_list.append(epoch_acc.cpu().numpy())\n",
    "        # val_f1_macro_list.append(epoch_f1_macro)\n",
    "        # val_f1_weighted_list.append(epoch_f1_weighted)\n",
    "        \n",
    "        if np.max(val_acc_list) == val_acc_list[-1]:  # 현재 모델이 성능 최댓값이면 저장 \n",
    "            print(f'Saving, ACC: {val_acc_list[-1]:.6f}')\n",
    "            torch.save(model.state_dict(), save_path)\n",
    "            \n",
    "\n",
    "gc.collect()"
   ]
  },
  {
   "cell_type": "code",
   "execution_count": 18,
   "metadata": {},
   "outputs": [
    {
     "name": "stdout",
     "output_type": "stream",
     "text": [
      "js_resnet18_r32_b16_lr0.00016_e100\n",
      "models/js_resnet18_r32_b16_lr0.00016_e100.pt\n"
     ]
    }
   ],
   "source": [
    "print(save_name)\n",
    "print(save_path)"
   ]
  },
  {
   "cell_type": "code",
   "execution_count": 19,
   "metadata": {},
   "outputs": [
    {
     "name": "stdout",
     "output_type": "stream",
     "text": [
      "Epoch 1/100\n"
     ]
    },
    {
     "name": "stderr",
     "output_type": "stream",
     "text": [
      "100%|██████████| 2500/2500 [01:19<00:00, 31.50it/s]\n"
     ]
    },
    {
     "name": "stdout",
     "output_type": "stream",
     "text": [
      "Train loss: 1.837255, Train ACC: 0.331725, lr: 0.000160\n",
      "4668/10000 correct\n",
      "Valid loss: 1.462539, Valid ACC: 0.466800\n",
      "Saving, ACC: 0.466800\n",
      "Epoch 2/100\n"
     ]
    },
    {
     "name": "stderr",
     "output_type": "stream",
     "text": [
      "100%|██████████| 2500/2500 [01:16<00:00, 32.53it/s]\n"
     ]
    },
    {
     "name": "stdout",
     "output_type": "stream",
     "text": [
      "Train loss: 1.610826, Train ACC: 0.419675, lr: 0.000160\n",
      "5408/10000 correct\n",
      "Valid loss: 1.279584, Valid ACC: 0.540800\n",
      "Saving, ACC: 0.540800\n",
      "Epoch 3/100\n"
     ]
    },
    {
     "name": "stderr",
     "output_type": "stream",
     "text": [
      "100%|██████████| 2500/2500 [01:14<00:00, 33.60it/s]\n"
     ]
    },
    {
     "name": "stdout",
     "output_type": "stream",
     "text": [
      "Train loss: 1.501003, Train ACC: 0.459725, lr: 0.000160\n",
      "5727/10000 correct\n",
      "Valid loss: 1.207112, Valid ACC: 0.572700\n",
      "Saving, ACC: 0.572700\n",
      "Epoch 4/100\n"
     ]
    },
    {
     "name": "stderr",
     "output_type": "stream",
     "text": [
      "100%|██████████| 2500/2500 [01:14<00:00, 33.40it/s]\n"
     ]
    },
    {
     "name": "stdout",
     "output_type": "stream",
     "text": [
      "Train loss: 1.423513, Train ACC: 0.493475, lr: 0.000160\n",
      "6024/10000 correct\n",
      "Valid loss: 1.124055, Valid ACC: 0.602400\n",
      "Saving, ACC: 0.602400\n",
      "Epoch 5/100\n"
     ]
    },
    {
     "name": "stderr",
     "output_type": "stream",
     "text": [
      "100%|██████████| 2500/2500 [01:16<00:00, 32.72it/s]\n"
     ]
    },
    {
     "name": "stdout",
     "output_type": "stream",
     "text": [
      "Train loss: 1.350394, Train ACC: 0.520750, lr: 0.000160\n",
      "6192/10000 correct\n",
      "Valid loss: 1.085670, Valid ACC: 0.619200\n",
      "Saving, ACC: 0.619200\n",
      "Epoch 6/100\n"
     ]
    },
    {
     "name": "stderr",
     "output_type": "stream",
     "text": [
      "100%|██████████| 2500/2500 [01:16<00:00, 32.77it/s]\n"
     ]
    },
    {
     "name": "stdout",
     "output_type": "stream",
     "text": [
      "Train loss: 1.297675, Train ACC: 0.539325, lr: 0.000160\n",
      "6431/10000 correct\n",
      "Valid loss: 1.000630, Valid ACC: 0.643100\n",
      "Saving, ACC: 0.643100\n",
      "Epoch 7/100\n"
     ]
    },
    {
     "name": "stderr",
     "output_type": "stream",
     "text": [
      "100%|██████████| 2500/2500 [01:18<00:00, 32.04it/s]\n"
     ]
    },
    {
     "name": "stdout",
     "output_type": "stream",
     "text": [
      "Train loss: 1.260164, Train ACC: 0.554750, lr: 0.000160\n",
      "6712/10000 correct\n",
      "Valid loss: 0.948100, Valid ACC: 0.671200\n",
      "Saving, ACC: 0.671200\n",
      "Epoch 8/100\n"
     ]
    },
    {
     "name": "stderr",
     "output_type": "stream",
     "text": [
      "100%|██████████| 2500/2500 [01:16<00:00, 32.63it/s]\n"
     ]
    },
    {
     "name": "stdout",
     "output_type": "stream",
     "text": [
      "Train loss: 1.211394, Train ACC: 0.570775, lr: 0.000160\n",
      "6550/10000 correct\n",
      "Valid loss: 0.977458, Valid ACC: 0.655000\n",
      "Epoch 9/100\n"
     ]
    },
    {
     "name": "stderr",
     "output_type": "stream",
     "text": [
      "100%|██████████| 2500/2500 [01:16<00:00, 32.85it/s]\n"
     ]
    },
    {
     "name": "stdout",
     "output_type": "stream",
     "text": [
      "Train loss: 1.178586, Train ACC: 0.585000, lr: 0.000160\n",
      "6947/10000 correct\n",
      "Valid loss: 0.887680, Valid ACC: 0.694700\n",
      "Saving, ACC: 0.694700\n",
      "Epoch 10/100\n"
     ]
    },
    {
     "name": "stderr",
     "output_type": "stream",
     "text": [
      "100%|██████████| 2500/2500 [01:16<00:00, 32.69it/s]\n"
     ]
    },
    {
     "name": "stdout",
     "output_type": "stream",
     "text": [
      "Train loss: 1.150509, Train ACC: 0.594375, lr: 0.000160\n",
      "6917/10000 correct\n",
      "Valid loss: 0.877079, Valid ACC: 0.691700\n",
      "Epoch 11/100\n"
     ]
    },
    {
     "name": "stderr",
     "output_type": "stream",
     "text": [
      "100%|██████████| 2500/2500 [01:16<00:00, 32.70it/s]\n"
     ]
    },
    {
     "name": "stdout",
     "output_type": "stream",
     "text": [
      "Train loss: 1.124969, Train ACC: 0.606425, lr: 0.000160\n",
      "7034/10000 correct\n",
      "Valid loss: 0.847134, Valid ACC: 0.703400\n",
      "Saving, ACC: 0.703400\n",
      "Epoch 12/100\n"
     ]
    },
    {
     "name": "stderr",
     "output_type": "stream",
     "text": [
      "100%|██████████| 2500/2500 [01:17<00:00, 32.26it/s]\n"
     ]
    },
    {
     "name": "stdout",
     "output_type": "stream",
     "text": [
      "Train loss: 1.105984, Train ACC: 0.609325, lr: 0.000160\n",
      "7125/10000 correct\n",
      "Valid loss: 0.835600, Valid ACC: 0.712500\n",
      "Saving, ACC: 0.712500\n",
      "Epoch 13/100\n"
     ]
    },
    {
     "name": "stderr",
     "output_type": "stream",
     "text": [
      "100%|██████████| 2500/2500 [01:18<00:00, 31.76it/s]\n"
     ]
    },
    {
     "name": "stdout",
     "output_type": "stream",
     "text": [
      "Train loss: 1.081877, Train ACC: 0.620675, lr: 0.000160\n",
      "7096/10000 correct\n",
      "Valid loss: 0.828729, Valid ACC: 0.709600\n",
      "Epoch 14/100\n"
     ]
    },
    {
     "name": "stderr",
     "output_type": "stream",
     "text": [
      "100%|██████████| 2500/2500 [01:19<00:00, 31.59it/s]\n"
     ]
    },
    {
     "name": "stdout",
     "output_type": "stream",
     "text": [
      "Train loss: 1.070802, Train ACC: 0.625150, lr: 0.000160\n",
      "7188/10000 correct\n",
      "Valid loss: 0.809134, Valid ACC: 0.718800\n",
      "Saving, ACC: 0.718800\n",
      "Epoch 15/100\n"
     ]
    },
    {
     "name": "stderr",
     "output_type": "stream",
     "text": [
      "100%|██████████| 2500/2500 [01:18<00:00, 31.71it/s]\n"
     ]
    },
    {
     "name": "stdout",
     "output_type": "stream",
     "text": [
      "Train loss: 1.047762, Train ACC: 0.633325, lr: 0.000160\n",
      "7101/10000 correct\n",
      "Valid loss: 0.822948, Valid ACC: 0.710100\n",
      "Epoch 16/100\n"
     ]
    },
    {
     "name": "stderr",
     "output_type": "stream",
     "text": [
      "100%|██████████| 2500/2500 [01:19<00:00, 31.60it/s]\n"
     ]
    },
    {
     "name": "stdout",
     "output_type": "stream",
     "text": [
      "Train loss: 1.023441, Train ACC: 0.640700, lr: 0.000160\n",
      "7225/10000 correct\n",
      "Valid loss: 0.782186, Valid ACC: 0.722500\n",
      "Saving, ACC: 0.722500\n",
      "Epoch 17/100\n"
     ]
    },
    {
     "name": "stderr",
     "output_type": "stream",
     "text": [
      "100%|██████████| 2500/2500 [01:18<00:00, 31.72it/s]\n"
     ]
    },
    {
     "name": "stdout",
     "output_type": "stream",
     "text": [
      "Train loss: 1.008375, Train ACC: 0.649125, lr: 0.000160\n",
      "7273/10000 correct\n",
      "Valid loss: 0.772644, Valid ACC: 0.727300\n",
      "Saving, ACC: 0.727300\n",
      "Epoch 18/100\n"
     ]
    },
    {
     "name": "stderr",
     "output_type": "stream",
     "text": [
      "100%|██████████| 2500/2500 [01:18<00:00, 31.68it/s]\n"
     ]
    },
    {
     "name": "stdout",
     "output_type": "stream",
     "text": [
      "Train loss: 0.994059, Train ACC: 0.655500, lr: 0.000160\n",
      "7308/10000 correct\n",
      "Valid loss: 0.769460, Valid ACC: 0.730800\n",
      "Saving, ACC: 0.730800\n",
      "Epoch 19/100\n"
     ]
    },
    {
     "name": "stderr",
     "output_type": "stream",
     "text": [
      "100%|██████████| 2500/2500 [01:19<00:00, 31.52it/s]\n"
     ]
    },
    {
     "name": "stdout",
     "output_type": "stream",
     "text": [
      "Train loss: 0.982358, Train ACC: 0.655975, lr: 0.000160\n",
      "7351/10000 correct\n",
      "Valid loss: 0.758817, Valid ACC: 0.735100\n",
      "Saving, ACC: 0.735100\n",
      "Epoch 20/100\n"
     ]
    },
    {
     "name": "stderr",
     "output_type": "stream",
     "text": [
      "100%|██████████| 2500/2500 [01:19<00:00, 31.57it/s]\n"
     ]
    },
    {
     "name": "stdout",
     "output_type": "stream",
     "text": [
      "Train loss: 0.973373, Train ACC: 0.660775, lr: 0.000160\n",
      "7308/10000 correct\n",
      "Valid loss: 0.764773, Valid ACC: 0.730800\n",
      "Epoch 21/100\n"
     ]
    },
    {
     "name": "stderr",
     "output_type": "stream",
     "text": [
      "100%|██████████| 2500/2500 [01:19<00:00, 31.58it/s]\n"
     ]
    },
    {
     "name": "stdout",
     "output_type": "stream",
     "text": [
      "Train loss: 0.954195, Train ACC: 0.666500, lr: 0.000160\n",
      "7388/10000 correct\n",
      "Valid loss: 0.747305, Valid ACC: 0.738800\n",
      "Saving, ACC: 0.738800\n",
      "Epoch 22/100\n"
     ]
    },
    {
     "name": "stderr",
     "output_type": "stream",
     "text": [
      "100%|██████████| 2500/2500 [01:20<00:00, 31.19it/s]\n"
     ]
    },
    {
     "name": "stdout",
     "output_type": "stream",
     "text": [
      "Train loss: 0.945005, Train ACC: 0.669025, lr: 0.000160\n",
      "7466/10000 correct\n",
      "Valid loss: 0.724022, Valid ACC: 0.746600\n",
      "Saving, ACC: 0.746600\n",
      "Epoch 23/100\n"
     ]
    },
    {
     "name": "stderr",
     "output_type": "stream",
     "text": [
      "100%|██████████| 2500/2500 [01:20<00:00, 31.21it/s]\n"
     ]
    },
    {
     "name": "stdout",
     "output_type": "stream",
     "text": [
      "Train loss: 0.930760, Train ACC: 0.676475, lr: 0.000160\n",
      "7505/10000 correct\n",
      "Valid loss: 0.716562, Valid ACC: 0.750500\n",
      "Saving, ACC: 0.750500\n",
      "Epoch 24/100\n"
     ]
    },
    {
     "name": "stderr",
     "output_type": "stream",
     "text": [
      "100%|██████████| 2500/2500 [01:20<00:00, 31.24it/s]\n"
     ]
    },
    {
     "name": "stdout",
     "output_type": "stream",
     "text": [
      "Train loss: 0.918992, Train ACC: 0.680175, lr: 0.000160\n",
      "7461/10000 correct\n",
      "Valid loss: 0.716288, Valid ACC: 0.746100\n",
      "Epoch 25/100\n"
     ]
    },
    {
     "name": "stderr",
     "output_type": "stream",
     "text": [
      "100%|██████████| 2500/2500 [01:20<00:00, 31.08it/s]\n"
     ]
    },
    {
     "name": "stdout",
     "output_type": "stream",
     "text": [
      "Train loss: 0.914993, Train ACC: 0.680225, lr: 0.000160\n",
      "7481/10000 correct\n",
      "Valid loss: 0.724151, Valid ACC: 0.748100\n",
      "Epoch 26/100\n"
     ]
    },
    {
     "name": "stderr",
     "output_type": "stream",
     "text": [
      "100%|██████████| 2500/2500 [01:20<00:00, 30.89it/s]\n"
     ]
    },
    {
     "name": "stdout",
     "output_type": "stream",
     "text": [
      "Train loss: 0.897425, Train ACC: 0.686900, lr: 0.000160\n",
      "7528/10000 correct\n",
      "Valid loss: 0.709112, Valid ACC: 0.752800\n",
      "Saving, ACC: 0.752800\n",
      "Epoch 27/100\n"
     ]
    },
    {
     "name": "stderr",
     "output_type": "stream",
     "text": [
      "100%|██████████| 2500/2500 [01:20<00:00, 31.20it/s]\n"
     ]
    },
    {
     "name": "stdout",
     "output_type": "stream",
     "text": [
      "Train loss: 0.889392, Train ACC: 0.691750, lr: 0.000160\n",
      "7548/10000 correct\n",
      "Valid loss: 0.710230, Valid ACC: 0.754800\n",
      "Saving, ACC: 0.754800\n",
      "Epoch 28/100\n"
     ]
    },
    {
     "name": "stderr",
     "output_type": "stream",
     "text": [
      "100%|██████████| 2500/2500 [01:19<00:00, 31.36it/s]\n"
     ]
    },
    {
     "name": "stdout",
     "output_type": "stream",
     "text": [
      "Train loss: 0.875065, Train ACC: 0.694750, lr: 0.000160\n",
      "7562/10000 correct\n",
      "Valid loss: 0.695531, Valid ACC: 0.756200\n",
      "Saving, ACC: 0.756200\n",
      "Epoch 29/100\n"
     ]
    },
    {
     "name": "stderr",
     "output_type": "stream",
     "text": [
      "100%|██████████| 2500/2500 [01:19<00:00, 31.37it/s]\n"
     ]
    },
    {
     "name": "stdout",
     "output_type": "stream",
     "text": [
      "Train loss: 0.869209, Train ACC: 0.697525, lr: 0.000160\n",
      "7644/10000 correct\n",
      "Valid loss: 0.682492, Valid ACC: 0.764400\n",
      "Saving, ACC: 0.764400\n",
      "Epoch 30/100\n"
     ]
    },
    {
     "name": "stderr",
     "output_type": "stream",
     "text": [
      "100%|██████████| 2500/2500 [01:19<00:00, 31.46it/s]\n"
     ]
    },
    {
     "name": "stdout",
     "output_type": "stream",
     "text": [
      "Train loss: 0.864100, Train ACC: 0.700025, lr: 0.000160\n",
      "7624/10000 correct\n",
      "Valid loss: 0.683484, Valid ACC: 0.762400\n",
      "Epoch 31/100\n"
     ]
    },
    {
     "name": "stderr",
     "output_type": "stream",
     "text": [
      "100%|██████████| 2500/2500 [01:19<00:00, 31.28it/s]\n"
     ]
    },
    {
     "name": "stdout",
     "output_type": "stream",
     "text": [
      "Train loss: 0.854997, Train ACC: 0.702775, lr: 0.000160\n",
      "7640/10000 correct\n",
      "Valid loss: 0.689995, Valid ACC: 0.764000\n",
      "Epoch 32/100\n"
     ]
    },
    {
     "name": "stderr",
     "output_type": "stream",
     "text": [
      "100%|██████████| 2500/2500 [01:20<00:00, 31.23it/s]\n"
     ]
    },
    {
     "name": "stdout",
     "output_type": "stream",
     "text": [
      "Train loss: 0.844545, Train ACC: 0.704225, lr: 0.000160\n",
      "7648/10000 correct\n",
      "Valid loss: 0.670108, Valid ACC: 0.764800\n",
      "Saving, ACC: 0.764800\n",
      "Epoch 33/100\n"
     ]
    },
    {
     "name": "stderr",
     "output_type": "stream",
     "text": [
      "100%|██████████| 2500/2500 [01:17<00:00, 32.34it/s]\n"
     ]
    },
    {
     "name": "stdout",
     "output_type": "stream",
     "text": [
      "Train loss: 0.842233, Train ACC: 0.707475, lr: 0.000160\n",
      "7653/10000 correct\n",
      "Valid loss: 0.670578, Valid ACC: 0.765300\n",
      "Saving, ACC: 0.765300\n",
      "Epoch 34/100\n"
     ]
    },
    {
     "name": "stderr",
     "output_type": "stream",
     "text": [
      "100%|██████████| 2500/2500 [01:16<00:00, 32.75it/s]\n"
     ]
    },
    {
     "name": "stdout",
     "output_type": "stream",
     "text": [
      "Train loss: 0.829882, Train ACC: 0.711075, lr: 0.000160\n",
      "7762/10000 correct\n",
      "Valid loss: 0.651360, Valid ACC: 0.776200\n",
      "Saving, ACC: 0.776200\n",
      "Epoch 35/100\n"
     ]
    },
    {
     "name": "stderr",
     "output_type": "stream",
     "text": [
      "100%|██████████| 2500/2500 [01:16<00:00, 32.79it/s]\n"
     ]
    },
    {
     "name": "stdout",
     "output_type": "stream",
     "text": [
      "Train loss: 0.823370, Train ACC: 0.714500, lr: 0.000160\n",
      "7733/10000 correct\n",
      "Valid loss: 0.663503, Valid ACC: 0.773300\n",
      "Epoch 36/100\n"
     ]
    },
    {
     "name": "stderr",
     "output_type": "stream",
     "text": [
      "100%|██████████| 2500/2500 [01:16<00:00, 32.70it/s]\n"
     ]
    },
    {
     "name": "stdout",
     "output_type": "stream",
     "text": [
      "Train loss: 0.819132, Train ACC: 0.713125, lr: 0.000160\n",
      "7736/10000 correct\n",
      "Valid loss: 0.653355, Valid ACC: 0.773600\n",
      "Epoch 37/100\n"
     ]
    },
    {
     "name": "stderr",
     "output_type": "stream",
     "text": [
      "100%|██████████| 2500/2500 [01:16<00:00, 32.47it/s]\n"
     ]
    },
    {
     "name": "stdout",
     "output_type": "stream",
     "text": [
      "Train loss: 0.808817, Train ACC: 0.719300, lr: 0.000160\n",
      "7748/10000 correct\n",
      "Valid loss: 0.654062, Valid ACC: 0.774800\n",
      "Epoch 38/100\n"
     ]
    },
    {
     "name": "stderr",
     "output_type": "stream",
     "text": [
      "100%|██████████| 2500/2500 [01:16<00:00, 32.65it/s]\n"
     ]
    },
    {
     "name": "stdout",
     "output_type": "stream",
     "text": [
      "Train loss: 0.801905, Train ACC: 0.721875, lr: 0.000160\n",
      "7713/10000 correct\n",
      "Valid loss: 0.661539, Valid ACC: 0.771300\n",
      "Epoch 39/100\n"
     ]
    },
    {
     "name": "stderr",
     "output_type": "stream",
     "text": [
      "100%|██████████| 2500/2500 [01:16<00:00, 32.50it/s]\n"
     ]
    },
    {
     "name": "stdout",
     "output_type": "stream",
     "text": [
      "Train loss: 0.793845, Train ACC: 0.722800, lr: 0.000160\n",
      "7730/10000 correct\n",
      "Valid loss: 0.661156, Valid ACC: 0.773000\n",
      "Epoch 40/100\n"
     ]
    },
    {
     "name": "stderr",
     "output_type": "stream",
     "text": [
      "100%|██████████| 2500/2500 [01:16<00:00, 32.72it/s]\n"
     ]
    },
    {
     "name": "stdout",
     "output_type": "stream",
     "text": [
      "Train loss: 0.795287, Train ACC: 0.725225, lr: 0.000160\n",
      "7758/10000 correct\n",
      "Valid loss: 0.657532, Valid ACC: 0.775800\n",
      "Epoch 41/100\n"
     ]
    },
    {
     "name": "stderr",
     "output_type": "stream",
     "text": [
      "100%|██████████| 2500/2500 [01:16<00:00, 32.57it/s]\n"
     ]
    },
    {
     "name": "stdout",
     "output_type": "stream",
     "text": [
      "Train loss: 0.778814, Train ACC: 0.729425, lr: 0.000160\n",
      "7798/10000 correct\n",
      "Valid loss: 0.640303, Valid ACC: 0.779800\n",
      "Saving, ACC: 0.779800\n",
      "Epoch 42/100\n"
     ]
    },
    {
     "name": "stderr",
     "output_type": "stream",
     "text": [
      "100%|██████████| 2500/2500 [01:16<00:00, 32.55it/s]\n"
     ]
    },
    {
     "name": "stdout",
     "output_type": "stream",
     "text": [
      "Train loss: 0.785138, Train ACC: 0.724900, lr: 0.000160\n",
      "7805/10000 correct\n",
      "Valid loss: 0.633212, Valid ACC: 0.780500\n",
      "Saving, ACC: 0.780500\n",
      "Epoch 43/100\n"
     ]
    },
    {
     "name": "stderr",
     "output_type": "stream",
     "text": [
      "100%|██████████| 2500/2500 [01:16<00:00, 32.78it/s]\n"
     ]
    },
    {
     "name": "stdout",
     "output_type": "stream",
     "text": [
      "Train loss: 0.775772, Train ACC: 0.732450, lr: 0.000160\n",
      "7772/10000 correct\n",
      "Valid loss: 0.642812, Valid ACC: 0.777200\n",
      "Epoch 44/100\n"
     ]
    },
    {
     "name": "stderr",
     "output_type": "stream",
     "text": [
      "100%|██████████| 2500/2500 [01:16<00:00, 32.50it/s]\n"
     ]
    },
    {
     "name": "stdout",
     "output_type": "stream",
     "text": [
      "Train loss: 0.772030, Train ACC: 0.730275, lr: 0.000160\n",
      "7771/10000 correct\n",
      "Valid loss: 0.645336, Valid ACC: 0.777100\n",
      "Epoch 45/100\n"
     ]
    },
    {
     "name": "stderr",
     "output_type": "stream",
     "text": [
      "100%|██████████| 2500/2500 [01:16<00:00, 32.87it/s]\n"
     ]
    },
    {
     "name": "stdout",
     "output_type": "stream",
     "text": [
      "Train loss: 0.765611, Train ACC: 0.730650, lr: 0.000160\n",
      "7776/10000 correct\n",
      "Valid loss: 0.629602, Valid ACC: 0.777600\n",
      "Epoch 46/100\n"
     ]
    },
    {
     "name": "stderr",
     "output_type": "stream",
     "text": [
      "100%|██████████| 2500/2500 [01:16<00:00, 32.66it/s]\n"
     ]
    },
    {
     "name": "stdout",
     "output_type": "stream",
     "text": [
      "Train loss: 0.757604, Train ACC: 0.738425, lr: 0.000160\n",
      "7776/10000 correct\n",
      "Valid loss: 0.662051, Valid ACC: 0.777600\n",
      "Epoch 47/100\n"
     ]
    },
    {
     "name": "stderr",
     "output_type": "stream",
     "text": [
      "100%|██████████| 2500/2500 [01:16<00:00, 32.76it/s]\n"
     ]
    },
    {
     "name": "stdout",
     "output_type": "stream",
     "text": [
      "Train loss: 0.753924, Train ACC: 0.736975, lr: 0.000160\n",
      "7822/10000 correct\n",
      "Valid loss: 0.634655, Valid ACC: 0.782200\n",
      "Saving, ACC: 0.782200\n",
      "Epoch 48/100\n"
     ]
    },
    {
     "name": "stderr",
     "output_type": "stream",
     "text": [
      "100%|██████████| 2500/2500 [01:16<00:00, 32.80it/s]\n"
     ]
    },
    {
     "name": "stdout",
     "output_type": "stream",
     "text": [
      "Train loss: 0.749582, Train ACC: 0.741525, lr: 0.000160\n",
      "7836/10000 correct\n",
      "Valid loss: 0.624549, Valid ACC: 0.783600\n",
      "Saving, ACC: 0.783600\n",
      "Epoch 49/100\n"
     ]
    },
    {
     "name": "stderr",
     "output_type": "stream",
     "text": [
      "100%|██████████| 2500/2500 [01:16<00:00, 32.65it/s]\n"
     ]
    },
    {
     "name": "stdout",
     "output_type": "stream",
     "text": [
      "Train loss: 0.747271, Train ACC: 0.740750, lr: 0.000160\n",
      "7822/10000 correct\n",
      "Valid loss: 0.631250, Valid ACC: 0.782200\n",
      "Epoch 50/100\n"
     ]
    },
    {
     "name": "stderr",
     "output_type": "stream",
     "text": [
      "100%|██████████| 2500/2500 [01:16<00:00, 32.73it/s]\n"
     ]
    },
    {
     "name": "stdout",
     "output_type": "stream",
     "text": [
      "Train loss: 0.742435, Train ACC: 0.743825, lr: 0.000160\n",
      "7825/10000 correct\n",
      "Valid loss: 0.628558, Valid ACC: 0.782500\n",
      "Epoch 51/100\n"
     ]
    },
    {
     "name": "stderr",
     "output_type": "stream",
     "text": [
      "100%|██████████| 2500/2500 [01:16<00:00, 32.53it/s]\n"
     ]
    },
    {
     "name": "stdout",
     "output_type": "stream",
     "text": [
      "Train loss: 0.728887, Train ACC: 0.746950, lr: 0.000160\n",
      "7836/10000 correct\n",
      "Valid loss: 0.624864, Valid ACC: 0.783600\n",
      "Saving, ACC: 0.783600\n",
      "Epoch 52/100\n"
     ]
    },
    {
     "name": "stderr",
     "output_type": "stream",
     "text": [
      "100%|██████████| 2500/2500 [01:16<00:00, 32.79it/s]\n"
     ]
    },
    {
     "name": "stdout",
     "output_type": "stream",
     "text": [
      "Train loss: 0.728707, Train ACC: 0.747450, lr: 0.000160\n",
      "7785/10000 correct\n",
      "Valid loss: 0.627782, Valid ACC: 0.778500\n",
      "Epoch 53/100\n"
     ]
    },
    {
     "name": "stderr",
     "output_type": "stream",
     "text": [
      "100%|██████████| 2500/2500 [01:16<00:00, 32.49it/s]\n"
     ]
    },
    {
     "name": "stdout",
     "output_type": "stream",
     "text": [
      "Train loss: 0.721582, Train ACC: 0.749400, lr: 0.000160\n",
      "7848/10000 correct\n",
      "Valid loss: 0.623638, Valid ACC: 0.784800\n",
      "Saving, ACC: 0.784800\n",
      "Epoch 54/100\n"
     ]
    },
    {
     "name": "stderr",
     "output_type": "stream",
     "text": [
      "100%|██████████| 2500/2500 [01:16<00:00, 32.80it/s]\n"
     ]
    },
    {
     "name": "stdout",
     "output_type": "stream",
     "text": [
      "Train loss: 0.718136, Train ACC: 0.752275, lr: 0.000160\n",
      "7686/10000 correct\n",
      "Valid loss: 0.661127, Valid ACC: 0.768600\n",
      "Epoch 55/100\n"
     ]
    },
    {
     "name": "stderr",
     "output_type": "stream",
     "text": [
      "100%|██████████| 2500/2500 [01:16<00:00, 32.51it/s]\n"
     ]
    },
    {
     "name": "stdout",
     "output_type": "stream",
     "text": [
      "Train loss: 0.715400, Train ACC: 0.751575, lr: 0.000160\n",
      "7906/10000 correct\n",
      "Valid loss: 0.606319, Valid ACC: 0.790600\n",
      "Saving, ACC: 0.790600\n",
      "Epoch 56/100\n"
     ]
    },
    {
     "name": "stderr",
     "output_type": "stream",
     "text": [
      "100%|██████████| 2500/2500 [01:16<00:00, 32.84it/s]\n"
     ]
    },
    {
     "name": "stdout",
     "output_type": "stream",
     "text": [
      "Train loss: 0.705133, Train ACC: 0.755175, lr: 0.000160\n",
      "7849/10000 correct\n",
      "Valid loss: 0.625792, Valid ACC: 0.784900\n",
      "Epoch 57/100\n"
     ]
    },
    {
     "name": "stderr",
     "output_type": "stream",
     "text": [
      "100%|██████████| 2500/2500 [01:12<00:00, 34.45it/s]\n"
     ]
    },
    {
     "name": "stdout",
     "output_type": "stream",
     "text": [
      "Train loss: 0.700404, Train ACC: 0.756100, lr: 0.000160\n",
      "7907/10000 correct\n",
      "Valid loss: 0.618416, Valid ACC: 0.790700\n",
      "Saving, ACC: 0.790700\n",
      "Epoch 58/100\n"
     ]
    },
    {
     "name": "stderr",
     "output_type": "stream",
     "text": [
      "100%|██████████| 2500/2500 [01:12<00:00, 34.61it/s]\n"
     ]
    },
    {
     "name": "stdout",
     "output_type": "stream",
     "text": [
      "Train loss: 0.699329, Train ACC: 0.759475, lr: 0.000160\n",
      "7904/10000 correct\n",
      "Valid loss: 0.611632, Valid ACC: 0.790400\n",
      "Epoch 59/100\n"
     ]
    },
    {
     "name": "stderr",
     "output_type": "stream",
     "text": [
      "100%|██████████| 2500/2500 [01:11<00:00, 34.73it/s]\n"
     ]
    },
    {
     "name": "stdout",
     "output_type": "stream",
     "text": [
      "Train loss: 0.698183, Train ACC: 0.757375, lr: 0.000160\n",
      "7865/10000 correct\n",
      "Valid loss: 0.618480, Valid ACC: 0.786500\n",
      "Epoch 60/100\n"
     ]
    },
    {
     "name": "stderr",
     "output_type": "stream",
     "text": [
      "100%|██████████| 2500/2500 [01:12<00:00, 34.69it/s]\n"
     ]
    },
    {
     "name": "stdout",
     "output_type": "stream",
     "text": [
      "Train loss: 0.683251, Train ACC: 0.762700, lr: 0.000160\n",
      "7968/10000 correct\n",
      "Valid loss: 0.601803, Valid ACC: 0.796800\n",
      "Saving, ACC: 0.796800\n",
      "Epoch 61/100\n"
     ]
    },
    {
     "name": "stderr",
     "output_type": "stream",
     "text": [
      "100%|██████████| 2500/2500 [01:12<00:00, 34.60it/s]\n"
     ]
    },
    {
     "name": "stdout",
     "output_type": "stream",
     "text": [
      "Train loss: 0.686723, Train ACC: 0.762525, lr: 0.000160\n",
      "7905/10000 correct\n",
      "Valid loss: 0.620677, Valid ACC: 0.790500\n",
      "Epoch 62/100\n"
     ]
    },
    {
     "name": "stderr",
     "output_type": "stream",
     "text": [
      "100%|██████████| 2500/2500 [01:11<00:00, 34.74it/s]\n"
     ]
    },
    {
     "name": "stdout",
     "output_type": "stream",
     "text": [
      "Train loss: 0.683991, Train ACC: 0.763075, lr: 0.000160\n",
      "7939/10000 correct\n",
      "Valid loss: 0.615161, Valid ACC: 0.793900\n",
      "Epoch 63/100\n"
     ]
    },
    {
     "name": "stderr",
     "output_type": "stream",
     "text": [
      "100%|██████████| 2500/2500 [01:12<00:00, 34.64it/s]\n"
     ]
    },
    {
     "name": "stdout",
     "output_type": "stream",
     "text": [
      "Train loss: 0.685598, Train ACC: 0.760425, lr: 0.000160\n",
      "7937/10000 correct\n",
      "Valid loss: 0.599205, Valid ACC: 0.793700\n",
      "Epoch 64/100\n"
     ]
    },
    {
     "name": "stderr",
     "output_type": "stream",
     "text": [
      "100%|██████████| 2500/2500 [01:11<00:00, 34.73it/s]\n"
     ]
    },
    {
     "name": "stdout",
     "output_type": "stream",
     "text": [
      "Train loss: 0.677516, Train ACC: 0.762200, lr: 0.000160\n",
      "7919/10000 correct\n",
      "Valid loss: 0.603868, Valid ACC: 0.791900\n",
      "Epoch 65/100\n"
     ]
    },
    {
     "name": "stderr",
     "output_type": "stream",
     "text": [
      "100%|██████████| 2500/2500 [01:11<00:00, 34.72it/s]\n"
     ]
    },
    {
     "name": "stdout",
     "output_type": "stream",
     "text": [
      "Train loss: 0.671695, Train ACC: 0.769400, lr: 0.000160\n",
      "7811/10000 correct\n",
      "Valid loss: 0.633350, Valid ACC: 0.781100\n",
      "Epoch 66/100\n"
     ]
    },
    {
     "name": "stderr",
     "output_type": "stream",
     "text": [
      "100%|██████████| 2500/2500 [01:12<00:00, 34.69it/s]\n"
     ]
    },
    {
     "name": "stdout",
     "output_type": "stream",
     "text": [
      "Train loss: 0.665779, Train ACC: 0.766475, lr: 0.000160\n",
      "7946/10000 correct\n",
      "Valid loss: 0.605592, Valid ACC: 0.794600\n",
      "Epoch 67/100\n"
     ]
    },
    {
     "name": "stderr",
     "output_type": "stream",
     "text": [
      "100%|██████████| 2500/2500 [01:12<00:00, 34.59it/s]\n"
     ]
    },
    {
     "name": "stdout",
     "output_type": "stream",
     "text": [
      "Train loss: 0.666031, Train ACC: 0.767950, lr: 0.000160\n",
      "7868/10000 correct\n",
      "Valid loss: 0.620038, Valid ACC: 0.786800\n",
      "Epoch 68/100\n"
     ]
    },
    {
     "name": "stderr",
     "output_type": "stream",
     "text": [
      "100%|██████████| 2500/2500 [01:12<00:00, 34.66it/s]\n"
     ]
    },
    {
     "name": "stdout",
     "output_type": "stream",
     "text": [
      "Train loss: 0.667595, Train ACC: 0.768925, lr: 0.000160\n",
      "7855/10000 correct\n",
      "Valid loss: 0.616654, Valid ACC: 0.785500\n",
      "Epoch 69/100\n"
     ]
    },
    {
     "name": "stderr",
     "output_type": "stream",
     "text": [
      "100%|██████████| 2500/2500 [01:12<00:00, 34.72it/s]\n"
     ]
    },
    {
     "name": "stdout",
     "output_type": "stream",
     "text": [
      "Train loss: 0.658548, Train ACC: 0.773100, lr: 0.000160\n",
      "7958/10000 correct\n",
      "Valid loss: 0.602130, Valid ACC: 0.795800\n",
      "Epoch 70/100\n"
     ]
    },
    {
     "name": "stderr",
     "output_type": "stream",
     "text": [
      "100%|██████████| 2500/2500 [01:11<00:00, 34.76it/s]\n"
     ]
    },
    {
     "name": "stdout",
     "output_type": "stream",
     "text": [
      "Train loss: 0.654880, Train ACC: 0.772425, lr: 0.000160\n",
      "7955/10000 correct\n",
      "Valid loss: 0.615706, Valid ACC: 0.795500\n",
      "Epoch 71/100\n"
     ]
    },
    {
     "name": "stderr",
     "output_type": "stream",
     "text": [
      "100%|██████████| 2500/2500 [01:12<00:00, 34.53it/s]\n"
     ]
    },
    {
     "name": "stdout",
     "output_type": "stream",
     "text": [
      "Train loss: 0.650843, Train ACC: 0.773150, lr: 0.000160\n",
      "7889/10000 correct\n",
      "Valid loss: 0.629884, Valid ACC: 0.788900\n",
      "Epoch 72/100\n"
     ]
    },
    {
     "name": "stderr",
     "output_type": "stream",
     "text": [
      "100%|██████████| 2500/2500 [01:12<00:00, 34.70it/s]\n"
     ]
    },
    {
     "name": "stdout",
     "output_type": "stream",
     "text": [
      "Train loss: 0.648120, Train ACC: 0.774825, lr: 0.000160\n",
      "7989/10000 correct\n",
      "Valid loss: 0.600664, Valid ACC: 0.798900\n",
      "Saving, ACC: 0.798900\n",
      "Epoch 73/100\n"
     ]
    },
    {
     "name": "stderr",
     "output_type": "stream",
     "text": [
      "100%|██████████| 2500/2500 [01:12<00:00, 34.66it/s]\n"
     ]
    },
    {
     "name": "stdout",
     "output_type": "stream",
     "text": [
      "Train loss: 0.645449, Train ACC: 0.774700, lr: 0.000160\n",
      "7960/10000 correct\n",
      "Valid loss: 0.597982, Valid ACC: 0.796000\n",
      "Epoch 74/100\n"
     ]
    },
    {
     "name": "stderr",
     "output_type": "stream",
     "text": [
      "100%|██████████| 2500/2500 [01:12<00:00, 34.70it/s]\n"
     ]
    },
    {
     "name": "stdout",
     "output_type": "stream",
     "text": [
      "Train loss: 0.645901, Train ACC: 0.777375, lr: 0.000160\n",
      "7998/10000 correct\n",
      "Valid loss: 0.599029, Valid ACC: 0.799800\n",
      "Saving, ACC: 0.799800\n",
      "Epoch 75/100\n"
     ]
    },
    {
     "name": "stderr",
     "output_type": "stream",
     "text": [
      "100%|██████████| 2500/2500 [01:12<00:00, 34.69it/s]\n"
     ]
    },
    {
     "name": "stdout",
     "output_type": "stream",
     "text": [
      "Train loss: 0.634780, Train ACC: 0.778525, lr: 0.000160\n",
      "7980/10000 correct\n",
      "Valid loss: 0.603310, Valid ACC: 0.798000\n",
      "Epoch 76/100\n"
     ]
    },
    {
     "name": "stderr",
     "output_type": "stream",
     "text": [
      "100%|██████████| 2500/2500 [01:12<00:00, 34.60it/s]\n"
     ]
    },
    {
     "name": "stdout",
     "output_type": "stream",
     "text": [
      "Train loss: 0.635975, Train ACC: 0.780150, lr: 0.000160\n",
      "8009/10000 correct\n",
      "Valid loss: 0.599982, Valid ACC: 0.800900\n",
      "Saving, ACC: 0.800900\n",
      "Epoch 77/100\n"
     ]
    },
    {
     "name": "stderr",
     "output_type": "stream",
     "text": [
      "100%|██████████| 2500/2500 [01:12<00:00, 34.61it/s]\n"
     ]
    },
    {
     "name": "stdout",
     "output_type": "stream",
     "text": [
      "Train loss: 0.632697, Train ACC: 0.782250, lr: 0.000160\n",
      "8004/10000 correct\n",
      "Valid loss: 0.593797, Valid ACC: 0.800400\n",
      "Epoch 78/100\n"
     ]
    },
    {
     "name": "stderr",
     "output_type": "stream",
     "text": [
      "100%|██████████| 2500/2500 [01:12<00:00, 34.70it/s]\n"
     ]
    },
    {
     "name": "stdout",
     "output_type": "stream",
     "text": [
      "Train loss: 0.628568, Train ACC: 0.780350, lr: 0.000160\n",
      "7928/10000 correct\n",
      "Valid loss: 0.600186, Valid ACC: 0.792800\n",
      "Epoch 79/100\n"
     ]
    },
    {
     "name": "stderr",
     "output_type": "stream",
     "text": [
      "100%|██████████| 2500/2500 [01:13<00:00, 34.23it/s]\n"
     ]
    },
    {
     "name": "stdout",
     "output_type": "stream",
     "text": [
      "Train loss: 0.627397, Train ACC: 0.782800, lr: 0.000160\n",
      "7979/10000 correct\n",
      "Valid loss: 0.600071, Valid ACC: 0.797900\n",
      "Epoch 80/100\n"
     ]
    },
    {
     "name": "stderr",
     "output_type": "stream",
     "text": [
      "100%|██████████| 2500/2500 [01:14<00:00, 33.50it/s]\n"
     ]
    },
    {
     "name": "stdout",
     "output_type": "stream",
     "text": [
      "Train loss: 0.623813, Train ACC: 0.782850, lr: 0.000160\n",
      "7904/10000 correct\n",
      "Valid loss: 0.623840, Valid ACC: 0.790400\n",
      "Epoch 81/100\n"
     ]
    },
    {
     "name": "stderr",
     "output_type": "stream",
     "text": [
      "100%|██████████| 2500/2500 [01:12<00:00, 34.50it/s]\n"
     ]
    },
    {
     "name": "stdout",
     "output_type": "stream",
     "text": [
      "Train loss: 0.620489, Train ACC: 0.786375, lr: 0.000160\n",
      "7947/10000 correct\n",
      "Valid loss: 0.607587, Valid ACC: 0.794700\n",
      "Epoch 82/100\n"
     ]
    },
    {
     "name": "stderr",
     "output_type": "stream",
     "text": [
      "100%|██████████| 2500/2500 [01:12<00:00, 34.58it/s]\n"
     ]
    },
    {
     "name": "stdout",
     "output_type": "stream",
     "text": [
      "Train loss: 0.617197, Train ACC: 0.785500, lr: 0.000160\n",
      "7968/10000 correct\n",
      "Valid loss: 0.602344, Valid ACC: 0.796800\n",
      "Epoch 83/100\n"
     ]
    },
    {
     "name": "stderr",
     "output_type": "stream",
     "text": [
      "100%|██████████| 2500/2500 [01:12<00:00, 34.56it/s]\n"
     ]
    },
    {
     "name": "stdout",
     "output_type": "stream",
     "text": [
      "Train loss: 0.618799, Train ACC: 0.784625, lr: 0.000160\n",
      "8022/10000 correct\n",
      "Valid loss: 0.590625, Valid ACC: 0.802200\n",
      "Saving, ACC: 0.802200\n",
      "Epoch 84/100\n"
     ]
    },
    {
     "name": "stderr",
     "output_type": "stream",
     "text": [
      "100%|██████████| 2500/2500 [01:14<00:00, 33.50it/s]\n"
     ]
    },
    {
     "name": "stdout",
     "output_type": "stream",
     "text": [
      "Train loss: 0.611617, Train ACC: 0.786575, lr: 0.000160\n",
      "8003/10000 correct\n",
      "Valid loss: 0.598196, Valid ACC: 0.800300\n",
      "Epoch 85/100\n"
     ]
    },
    {
     "name": "stderr",
     "output_type": "stream",
     "text": [
      "100%|██████████| 2500/2500 [01:14<00:00, 33.57it/s]\n"
     ]
    },
    {
     "name": "stdout",
     "output_type": "stream",
     "text": [
      "Train loss: 0.611441, Train ACC: 0.787200, lr: 0.000160\n",
      "8014/10000 correct\n",
      "Valid loss: 0.600728, Valid ACC: 0.801400\n",
      "Epoch 86/100\n"
     ]
    },
    {
     "name": "stderr",
     "output_type": "stream",
     "text": [
      "100%|██████████| 2500/2500 [01:14<00:00, 33.54it/s]\n"
     ]
    },
    {
     "name": "stdout",
     "output_type": "stream",
     "text": [
      "Train loss: 0.603657, Train ACC: 0.792225, lr: 0.000160\n",
      "7986/10000 correct\n",
      "Valid loss: 0.608002, Valid ACC: 0.798600\n",
      "Epoch 87/100\n"
     ]
    },
    {
     "name": "stderr",
     "output_type": "stream",
     "text": [
      "100%|██████████| 2500/2500 [01:14<00:00, 33.49it/s]\n"
     ]
    },
    {
     "name": "stdout",
     "output_type": "stream",
     "text": [
      "Train loss: 0.605157, Train ACC: 0.790025, lr: 0.000160\n",
      "7992/10000 correct\n",
      "Valid loss: 0.596252, Valid ACC: 0.799200\n",
      "Epoch 88/100\n"
     ]
    },
    {
     "name": "stderr",
     "output_type": "stream",
     "text": [
      "100%|██████████| 2500/2500 [01:14<00:00, 33.73it/s]\n"
     ]
    },
    {
     "name": "stdout",
     "output_type": "stream",
     "text": [
      "Train loss: 0.606628, Train ACC: 0.788300, lr: 0.000160\n",
      "7983/10000 correct\n",
      "Valid loss: 0.596373, Valid ACC: 0.798300\n",
      "Epoch 89/100\n"
     ]
    },
    {
     "name": "stderr",
     "output_type": "stream",
     "text": [
      "100%|██████████| 2500/2500 [01:14<00:00, 33.59it/s]\n"
     ]
    },
    {
     "name": "stdout",
     "output_type": "stream",
     "text": [
      "Train loss: 0.602692, Train ACC: 0.791250, lr: 0.000160\n",
      "7970/10000 correct\n",
      "Valid loss: 0.607631, Valid ACC: 0.797000\n",
      "Epoch 90/100\n"
     ]
    },
    {
     "name": "stderr",
     "output_type": "stream",
     "text": [
      "100%|██████████| 2500/2500 [01:14<00:00, 33.60it/s]\n"
     ]
    },
    {
     "name": "stdout",
     "output_type": "stream",
     "text": [
      "Train loss: 0.596617, Train ACC: 0.794350, lr: 0.000160\n",
      "8004/10000 correct\n",
      "Valid loss: 0.605780, Valid ACC: 0.800400\n",
      "Epoch 91/100\n"
     ]
    },
    {
     "name": "stderr",
     "output_type": "stream",
     "text": [
      "100%|██████████| 2500/2500 [01:14<00:00, 33.63it/s]\n"
     ]
    },
    {
     "name": "stdout",
     "output_type": "stream",
     "text": [
      "Train loss: 0.596709, Train ACC: 0.792200, lr: 0.000160\n",
      "7941/10000 correct\n",
      "Valid loss: 0.620529, Valid ACC: 0.794100\n",
      "Epoch 92/100\n"
     ]
    },
    {
     "name": "stderr",
     "output_type": "stream",
     "text": [
      "100%|██████████| 2500/2500 [01:14<00:00, 33.49it/s]\n"
     ]
    },
    {
     "name": "stdout",
     "output_type": "stream",
     "text": [
      "Train loss: 0.588133, Train ACC: 0.797525, lr: 0.000160\n",
      "8015/10000 correct\n",
      "Valid loss: 0.600294, Valid ACC: 0.801500\n",
      "Epoch 93/100\n"
     ]
    },
    {
     "name": "stderr",
     "output_type": "stream",
     "text": [
      "100%|██████████| 2500/2500 [01:14<00:00, 33.61it/s]\n"
     ]
    },
    {
     "name": "stdout",
     "output_type": "stream",
     "text": [
      "Train loss: 0.588508, Train ACC: 0.794975, lr: 0.000160\n",
      "7987/10000 correct\n",
      "Valid loss: 0.597526, Valid ACC: 0.798700\n",
      "Epoch 94/100\n"
     ]
    },
    {
     "name": "stderr",
     "output_type": "stream",
     "text": [
      "100%|██████████| 2500/2500 [01:14<00:00, 33.60it/s]\n"
     ]
    },
    {
     "name": "stdout",
     "output_type": "stream",
     "text": [
      "Train loss: 0.583582, Train ACC: 0.796500, lr: 0.000160\n",
      "7975/10000 correct\n",
      "Valid loss: 0.602241, Valid ACC: 0.797500\n",
      "Epoch 95/100\n"
     ]
    },
    {
     "name": "stderr",
     "output_type": "stream",
     "text": [
      "100%|██████████| 2500/2500 [01:14<00:00, 33.43it/s]\n"
     ]
    },
    {
     "name": "stdout",
     "output_type": "stream",
     "text": [
      "Train loss: 0.586940, Train ACC: 0.797250, lr: 0.000160\n",
      "7979/10000 correct\n",
      "Valid loss: 0.606773, Valid ACC: 0.797900\n",
      "Epoch 96/100\n"
     ]
    },
    {
     "name": "stderr",
     "output_type": "stream",
     "text": [
      "100%|██████████| 2500/2500 [01:14<00:00, 33.35it/s]\n"
     ]
    },
    {
     "name": "stdout",
     "output_type": "stream",
     "text": [
      "Train loss: 0.584221, Train ACC: 0.798250, lr: 0.000160\n",
      "8027/10000 correct\n",
      "Valid loss: 0.590823, Valid ACC: 0.802700\n",
      "Saving, ACC: 0.802700\n",
      "Epoch 97/100\n"
     ]
    },
    {
     "name": "stderr",
     "output_type": "stream",
     "text": [
      "100%|██████████| 2500/2500 [01:14<00:00, 33.44it/s]\n"
     ]
    },
    {
     "name": "stdout",
     "output_type": "stream",
     "text": [
      "Train loss: 0.581362, Train ACC: 0.798650, lr: 0.000160\n",
      "7960/10000 correct\n",
      "Valid loss: 0.604361, Valid ACC: 0.796000\n",
      "Epoch 98/100\n"
     ]
    },
    {
     "name": "stderr",
     "output_type": "stream",
     "text": [
      "100%|██████████| 2500/2500 [01:14<00:00, 33.40it/s]\n"
     ]
    },
    {
     "name": "stdout",
     "output_type": "stream",
     "text": [
      "Train loss: 0.581896, Train ACC: 0.798150, lr: 0.000160\n",
      "7969/10000 correct\n",
      "Valid loss: 0.612284, Valid ACC: 0.796900\n",
      "Epoch 99/100\n"
     ]
    },
    {
     "name": "stderr",
     "output_type": "stream",
     "text": [
      "100%|██████████| 2500/2500 [01:14<00:00, 33.51it/s]\n"
     ]
    },
    {
     "name": "stdout",
     "output_type": "stream",
     "text": [
      "Train loss: 0.579350, Train ACC: 0.800650, lr: 0.000160\n",
      "7969/10000 correct\n",
      "Valid loss: 0.608279, Valid ACC: 0.796900\n",
      "Epoch 100/100\n"
     ]
    },
    {
     "name": "stderr",
     "output_type": "stream",
     "text": [
      "100%|██████████| 2500/2500 [01:14<00:00, 33.56it/s]\n"
     ]
    },
    {
     "name": "stdout",
     "output_type": "stream",
     "text": [
      "Train loss: 0.577366, Train ACC: 0.801050, lr: 0.000160\n",
      "7983/10000 correct\n",
      "Valid loss: 0.606773, Valid ACC: 0.798300\n"
     ]
    }
   ],
   "source": [
    "from torch.utils.tensorboard import SummaryWriter\n",
    "\n",
    "writer = SummaryWriter(log_dir='logs/' + save_name)\n",
    "val_acc_list = []\n",
    "model.to(device)\n",
    "\n",
    "for epoch in range(epochs):\n",
    "    train(model, train_loader, epoch, epochs)\n",
    "    validate(model, val_loader, epoch, epochs)"
   ]
  },
  {
   "cell_type": "markdown",
   "metadata": {},
   "source": [
    "저장된 Weight를 입혀주고, Valid set에 대한 Confusion Matrix를 그려봅니다."
   ]
  },
  {
   "cell_type": "code",
   "execution_count": 20,
   "metadata": {},
   "outputs": [
    {
     "data": {
      "text/plain": [
       "<All keys matched successfully>"
      ]
     },
     "execution_count": 20,
     "metadata": {},
     "output_type": "execute_result"
    }
   ],
   "source": [
    "model.load_state_dict(torch.load(save_path))"
   ]
  },
  {
   "cell_type": "code",
   "execution_count": 21,
   "metadata": {},
   "outputs": [],
   "source": [
    "train_y_true = []\n",
    "train_y_pred = []\n",
    "val_y_true = []\n",
    "val_y_pred = []\n",
    "\n",
    "with torch.no_grad():\n",
    "    for idx, batch in enumerate(train_loader):\n",
    "        img = batch['img'].float().to(device)\n",
    "        label = batch['label'].long().to(device)\n",
    "        output = model(img)\n",
    "        preds = torch.argmax(output, dim=1)\n",
    "\n",
    "        for item in label.cpu().numpy():\n",
    "            train_y_true.append(item)\n",
    "        for item in preds.cpu().numpy():\n",
    "            train_y_pred.append(item)\n",
    "\n",
    "    for idx, batch in enumerate(val_loader):\n",
    "        img = batch['img'].float().to(device)\n",
    "        label = batch['label'].long().to(device)\n",
    "        output = model(img)\n",
    "        preds = torch.argmax(output, dim=1)\n",
    "        \n",
    "        for item in label.cpu().numpy():\n",
    "            val_y_true.append(item)\n",
    "        for item in preds.cpu().numpy():\n",
    "            val_y_pred.append(item)"
   ]
  },
  {
   "cell_type": "code",
   "execution_count": 22,
   "metadata": {},
   "outputs": [],
   "source": [
    "labels = {0:'airplane', 1:'automobile', 2:'bird', 3:'cat', 4:'deer', 5:'dog', 6:'frog', 7:'horse', 8:'ship', 9:'truck'}\n",
    "\n",
    "train_y_true = pd.DataFrame(train_y_true).apply(lambda x : x.map(labels))\n",
    "train_y_pred = pd.DataFrame(train_y_pred).apply(lambda x : x.map(labels))\n",
    "val_y_true = pd.DataFrame(val_y_true).apply(lambda x : x.map(labels))\n",
    "val_y_pred = pd.DataFrame(val_y_pred).apply(lambda x : x.map(labels))"
   ]
  },
  {
   "cell_type": "code",
   "execution_count": 23,
   "metadata": {},
   "outputs": [
    {
     "data": {
      "text/plain": [
       "0.8027"
      ]
     },
     "execution_count": 23,
     "metadata": {},
     "output_type": "execute_result"
    }
   ],
   "source": [
    "np.max(val_acc_list)"
   ]
  },
  {
   "cell_type": "code",
   "execution_count": 24,
   "metadata": {},
   "outputs": [
    {
     "data": {
      "image/png": "[encoded data removed]",
      "text/plain": [
       "<Figure size 1152x1152 with 2 Axes>"
      ]
     },
     "metadata": {
      "needs_background": "light"
     },
     "output_type": "display_data"
    }
   ],
   "source": [
    "from sklearn.metrics import confusion_matrix\n",
    "\n",
    "plt.figure(figsize=(16, 16))\n",
    "sns.heatmap(\n",
    "    confusion_matrix(\n",
    "        train_y_true,\n",
    "        train_y_pred,\n",
    "        normalize ='true'), \n",
    "        annot=True, cmap='coolwarm'\n",
    "        )\n",
    "plt.title(\"CONFUSION MATRIX of the train dataset\", fontsize=25)\n",
    "plt.show()"
   ]
  },
  {
   "cell_type": "code",
   "execution_count": 25,
   "metadata": {},
   "outputs": [
    {
     "data": {
      "image/png": "[encoded data removed]",
      "text/plain": [
       "<Figure size 1152x1152 with 2 Axes>"
      ]
     },
     "metadata": {
      "needs_background": "light"
     },
     "output_type": "display_data"
    }
   ],
   "source": [
    "plt.figure(figsize=(16, 16))\n",
    "sns.heatmap(\n",
    "    confusion_matrix(\n",
    "        val_y_true,\n",
    "        val_y_pred,\n",
    "        normalize = 'true'), \n",
    "        annot=True, cmap='coolwarm'\n",
    "        )\n",
    "plt.title(\"CONFUSION MATRIX of the val dataset\", fontsize=25)\n",
    "plt.show()"
   ]
  },
  {
   "cell_type": "markdown",
   "metadata": {},
   "source": [
    "# 추론 \n",
    "\n",
    "이제 학습이 완료되었습니다! \n",
    "\n",
    "그럼 test 데이터를 예측해 보아요.\n",
    "\n",
    "test 데이터를 불어옵니다."
   ]
  },
  {
   "cell_type": "code",
   "execution_count": 26,
   "metadata": {},
   "outputs": [],
   "source": [
    "from glob import glob\n",
    "import PIL.Image\n",
    "import numpy as np\n",
    "\n",
    "test_images = []\n",
    "\n",
    "path = './data/'\n",
    "for filename in sorted(glob(path + \"test/*.jpg\")):\n",
    "    an_img = PIL.Image.open(filename) \n",
    "    img_array = np.array(an_img) \n",
    "    test_images.append(img_array) \n",
    "\n",
    "test_images = np.array(test_images)"
   ]
  },
  {
   "cell_type": "code",
   "execution_count": 27,
   "metadata": {},
   "outputs": [],
   "source": [
    "class CustomDataset(Dataset):\n",
    "    def __init__(self, transform):\n",
    "        self.transform = transform \n",
    "        self.img_list = test_images\n",
    "        self.img_labels = [0] * 10000 \n",
    "\n",
    "    def __len__(self):\n",
    "        return len(self.img_list)\n",
    "\n",
    "    def __getitem__(self, idx):\n",
    "        return self.transform(image=self.img_list[idx]), self.img_labels[idx]"
   ]
  },
  {
   "cell_type": "code",
   "execution_count": 28,
   "metadata": {},
   "outputs": [],
   "source": [
    "test_set = CustomDataset(transform=else_transform)\n",
    "\n",
    "test_loader = DataLoader(test_set, batch_size = test_batch_size)"
   ]
  },
  {
   "cell_type": "code",
   "execution_count": 29,
   "metadata": {},
   "outputs": [],
   "source": [
    "def test(model, loader, epoch, nb_epochs):\n",
    "\n",
    "    model.eval()\n",
    "    with torch.no_grad():\n",
    "        for idx, batch in enumerate(loader):\n",
    "            img = batch['img'].float().to(device)\n",
    "            label = batch['label'].long().to(device)\n",
    "\n",
    "            output = model(img)\n",
    "            loss = criterion(output, label)\n",
    "\n",
    "            # stats\n",
    "            preds = torch.argmax(output, dim=1)"
   ]
  },
  {
   "cell_type": "code",
   "execution_count": 30,
   "metadata": {},
   "outputs": [
    {
     "data": {
      "text/plain": [
       "torch.Size([3, 32, 32])"
      ]
     },
     "execution_count": 30,
     "metadata": {},
     "output_type": "execute_result"
    }
   ],
   "source": [
    "next(iter(test_loader))[0]['image'][0].shape"
   ]
  },
  {
   "cell_type": "markdown",
   "metadata": {},
   "source": [
    "본격적으로 test 데이터를 예측해보아요! \n",
    "\n",
    "예측을 할 때는 학습이 진행되지 않도록 net.eval() 코드를 작성해주어야 합니다. \n",
    "\n",
    "데이터가 backpropagation 되어 가중치가 수정되지 않도록 해주는 코드입니다. "
   ]
  },
  {
   "cell_type": "code",
   "execution_count": 31,
   "metadata": {},
   "outputs": [],
   "source": [
    "import pandas as pd\n",
    "sample_submission = pd.read_csv('./data/sample_submission.csv')\n",
    "\n",
    "model.eval()\n",
    "\n",
    "batch_index = 0\n",
    "with torch.no_grad():\n",
    "    for i, (images, targets) in enumerate(test_loader):\n",
    "        images = images['image'].to(device)\n",
    "        outputs = model(images)\n",
    "        batch_index = i * test_batch_size\n",
    "        max_vals, max_indices = torch.max(outputs, 1)\n",
    "        sample_submission.iloc[batch_index:batch_index + test_batch_size, 1:] = max_indices.long().cpu().numpy()[:,np.newaxis]"
   ]
  },
  {
   "cell_type": "markdown",
   "metadata": {},
   "source": [
    "예측된 데이터의 라벨은 숫자로 되어있습니다. \n",
    "\n",
    "train 데이터를 불러올 때 ImageFolder 메소드를 사용해 데이터를 불러왔기 때문입니다. \n",
    "\n",
    "제출을 위해 라벨을 다시 복원 시켜 줍니다."
   ]
  },
  {
   "cell_type": "code",
   "execution_count": 32,
   "metadata": {},
   "outputs": [],
   "source": [
    "labels = {0:'airplane', 1:'automobile', 2:'bird', 3:'cat', 4:'deer',\n",
    "          5:'dog', 6:'frog', 7:'horse', 8:'ship', 9:'truck'}\n",
    "sample_submission['target'] = sample_submission['target'].map(labels)"
   ]
  },
  {
   "cell_type": "code",
   "execution_count": 33,
   "metadata": {},
   "outputs": [
    {
     "data": {
      "text/html": [
       "<div>\n",
       "<style scoped>\n",
       "    .dataframe tbody tr th:only-of-type {\n",
       "        vertical-align: middle;\n",
       "    }\n",
       "\n",
       "    .dataframe tbody tr th {\n",
       "        vertical-align: top;\n",
       "    }\n",
       "\n",
       "    .dataframe thead th {\n",
       "        text-align: right;\n",
       "    }\n",
       "</style>\n",
       "<table border=\"1\" class=\"dataframe\">\n",
       "  <thead>\n",
       "    <tr style=\"text-align: right;\">\n",
       "      <th></th>\n",
       "      <th>id</th>\n",
       "      <th>target</th>\n",
       "    </tr>\n",
       "  </thead>\n",
       "  <tbody>\n",
       "    <tr>\n",
       "      <th>0</th>\n",
       "      <td>0000.jpg</td>\n",
       "      <td>horse</td>\n",
       "    </tr>\n",
       "    <tr>\n",
       "      <th>1</th>\n",
       "      <td>0001.jpg</td>\n",
       "      <td>bird</td>\n",
       "    </tr>\n",
       "    <tr>\n",
       "      <th>2</th>\n",
       "      <td>0002.jpg</td>\n",
       "      <td>airplane</td>\n",
       "    </tr>\n",
       "    <tr>\n",
       "      <th>3</th>\n",
       "      <td>0003.jpg</td>\n",
       "      <td>horse</td>\n",
       "    </tr>\n",
       "    <tr>\n",
       "      <th>4</th>\n",
       "      <td>0004.jpg</td>\n",
       "      <td>airplane</td>\n",
       "    </tr>\n",
       "  </tbody>\n",
       "</table>\n",
       "</div>"
      ],
      "text/plain": [
       "         id    target\n",
       "0  0000.jpg     horse\n",
       "1  0001.jpg      bird\n",
       "2  0002.jpg  airplane\n",
       "3  0003.jpg     horse\n",
       "4  0004.jpg  airplane"
      ]
     },
     "execution_count": 33,
     "metadata": {},
     "output_type": "execute_result"
    }
   ],
   "source": [
    "sample_submission.head()"
   ]
  },
  {
   "cell_type": "code",
   "execution_count": 34,
   "metadata": {},
   "outputs": [],
   "source": [
    "sample_submission.to_csv(f'{np.max(val_acc_list):.4f}_'+f'{save_name}.csv', index=False)"
   ]
  },
  {
   "cell_type": "markdown",
   "metadata": {},
   "source": [
    "축하합니다! 데이터 분석을 완료하셨습니다!\n",
    "\n",
    "앞으로도 데이콘과 함께 즐겁게 데이터 분석 능력을 키워가시면 좋겠습니다.\n",
    "\n",
    "감사합니다."
   ]
  }
 ],
 "metadata": {
  "interpreter": {
   "hash": "bad09bf3460384be675c44a59a72086f42923413dad5a47918d06fc95c7f78cf"
  },
  "kernelspec": {
   "display_name": "subin",
   "language": "python",
   "name": "python3"
  },
  "language_info": {
   "codemirror_mode": {
    "name": "ipython",
    "version": 3
   },
   "file_extension": ".py",
   "mimetype": "text/x-python",
   "name": "python",
   "nbconvert_exporter": "python",
   "pygments_lexer": "ipython3",
   "version": "3.7.7"
  }
 },
 "nbformat": 4,
 "nbformat_minor": 4
}
