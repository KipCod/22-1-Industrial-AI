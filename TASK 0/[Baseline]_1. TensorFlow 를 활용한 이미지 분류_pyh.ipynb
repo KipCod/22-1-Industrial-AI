{
 "cells": [
  {
   "cell_type": "markdown",
   "metadata": {},
   "source": [
    "# 사물 이미지 분류 경진대회 Baseline1\n",
    "\n",
    "이번 대회는 주어진 이미지의 종류를 분류하는 대회입니다. \n",
    "\n",
    "단순 이미지 분류 문제이지만 이미지 처리를 처음 시작하시는 분들은 아마도 막막하실 겁니다.\n",
    "\n",
    "따라서 간단한 CNN 모델로 자동차, 말, 새 등 10가지 카테고리의 중 이미지들을 올바른 라벨로 분류하는 코드를 제공해드립니다.\n",
    "\n",
    "베이스라인을 통해 이미지 처리 기초에 입문해보세요!"
   ]
  },
  {
   "cell_type": "markdown",
   "metadata": {},
   "source": [
    "## Convolutional Neural Network(CNN)\n",
    "\n",
    "코드로 들어가기 전 먼저 간단하게 CNN 모델을 이해하기 위한 기본 개념들을 둘러보겠습니다.\n",
    "\n",
    "### Neural Network\n",
    "\n",
    "인공지능에서 기본 개념으로 사용되는 인공신경망 뉴런은 생물학적 뉴런을 수학적으로 모델링한 것입니다.\n",
    "\n",
    "인공신경망 뉴런은 여러 입력값을 받아 일정 수준을 넘어서게 되면 활성화되고 출력값을 내보냅니다.\n",
    "\n",
    "<img src=\"https://upload.wikimedia.org/wikipedia/commons/thumb/3/3d/Neural_network.svg/1200px-Neural_network.svg.png?20210102213114\" alt=\"neuralnetwork_image\" height=\"700\" width=\"600\"/>\n",
    "\n",
    "[이미지 출처](https://commons.wikimedia.org/wiki/File:Neural_network.svg)\n",
    "\n",
    "#### Sigmoid\n",
    "\n",
    "여기서 사용되는 함수가 바로 \"Sigmoid\"입니다.\n",
    "\n",
    "sigmoid 함수는 활성화 함수(Activation function)로 많이 사용되며 보통 0.5 미만은 0, 이상은 1을 출력하게 됩니다.\n",
    "\n",
    "#### sigmoid(x) = 1 / 1 + exp(-x)\n",
    "\n",
    "그래프는 다음과 같습니다.\n",
    "\n",
    "<img src=\"https://upload.wikimedia.org/wikipedia/commons/thumb/5/53/Sigmoid-function-2.svg/1600px-Sigmoid-function-2.svg.png?20160528050132\" alt=\"sigmoid_image\" height=\"700\" width=\"600\"/>\n",
    "\n",
    "[이미지 출처](https://commons.wikimedia.org/wiki/File:Sigmoid-function-2.svg)\n",
    "\n",
    "그러나 이런 sigmoid 함수에는 단점이 있습니다. \n",
    "\n",
    "그래프를 보시면 양 극단 값의 기울기(미분값)이 0에 가까워져 학습이 되지 않는 문제가 발생합니다. 이를 Gradient Vanishing 문제라고 하는데 이러한 문제를 해결하기 위해 다양한 활성화 함수들이 고안되었습니다.\n",
    "\n",
    "#### ReLU\n",
    "\n",
    "ReLU 함수는 그렇게 고안된 활성화 함수 중 하나로, Gradient Vanishing 문제를 해결 가능합니다.\n",
    "\n",
    "#### relu(x) = 0 if x < 0 else max(0,x)\n",
    "\n",
    "위 식과 같이 ReLU 함수는 입력값을 0과 비교해 둘 중 큰 값을 출력합니다.\n",
    "\n",
    "따라서 계산이 빠르고 양 극단값이 포화되지 않는다는 장점이 있습니다.\n",
    "\n",
    "그러나 여전히 음수인 경우에는 0을 출력하여 학습이 이루어지지 않는다는 단점이 존재합니다.\n",
    "\n",
    "<img src=\"https://www.researchgate.net/publication/340644173/figure/fig3/AS:880423093673984@1586920631034/4a-Graph-of-the-ReLU-function-4b-Graph-of-gradient-of-ReLU-function.ppm\" alt=\"relu_image\" height=\"700\" width=\"600\"/>\n",
    "\n",
    "### Perceptron\n",
    "\n",
    "퍼셉트론이란 신경망의 기원이 되는 개념으로, Frank Rosenblatt이 1957년 고안한 알고리즘입니다.\n",
    "\n",
    "이는 여러 신호를 입력받아 0(흐르지 않는다) 또는 1(흐른다)이라는 출력값을 앞으로 전달합니다.\n",
    "\n",
    "<img src=\"https://upload.wikimedia.org/wikipedia/commons/thumb/6/6a/Perceptron-unit.svg/1278px-Perceptron-unit.svg.png?20160606160836\" alt=\"preceptron_image\" height=\"700\" width=\"600\"/>\n",
    "\n",
    "[이미지 출처](https://commons.wikimedia.org/wiki/File:Perceptron-unit.svg)\n",
    "\n",
    "\n",
    "각 입력 신호 X는 각 가중치 w와 곱해집니다. 가중치가 클수록 그 신호가 중요하다는 뜻입니다.\n",
    "\n",
    "그러나 퍼셉트론은 단순한 선형 분류기로, AND나 OR과 같은 분류는 가능하나 XOR 분류는 불가능합니다.\n",
    "\n",
    "\n",
    "### MLP(Multi-Layer Perceptron)\n",
    "\n",
    "직선형 영역만 표시할 수 있는 단층 퍼셉트론의 한계를 극복하기 위해 고안된 것이 다층 퍼셉트론입니다.\n",
    "\n",
    "<img src=\"https://upload.wikimedia.org/wikipedia/commons/2/28/MultiLayerPerceptron.png?20120416020124\" alt=\"preceptron_image\" height=\"700\" width=\"600\"/>\n",
    "\n",
    "[이미지 출처](https://commons.wikimedia.org/wiki/File:MultiLayerPerceptron.png)\n",
    "\n",
    "XOR 문제의 경우 각 영역을 직선으로 분리가 불가능한데, 비선형 영역까지 표현 가능한 다층 퍼셉트론으로 XOR 게이트까지 구현할 수 있습니다.\n",
    "\n",
    "더 자세한 내용이 궁금하다면 [여기](https://brunch.co.kr/@gdhan/6)를 참고하세요!"
   ]
  },
  {
   "cell_type": "markdown",
   "metadata": {},
   "source": [
    "## 환경 설정 및 데이터 로드\n",
    "\n",
    "이제 분석할 데이터를 작업장으로 가져오겠습니다."
   ]
  },
  {
   "cell_type": "code",
   "execution_count": 1,
   "metadata": {},
   "outputs": [],
   "source": [
    "import os\n",
    "import warnings\n",
    "warnings.filterwarnings(action='ignore')\n",
    "\n",
    "os.environ[\"CUDA_VISIBLE_DEVICES\"]=\"0\" # GPU 할당"
   ]
  },
  {
   "cell_type": "code",
   "execution_count": 2,
   "metadata": {},
   "outputs": [
    {
     "name": "stdout",
     "output_type": "stream",
     "text": [
      "(50000, 32, 32, 3)\n",
      "(50000, 1)\n"
     ]
    }
   ],
   "source": [
    "#create training dataset\n",
    "from glob import glob\n",
    "import numpy as np\n",
    "import PIL\n",
    "from PIL import Image\n",
    "\n",
    "# from keras.datasets import cifar10\n",
    "# (training_images, training_labels), (test_images, test_labels) = cifar10.load_data()\n",
    "\n",
    "path = './data/train/'\n",
    "\n",
    "training_images = []\n",
    "training_labels = []\n",
    "\n",
    "for filename in glob(path +\"*\"):\n",
    "    for img in glob(filename + \"/*.jpg\"):\n",
    "        an_img = PIL.Image.open(img) #read img\n",
    "        img_array = np.array(an_img) #img to array\n",
    "        training_images.append(img_array) #append array to training_images \n",
    "        label = filename.split('\\\\')[1] #get label\n",
    "        training_labels.append(label) #append label\n",
    "        \n",
    "training_images = np.array(training_images)\n",
    "training_labels = np.array(training_labels)\n",
    "\n",
    "from sklearn.preprocessing import LabelEncoder\n",
    "\n",
    "le = LabelEncoder()\n",
    "training_labels= le.fit_transform(training_labels)\n",
    "training_labels = training_labels.reshape(-1,1)\n",
    "\n",
    "print(training_images.shape)\n",
    "print(training_labels.shape)"
   ]
  },
  {
   "cell_type": "code",
   "execution_count": 3,
   "metadata": {},
   "outputs": [
    {
     "name": "stdout",
     "output_type": "stream",
     "text": [
      "(10000, 32, 32, 3)\n",
      "['0000.jpg', '0001.jpg', '0002.jpg', '0003.jpg', '0004.jpg']\n"
     ]
    }
   ],
   "source": [
    "# create test dataset\n",
    "\n",
    "path = './data/test/'\n",
    "\n",
    "test_images = []\n",
    "test_idx = []\n",
    "\n",
    "flist = sorted(glob(path + '*.jpg'))\n",
    "\n",
    "for filename in flist:\n",
    "    an_img = PIL.Image.open(filename) #read img\n",
    "    img_array = np.array(an_img) #img to array\n",
    "    test_images.append(img_array) #append array to training_images \n",
    "    \n",
    "    label = filename.split('\\\\')[1] #get id \n",
    "    test_idx.append(label) #append id\n",
    "    \n",
    "test_images = np.array(test_images)\n",
    "\n",
    "print(test_images.shape)\n",
    "print(test_idx[0:5])"
   ]
  },
  {
   "cell_type": "code",
   "execution_count": 4,
   "metadata": {},
   "outputs": [
    {
     "name": "stdout",
     "output_type": "stream",
     "text": [
      "(50000, 32, 32, 3)\n",
      "(50000, 1)\n",
      "(10000, 32, 32, 3)\n",
      "['0000.jpg', '0001.jpg', '0002.jpg', '0003.jpg', '0004.jpg']\n"
     ]
    }
   ],
   "source": [
    "print(training_images.shape)\n",
    "print(training_labels.shape)\n",
    "print(test_images.shape)\n",
    "print(test_idx[0:5])"
   ]
  },
  {
   "cell_type": "markdown",
   "metadata": {},
   "source": [
    "불러온 데이터셋을 살펴보겠습니다."
   ]
  },
  {
   "cell_type": "code",
   "execution_count": 5,
   "metadata": {},
   "outputs": [
    {
     "name": "stdout",
     "output_type": "stream",
     "text": [
      "[0],[0],[0],[0],[0],[0],[0],[0],[0],[0],"
     ]
    },
    {
     "data": {
      "image/png": "[encoded data removed]",
      "text/plain": [
       "<Figure size 432x288 with 10 Axes>"
      ]
     },
     "metadata": {
      "needs_background": "light"
     },
     "output_type": "display_data"
    }
   ],
   "source": [
    "import matplotlib.pyplot as plt\n",
    "%matplotlib inline\n",
    "\n",
    "for i in range(10):\n",
    "    plt.subplot(2, 5, i + 1)\n",
    "    plt.imshow(training_images[i])\n",
    "    print(training_labels[i], end=\",\")\n",
    "plt.show()"
   ]
  },
  {
   "cell_type": "markdown",
   "metadata": {},
   "source": [
    "이미지를 살펴보면 10가지 종류의 이미지들이 존재하며 0부터 9까지 10개의 라벨이 달려있습니다. \n",
    "\n",
    "CIFAR-10 이미지 데이터셋을 분류하기 위해 CNN의 기본 개념을 이해하고 데이터셋에 적용해보도록 하겠습니다.\n",
    "\n",
    "우리의 목표는 CNN 모델을 통해 10가지 종류의 이미지들을 각 레이블에 맞게 분류하는 것입니다."
   ]
  },
  {
   "cell_type": "markdown",
   "metadata": {},
   "source": [
    "## 데이터셋 준비\n",
    "데이터셋을 X와 y로 분리하고, train 이미지 데이터셋을 학습용과 검증용으로 나누어줍니다."
   ]
  },
  {
   "cell_type": "code",
   "execution_count": 6,
   "metadata": {},
   "outputs": [],
   "source": [
    "from sklearn.model_selection import train_test_split\n",
    "\n",
    "X_train, X_valid, y_train, y_valid = train_test_split(training_images, training_labels, test_size=0.2, random_state=42)\n",
    "\n",
    "X_test = test_images"
   ]
  },
  {
   "cell_type": "code",
   "execution_count": 7,
   "metadata": {},
   "outputs": [
    {
     "name": "stdout",
     "output_type": "stream",
     "text": [
      "X_train 크기: (40000, 32, 32, 3)\n",
      "X_valid 크기: (10000, 32, 32, 3)\n",
      "X_test  크기: (10000, 32, 32, 3)\n"
     ]
    }
   ],
   "source": [
    "print('X_train 크기:',X_train.shape)\n",
    "print('X_valid 크기:',X_valid.shape)\n",
    "print('X_test  크기:',X_test.shape)"
   ]
  },
  {
   "cell_type": "markdown",
   "metadata": {},
   "source": [
    "이미지의 RGB 채널은 각각 0~255까지의 값을 갖고 있기 때문에 \n",
    "\n",
    "255로 나누어 0에서 1 사이 값을 갖도록 normalization을 해줍니다."
   ]
  },
  {
   "cell_type": "code",
   "execution_count": 8,
   "metadata": {},
   "outputs": [],
   "source": [
    "X_train = X_train / 255.0\n",
    "X_valid = X_valid / 255.0\n",
    "X_test = X_test / 255.0"
   ]
  },
  {
   "cell_type": "markdown",
   "metadata": {},
   "source": [
    "## CNN 모델 설계\n",
    "\n",
    "필요한 layer들을 추가하며 CNN 모델을 설계합니다.\n",
    "\n",
    "자세한 내용은 뒤에 이어서 설명하겠습니다."
   ]
  },
  {
   "cell_type": "code",
   "execution_count": 9,
   "metadata": {},
   "outputs": [],
   "source": [
    "import tensorflow as tf\n",
    "\n",
    "model = tf.keras.models.Sequential([\n",
    "    tf.keras.layers.Conv2D(16, (3,3), activation='relu', padding='SAME',input_shape=(32, 32, 3)), #cnn layer\n",
    "    tf.keras.layers.MaxPooling2D(2, 2, padding='SAME'), #pooling layer\n",
    "    tf.keras.layers.Dropout(0.23), # 무작위로 퍼셉트론 비활성화(23%)\n",
    "    tf.keras.layers.Conv2D(32, (3,3), activation='relu', padding='SAME'),\n",
    "    tf.keras.layers.MaxPooling2D(2, 2, padding='SAME'),\n",
    "    tf.keras.layers.Dropout(0.23),\n",
    "    tf.keras.layers.Conv2D(32, (3,3), activation='relu', padding='SAME'),\n",
    "    tf.keras.layers.MaxPooling2D(2, 2, padding='SAME'),\n",
    "    tf.keras.layers.Dropout(0.23),\n",
    "    tf.keras.layers.Flatten(), # N차원 배열 -> 1차원 배열\n",
    "    tf.keras.layers.Dense(1024, activation = 'relu'), #fully connected layer\n",
    "    tf.keras.layers.Dropout(0.5),\n",
    "    tf.keras.layers.Dense(10, activation = 'softmax') # ouput layer\n",
    "])"
   ]
  },
  {
   "cell_type": "markdown",
   "metadata": {},
   "source": [
    "이제 위 모델에서 사용한 각 Layer들에 대해 살펴보겠습니다.\n",
    "\n",
    "### Convoultion Layer\n",
    "\n",
    "Convolution Layer에서는 이미지의 특징(feature map)을 추출해내는 역할을 합니다.\n",
    "\n",
    "입력 데이터가 주어지면 필터를 이용해 특징을 추출한 다음 아웃풋을 내보냅니다.\n",
    "\n",
    "이 필터는 커널(Kernel) 혹은 가중치의 배열이라고도 부르며 이 값을 조정하는 것이 곧 학습을 의미합니다.\n",
    "\n",
    "첫번째 Convolution Layer에서는 3x3 크기의 커널을 사용했습니다. 이는 곧 학습해야 할 가중치가 9개라는 뜻입니다.\n",
    "\n",
    "* Stride\n",
    "\n",
    "커널을 이동시키는 거리입니다. 특별한 언급이 없다면 1로 가정합니다.\n",
    "\n",
    "Convolution을 하게되면 입력 데이터의 크기가 자연스럽게 줄어들게 되는데, 주변에 값이 0인 셀들을 추가(Padding)해서 입력 데이터의 크기를 유지시키기도 합니다.\n",
    "\n",
    "[참고](https://hdevstudy.tistory.com/116)\n",
    "\n",
    "* Padding\n",
    "\n",
    "zero padding은 이미지 주위에 0을 둘러서 이미지 데이터의 축소를 방지해주는 역할을 합니다.\n",
    "\n",
    "필터로 인해 특징이 추출되면 자연스럽게 크기가 작아지는데, 이미지 벡터들 가장자리에 0을 채워 Convolution Layer를 통과할 때 크기를 동일하게 유지시켜줄 수 있습니다.\n",
    "\n",
    "<img src=\"https://upload.wikimedia.org/wikipedia/commons/2/2d/Convolution_arithmetic_-_Padding_strides_odd.gif\" />\n",
    "\n",
    "### Pooling Layer - Max Pooling\n",
    "\n",
    "Pooling Layer는 데이터의 공간적 크기를 축소하는데 사용합니다.\n",
    "\n",
    "보통 이 레이어에서 이미지의 크기를 조절하며, CNN에서는 주로 Max-Pooling 방식을 사용합니다.\n",
    "\n",
    "Conv layer 는 이미지의 특정 영역의 특징을 잡아내는 역할이라면, Pooling 은 이미지의 크기를 줄이는 동시에 이미지의 전체의 특징 또한 보존합니다. \n",
    "\n",
    "따라서 Pooling 은 모델로 하여금 이미지 전체를 볼 수 있게 도와줍니다.\n",
    "\n",
    "Max Pooling에서는 선택된 영역에서 가장 큰 값을 뽑아 대표값으로 설정하는 방식입니다.\n",
    "\n",
    "이를 통해 학습 시간을 단축하고 오버피팅 문제를 완화할 수 있습니다. \n",
    "\n",
    "<img src=\"https://upload.wikimedia.org/wikipedia/commons/e/e9/Max_pooling.png?20151216202132\" />\n",
    "\n",
    "\n",
    "### Dropout\n",
    "\n",
    "Drop Out 방식은 뉴럴 네트워크의 유닛(뉴런)들을 랜덤으로 비활성화 하여 과적합(Overfittng)을 방지하기 위한 기법입니다.\n",
    "\n",
    "### Fully Connected Layer\n",
    "\n",
    "*  Flatten Layer\n",
    "\n",
    "N차원 배열을 1차원으로 변환합니다.\n",
    "\n",
    "* Dense Layer \n",
    "\n",
    "1차원 배열을 뉴럴넷에 입력해 줍니다. \n",
    "\n",
    "이때, Dense Layer 는 오로지 퍼셉트론이로 이루어진 layer 입니다.\n",
    "\n",
    "\n",
    "* Softmax\n",
    "\n",
    "Softmax는 활성화 함수의 일종이며 마지막 layer 에서 class 별 확률를 출력하기 위해 사용됩니다. "
   ]
  },
  {
   "cell_type": "code",
   "execution_count": 10,
   "metadata": {},
   "outputs": [],
   "source": [
    "model.compile(optimizer='adam', loss = 'sparse_categorical_crossentropy', metrics=['accuracy'])"
   ]
  },
  {
   "cell_type": "markdown",
   "metadata": {},
   "source": [
    "* Loss Functinon (손실 함수)\n",
    "\n",
    "이때 Loss Function 은 실재 값과 모델이 예측한 값의 거리를 출력하는 함수 입니다.\n",
    "\n",
    "쉽게 말해 Loss Function 은 모델의 예측이 얼마나 틀렸는지를 알려주는 함수 입니다.\n",
    "\n",
    "이 때 \"모델의 예측이 얼마나 틀렸는지\" 를 어떻게 정의하느냐에 따라 어떤 Loss Function 을 사용할 지가 정해집니다.\n",
    "\n",
    "----\n",
    "\n",
    "이번 베이스라인에서는 최적화 함수로는 Adam 함수를 사용했고, 손실함수로는 'sparse_categorical_crossentropy', 그리고 평가지표로는 정확도를 사용했습니다.\n",
    "\n",
    "모델을 완성했으면 summary() 함수를 통해 모델의 세부 내용를 요약 출력해봅니다."
   ]
  },
  {
   "cell_type": "code",
   "execution_count": 11,
   "metadata": {},
   "outputs": [
    {
     "name": "stdout",
     "output_type": "stream",
     "text": [
      "Model: \"sequential\"\n",
      "_________________________________________________________________\n",
      " Layer (type)                Output Shape              Param #   \n",
      "=================================================================\n",
      " conv2d (Conv2D)             (None, 32, 32, 16)        448       \n",
      "                                                                 \n",
      " max_pooling2d (MaxPooling2D  (None, 16, 16, 16)       0         \n",
      " )                                                               \n",
      "                                                                 \n",
      " dropout (Dropout)           (None, 16, 16, 16)        0         \n",
      "                                                                 \n",
      " conv2d_1 (Conv2D)           (None, 16, 16, 32)        4640      \n",
      "                                                                 \n",
      " max_pooling2d_1 (MaxPooling  (None, 8, 8, 32)         0         \n",
      " 2D)                                                             \n",
      "                                                                 \n",
      " dropout_1 (Dropout)         (None, 8, 8, 32)          0         \n",
      "                                                                 \n",
      " conv2d_2 (Conv2D)           (None, 8, 8, 32)          9248      \n",
      "                                                                 \n",
      " max_pooling2d_2 (MaxPooling  (None, 4, 4, 32)         0         \n",
      " 2D)                                                             \n",
      "                                                                 \n",
      " dropout_2 (Dropout)         (None, 4, 4, 32)          0         \n",
      "                                                                 \n",
      " flatten (Flatten)           (None, 512)               0         \n",
      "                                                                 \n",
      " dense (Dense)               (None, 1024)              525312    \n",
      "                                                                 \n",
      " dropout_3 (Dropout)         (None, 1024)              0         \n",
      "                                                                 \n",
      " dense_1 (Dense)             (None, 10)                10250     \n",
      "                                                                 \n",
      "=================================================================\n",
      "Total params: 549,898\n",
      "Trainable params: 549,898\n",
      "Non-trainable params: 0\n",
      "_________________________________________________________________\n"
     ]
    }
   ],
   "source": [
    "model.summary()"
   ]
  },
  {
   "cell_type": "markdown",
   "metadata": {},
   "source": [
    "## 학습\n",
    "### batch size\n",
    "\n",
    "batch size란 cpu 또는 gpu 연산 시, 하드웨어로 로드되는 데이터의 개수 입니다. \n",
    "\n",
    "본인의 컴퓨팅 환경에 따라 batch size 를 조절하는 것이 좋습니다. \n",
    "\n",
    "gpu 를 사용하는 경우 본인의 gpu 메모리 용량을 고려하여 batch size 를 설정해 주어야 합니다.\n",
    "\n",
    "batch size 는 모델 학습 과정에 영향을 끼치기도 합니다. \n",
    "\n",
    "따라서 하드웨어 상황을 고려하면서도 학습 과정 또한 고려하여 batch size 를 설정해 주어야 합니다.\n",
    "\n",
    "### epoch\n",
    "\n",
    "딥러닝에서 epoch는 전체 트레이닝 셋이 신경망을 통과한 횟수입니다. \n",
    "\n",
    "1-epoch는 전체 트레이닝 셋이 하나의 신경망에 적용되어 순전파와 역전파를 통해 신경망을 한 번 통과했다는 뜻입니다.\n",
    "\n",
    "epoch 은 많을 수록 학습이 잘되는 것이 아닙니다.\n",
    "\n",
    "epoch 이 너무 적을 경우 학습이 덜 이루어지는 경우가 있고, epoch 이 너무 많을 경우 과적합이 되는 경우가 있습니다.\n",
    "\n",
    "따라서 적절한 epoch 을 설정해 주어야 합니다. \n",
    "\n",
    "이때 validation loss 와 accuracy 은 epoch 을 언제 중단 할지 모니터링 하는 용도로 사용되기도 합니다.\n",
    "\n",
    "자, 이제 CNN 모델 설계를 완료했으니 다음과 같이 배치 사이즈와 에폭을 설정하여 모델을 학습시키겠습니다."
   ]
  },
  {
   "cell_type": "code",
   "execution_count": 12,
   "metadata": {},
   "outputs": [
    {
     "name": "stdout",
     "output_type": "stream",
     "text": [
      "Epoch 1/10\n",
      "313/313 [==============================] - 36s 111ms/step - loss: 1.7978 - accuracy: 0.3391 - val_loss: 1.5600 - val_accuracy: 0.4432\n",
      "Epoch 2/10\n",
      "313/313 [==============================] - 31s 100ms/step - loss: 1.4998 - accuracy: 0.4526 - val_loss: 1.4250 - val_accuracy: 0.4960\n",
      "Epoch 3/10\n",
      "313/313 [==============================] - 38s 122ms/step - loss: 1.3758 - accuracy: 0.5007 - val_loss: 1.2798 - val_accuracy: 0.5451\n",
      "Epoch 4/10\n",
      "313/313 [==============================] - 37s 119ms/step - loss: 1.2949 - accuracy: 0.5328 - val_loss: 1.1817 - val_accuracy: 0.5833\n",
      "Epoch 5/10\n",
      "313/313 [==============================] - 41s 131ms/step - loss: 1.2314 - accuracy: 0.5605 - val_loss: 1.1270 - val_accuracy: 0.6068\n",
      "Epoch 6/10\n",
      "313/313 [==============================] - 44s 139ms/step - loss: 1.1871 - accuracy: 0.5753 - val_loss: 1.0771 - val_accuracy: 0.6173\n",
      "Epoch 7/10\n",
      "313/313 [==============================] - 41s 131ms/step - loss: 1.1389 - accuracy: 0.5963 - val_loss: 1.0495 - val_accuracy: 0.6286\n",
      "Epoch 8/10\n",
      "313/313 [==============================] - 36s 116ms/step - loss: 1.0994 - accuracy: 0.6065 - val_loss: 1.0103 - val_accuracy: 0.6492\n",
      "Epoch 9/10\n",
      "313/313 [==============================] - 37s 118ms/step - loss: 1.0737 - accuracy: 0.6185 - val_loss: 1.0015 - val_accuracy: 0.6494\n",
      "Epoch 10/10\n",
      "313/313 [==============================] - 36s 116ms/step - loss: 1.0459 - accuracy: 0.6286 - val_loss: 0.9447 - val_accuracy: 0.6713\n"
     ]
    },
    {
     "data": {
      "text/plain": [
       "<keras.callbacks.History at 0x2b14180ad00>"
      ]
     },
     "execution_count": 12,
     "metadata": {},
     "output_type": "execute_result"
    }
   ],
   "source": [
    "model.fit(X_train, y_train, validation_data=(X_valid, y_valid), epochs=10, batch_size=128)"
   ]
  },
  {
   "cell_type": "markdown",
   "metadata": {},
   "source": [
    "# 추론"
   ]
  },
  {
   "cell_type": "code",
   "execution_count": 13,
   "metadata": {},
   "outputs": [
    {
     "data": {
      "text/plain": [
       "array(['horse', 'frog', 'truck', 'dog', 'airplane'], dtype='<U10')"
      ]
     },
     "execution_count": 13,
     "metadata": {},
     "output_type": "execute_result"
    }
   ],
   "source": [
    "pred_proba = model.predict(X_test) \n",
    "\n",
    "pred_class = []\n",
    "\n",
    "for i in pred_proba:\n",
    "    pred = np.argmax(i)\n",
    "    pred_class.append(pred)\n",
    "    \n",
    "pred_class = le.inverse_transform(pred_class)\n",
    "pred_class[0:5]"
   ]
  },
  {
   "cell_type": "markdown",
   "metadata": {},
   "source": [
    "# Dacon 대회 제출"
   ]
  },
  {
   "cell_type": "code",
   "execution_count": 18,
   "metadata": {},
   "outputs": [
    {
     "ename": "FileNotFoundError",
     "evalue": "[Errno 2] No such file or directory: './data/sample_submission.csv'",
     "output_type": "error",
     "traceback": [
      "\u001b[1;31m---------------------------------------------------------------------------\u001b[0m",
      "\u001b[1;31mFileNotFoundError\u001b[0m                         Traceback (most recent call last)",
      "\u001b[1;32m~\\AppData\\Local\\Temp/ipykernel_10396/2566610764.py\u001b[0m in \u001b[0;36m<module>\u001b[1;34m\u001b[0m\n\u001b[0;32m      1\u001b[0m \u001b[1;32mimport\u001b[0m \u001b[0mpandas\u001b[0m \u001b[1;32mas\u001b[0m \u001b[0mpd\u001b[0m\u001b[1;33m\u001b[0m\u001b[1;33m\u001b[0m\u001b[0m\n\u001b[0;32m      2\u001b[0m \u001b[1;33m\u001b[0m\u001b[0m\n\u001b[1;32m----> 3\u001b[1;33m \u001b[0msample_submission\u001b[0m \u001b[1;33m=\u001b[0m \u001b[0mpd\u001b[0m\u001b[1;33m.\u001b[0m\u001b[0mread_csv\u001b[0m\u001b[1;33m(\u001b[0m\u001b[1;34m\"./data/sample_submission.csv\"\u001b[0m\u001b[1;33m)\u001b[0m\u001b[1;33m\u001b[0m\u001b[1;33m\u001b[0m\u001b[0m\n\u001b[0m\u001b[0;32m      4\u001b[0m \u001b[1;33m\u001b[0m\u001b[0m\n\u001b[0;32m      5\u001b[0m \u001b[0msample_submission\u001b[0m\u001b[1;33m.\u001b[0m\u001b[0mtarget\u001b[0m \u001b[1;33m=\u001b[0m \u001b[0mpred_class\u001b[0m\u001b[1;33m\u001b[0m\u001b[1;33m\u001b[0m\u001b[0m\n",
      "\u001b[1;32m~\\Anaconda3\\lib\\site-packages\\pandas\\util\\_decorators.py\u001b[0m in \u001b[0;36mwrapper\u001b[1;34m(*args, **kwargs)\u001b[0m\n\u001b[0;32m    309\u001b[0m                     \u001b[0mstacklevel\u001b[0m\u001b[1;33m=\u001b[0m\u001b[0mstacklevel\u001b[0m\u001b[1;33m,\u001b[0m\u001b[1;33m\u001b[0m\u001b[1;33m\u001b[0m\u001b[0m\n\u001b[0;32m    310\u001b[0m                 )\n\u001b[1;32m--> 311\u001b[1;33m             \u001b[1;32mreturn\u001b[0m \u001b[0mfunc\u001b[0m\u001b[1;33m(\u001b[0m\u001b[1;33m*\u001b[0m\u001b[0margs\u001b[0m\u001b[1;33m,\u001b[0m \u001b[1;33m**\u001b[0m\u001b[0mkwargs\u001b[0m\u001b[1;33m)\u001b[0m\u001b[1;33m\u001b[0m\u001b[1;33m\u001b[0m\u001b[0m\n\u001b[0m\u001b[0;32m    312\u001b[0m \u001b[1;33m\u001b[0m\u001b[0m\n\u001b[0;32m    313\u001b[0m         \u001b[1;32mreturn\u001b[0m \u001b[0mwrapper\u001b[0m\u001b[1;33m\u001b[0m\u001b[1;33m\u001b[0m\u001b[0m\n",
      "\u001b[1;32m~\\Anaconda3\\lib\\site-packages\\pandas\\io\\parsers\\readers.py\u001b[0m in \u001b[0;36mread_csv\u001b[1;34m(filepath_or_buffer, sep, delimiter, header, names, index_col, usecols, squeeze, prefix, mangle_dupe_cols, dtype, engine, converters, true_values, false_values, skipinitialspace, skiprows, skipfooter, nrows, na_values, keep_default_na, na_filter, verbose, skip_blank_lines, parse_dates, infer_datetime_format, keep_date_col, date_parser, dayfirst, cache_dates, iterator, chunksize, compression, thousands, decimal, lineterminator, quotechar, quoting, doublequote, escapechar, comment, encoding, encoding_errors, dialect, error_bad_lines, warn_bad_lines, on_bad_lines, delim_whitespace, low_memory, memory_map, float_precision, storage_options)\u001b[0m\n\u001b[0;32m    584\u001b[0m     \u001b[0mkwds\u001b[0m\u001b[1;33m.\u001b[0m\u001b[0mupdate\u001b[0m\u001b[1;33m(\u001b[0m\u001b[0mkwds_defaults\u001b[0m\u001b[1;33m)\u001b[0m\u001b[1;33m\u001b[0m\u001b[1;33m\u001b[0m\u001b[0m\n\u001b[0;32m    585\u001b[0m \u001b[1;33m\u001b[0m\u001b[0m\n\u001b[1;32m--> 586\u001b[1;33m     \u001b[1;32mreturn\u001b[0m \u001b[0m_read\u001b[0m\u001b[1;33m(\u001b[0m\u001b[0mfilepath_or_buffer\u001b[0m\u001b[1;33m,\u001b[0m \u001b[0mkwds\u001b[0m\u001b[1;33m)\u001b[0m\u001b[1;33m\u001b[0m\u001b[1;33m\u001b[0m\u001b[0m\n\u001b[0m\u001b[0;32m    587\u001b[0m \u001b[1;33m\u001b[0m\u001b[0m\n\u001b[0;32m    588\u001b[0m \u001b[1;33m\u001b[0m\u001b[0m\n",
      "\u001b[1;32m~\\Anaconda3\\lib\\site-packages\\pandas\\io\\parsers\\readers.py\u001b[0m in \u001b[0;36m_read\u001b[1;34m(filepath_or_buffer, kwds)\u001b[0m\n\u001b[0;32m    480\u001b[0m \u001b[1;33m\u001b[0m\u001b[0m\n\u001b[0;32m    481\u001b[0m     \u001b[1;31m# Create the parser.\u001b[0m\u001b[1;33m\u001b[0m\u001b[1;33m\u001b[0m\u001b[0m\n\u001b[1;32m--> 482\u001b[1;33m     \u001b[0mparser\u001b[0m \u001b[1;33m=\u001b[0m \u001b[0mTextFileReader\u001b[0m\u001b[1;33m(\u001b[0m\u001b[0mfilepath_or_buffer\u001b[0m\u001b[1;33m,\u001b[0m \u001b[1;33m**\u001b[0m\u001b[0mkwds\u001b[0m\u001b[1;33m)\u001b[0m\u001b[1;33m\u001b[0m\u001b[1;33m\u001b[0m\u001b[0m\n\u001b[0m\u001b[0;32m    483\u001b[0m \u001b[1;33m\u001b[0m\u001b[0m\n\u001b[0;32m    484\u001b[0m     \u001b[1;32mif\u001b[0m \u001b[0mchunksize\u001b[0m \u001b[1;32mor\u001b[0m \u001b[0miterator\u001b[0m\u001b[1;33m:\u001b[0m\u001b[1;33m\u001b[0m\u001b[1;33m\u001b[0m\u001b[0m\n",
      "\u001b[1;32m~\\Anaconda3\\lib\\site-packages\\pandas\\io\\parsers\\readers.py\u001b[0m in \u001b[0;36m__init__\u001b[1;34m(self, f, engine, **kwds)\u001b[0m\n\u001b[0;32m    809\u001b[0m             \u001b[0mself\u001b[0m\u001b[1;33m.\u001b[0m\u001b[0moptions\u001b[0m\u001b[1;33m[\u001b[0m\u001b[1;34m\"has_index_names\"\u001b[0m\u001b[1;33m]\u001b[0m \u001b[1;33m=\u001b[0m \u001b[0mkwds\u001b[0m\u001b[1;33m[\u001b[0m\u001b[1;34m\"has_index_names\"\u001b[0m\u001b[1;33m]\u001b[0m\u001b[1;33m\u001b[0m\u001b[1;33m\u001b[0m\u001b[0m\n\u001b[0;32m    810\u001b[0m \u001b[1;33m\u001b[0m\u001b[0m\n\u001b[1;32m--> 811\u001b[1;33m         \u001b[0mself\u001b[0m\u001b[1;33m.\u001b[0m\u001b[0m_engine\u001b[0m \u001b[1;33m=\u001b[0m \u001b[0mself\u001b[0m\u001b[1;33m.\u001b[0m\u001b[0m_make_engine\u001b[0m\u001b[1;33m(\u001b[0m\u001b[0mself\u001b[0m\u001b[1;33m.\u001b[0m\u001b[0mengine\u001b[0m\u001b[1;33m)\u001b[0m\u001b[1;33m\u001b[0m\u001b[1;33m\u001b[0m\u001b[0m\n\u001b[0m\u001b[0;32m    812\u001b[0m \u001b[1;33m\u001b[0m\u001b[0m\n\u001b[0;32m    813\u001b[0m     \u001b[1;32mdef\u001b[0m \u001b[0mclose\u001b[0m\u001b[1;33m(\u001b[0m\u001b[0mself\u001b[0m\u001b[1;33m)\u001b[0m\u001b[1;33m:\u001b[0m\u001b[1;33m\u001b[0m\u001b[1;33m\u001b[0m\u001b[0m\n",
      "\u001b[1;32m~\\Anaconda3\\lib\\site-packages\\pandas\\io\\parsers\\readers.py\u001b[0m in \u001b[0;36m_make_engine\u001b[1;34m(self, engine)\u001b[0m\n\u001b[0;32m   1038\u001b[0m             )\n\u001b[0;32m   1039\u001b[0m         \u001b[1;31m# error: Too many arguments for \"ParserBase\"\u001b[0m\u001b[1;33m\u001b[0m\u001b[1;33m\u001b[0m\u001b[0m\n\u001b[1;32m-> 1040\u001b[1;33m         \u001b[1;32mreturn\u001b[0m \u001b[0mmapping\u001b[0m\u001b[1;33m[\u001b[0m\u001b[0mengine\u001b[0m\u001b[1;33m]\u001b[0m\u001b[1;33m(\u001b[0m\u001b[0mself\u001b[0m\u001b[1;33m.\u001b[0m\u001b[0mf\u001b[0m\u001b[1;33m,\u001b[0m \u001b[1;33m**\u001b[0m\u001b[0mself\u001b[0m\u001b[1;33m.\u001b[0m\u001b[0moptions\u001b[0m\u001b[1;33m)\u001b[0m  \u001b[1;31m# type: ignore[call-arg]\u001b[0m\u001b[1;33m\u001b[0m\u001b[1;33m\u001b[0m\u001b[0m\n\u001b[0m\u001b[0;32m   1041\u001b[0m \u001b[1;33m\u001b[0m\u001b[0m\n\u001b[0;32m   1042\u001b[0m     \u001b[1;32mdef\u001b[0m \u001b[0m_failover_to_python\u001b[0m\u001b[1;33m(\u001b[0m\u001b[0mself\u001b[0m\u001b[1;33m)\u001b[0m\u001b[1;33m:\u001b[0m\u001b[1;33m\u001b[0m\u001b[1;33m\u001b[0m\u001b[0m\n",
      "\u001b[1;32m~\\Anaconda3\\lib\\site-packages\\pandas\\io\\parsers\\c_parser_wrapper.py\u001b[0m in \u001b[0;36m__init__\u001b[1;34m(self, src, **kwds)\u001b[0m\n\u001b[0;32m     49\u001b[0m \u001b[1;33m\u001b[0m\u001b[0m\n\u001b[0;32m     50\u001b[0m         \u001b[1;31m# open handles\u001b[0m\u001b[1;33m\u001b[0m\u001b[1;33m\u001b[0m\u001b[0m\n\u001b[1;32m---> 51\u001b[1;33m         \u001b[0mself\u001b[0m\u001b[1;33m.\u001b[0m\u001b[0m_open_handles\u001b[0m\u001b[1;33m(\u001b[0m\u001b[0msrc\u001b[0m\u001b[1;33m,\u001b[0m \u001b[0mkwds\u001b[0m\u001b[1;33m)\u001b[0m\u001b[1;33m\u001b[0m\u001b[1;33m\u001b[0m\u001b[0m\n\u001b[0m\u001b[0;32m     52\u001b[0m         \u001b[1;32massert\u001b[0m \u001b[0mself\u001b[0m\u001b[1;33m.\u001b[0m\u001b[0mhandles\u001b[0m \u001b[1;32mis\u001b[0m \u001b[1;32mnot\u001b[0m \u001b[1;32mNone\u001b[0m\u001b[1;33m\u001b[0m\u001b[1;33m\u001b[0m\u001b[0m\n\u001b[0;32m     53\u001b[0m \u001b[1;33m\u001b[0m\u001b[0m\n",
      "\u001b[1;32m~\\Anaconda3\\lib\\site-packages\\pandas\\io\\parsers\\base_parser.py\u001b[0m in \u001b[0;36m_open_handles\u001b[1;34m(self, src, kwds)\u001b[0m\n\u001b[0;32m    220\u001b[0m         \u001b[0mLet\u001b[0m \u001b[0mthe\u001b[0m \u001b[0mreaders\u001b[0m \u001b[0mopen\u001b[0m \u001b[0mIOHandles\u001b[0m \u001b[0mafter\u001b[0m \u001b[0mthey\u001b[0m \u001b[0mare\u001b[0m \u001b[0mdone\u001b[0m \u001b[1;32mwith\u001b[0m \u001b[0mtheir\u001b[0m \u001b[0mpotential\u001b[0m \u001b[0mraises\u001b[0m\u001b[1;33m.\u001b[0m\u001b[1;33m\u001b[0m\u001b[1;33m\u001b[0m\u001b[0m\n\u001b[0;32m    221\u001b[0m         \"\"\"\n\u001b[1;32m--> 222\u001b[1;33m         self.handles = get_handle(\n\u001b[0m\u001b[0;32m    223\u001b[0m             \u001b[0msrc\u001b[0m\u001b[1;33m,\u001b[0m\u001b[1;33m\u001b[0m\u001b[1;33m\u001b[0m\u001b[0m\n\u001b[0;32m    224\u001b[0m             \u001b[1;34m\"r\"\u001b[0m\u001b[1;33m,\u001b[0m\u001b[1;33m\u001b[0m\u001b[1;33m\u001b[0m\u001b[0m\n",
      "\u001b[1;32m~\\Anaconda3\\lib\\site-packages\\pandas\\io\\common.py\u001b[0m in \u001b[0;36mget_handle\u001b[1;34m(path_or_buf, mode, encoding, compression, memory_map, is_text, errors, storage_options)\u001b[0m\n\u001b[0;32m    700\u001b[0m         \u001b[1;32mif\u001b[0m \u001b[0mioargs\u001b[0m\u001b[1;33m.\u001b[0m\u001b[0mencoding\u001b[0m \u001b[1;32mand\u001b[0m \u001b[1;34m\"b\"\u001b[0m \u001b[1;32mnot\u001b[0m \u001b[1;32min\u001b[0m \u001b[0mioargs\u001b[0m\u001b[1;33m.\u001b[0m\u001b[0mmode\u001b[0m\u001b[1;33m:\u001b[0m\u001b[1;33m\u001b[0m\u001b[1;33m\u001b[0m\u001b[0m\n\u001b[0;32m    701\u001b[0m             \u001b[1;31m# Encoding\u001b[0m\u001b[1;33m\u001b[0m\u001b[1;33m\u001b[0m\u001b[0m\n\u001b[1;32m--> 702\u001b[1;33m             handle = open(\n\u001b[0m\u001b[0;32m    703\u001b[0m                 \u001b[0mhandle\u001b[0m\u001b[1;33m,\u001b[0m\u001b[1;33m\u001b[0m\u001b[1;33m\u001b[0m\u001b[0m\n\u001b[0;32m    704\u001b[0m                 \u001b[0mioargs\u001b[0m\u001b[1;33m.\u001b[0m\u001b[0mmode\u001b[0m\u001b[1;33m,\u001b[0m\u001b[1;33m\u001b[0m\u001b[1;33m\u001b[0m\u001b[0m\n",
      "\u001b[1;31mFileNotFoundError\u001b[0m: [Errno 2] No such file or directory: './data/sample_submission.csv'"
     ]
    }
   ],
   "source": [
    "import pandas as pd\n",
    "\n",
    "sample_submission = pd.read_csv(\"./data/sample_submission.csv\")\n",
    "\n",
    "sample_submission.target = pred_class\n",
    "sample_submission.to_csv(\"submit.csv\",index=False)"
   ]
  },
  {
   "cell_type": "code",
   "execution_count": null,
   "metadata": {
    "scrolled": true
   },
   "outputs": [],
   "source": [
    "sample_submission.head()"
   ]
  },
  {
   "cell_type": "markdown",
   "metadata": {},
   "source": [
    "이렇게 생성된 submission.csv 파일을 데이콘 대회 페이지에 업로드 & 제출하여 결과를 확인하세요.\n",
    "\n",
    "축하합니다! 자연어 처리를 완료하셨습니다!\n",
    "이미지 처리의 첫걸음을 떼신 것을 축하드립니다.\n",
    "\n",
    "앞으로도 데이콘과 함께 즐겁게 데이터 분석 능력을 키워가시면 좋겠습니다.\n",
    "\n",
    "감사합니다."
   ]
  }
 ],
 "metadata": {
  "kernelspec": {
   "display_name": "Python 3 (ipykernel)",
   "language": "python",
   "name": "python3"
  },
  "language_info": {
   "codemirror_mode": {
    "name": "ipython",
    "version": 3
   },
   "file_extension": ".py",
   "mimetype": "text/x-python",
   "name": "python",
   "nbconvert_exporter": "python",
   "pygments_lexer": "ipython3",
   "version": "3.9.7"
  }
 },
 "nbformat": 4,
 "nbformat_minor": 4
}
