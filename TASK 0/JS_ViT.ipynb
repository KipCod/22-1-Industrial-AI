{
 "cells": [
  {
   "cell_type": "markdown",
   "metadata": {},
   "source": [
    "# 라이브러리 불러오기"
   ]
  },
  {
   "cell_type": "code",
   "execution_count": 1,
   "metadata": {},
   "outputs": [],
   "source": [
    "#필요한 library 들을 load 합니다.\n",
    "import os \n",
    "from glob import glob\n",
    "os.environ[\"CUDA_VISIBLE_DEVICES\"]=\"0\" \n",
    "\n",
    "import numpy as np\n",
    "import pandas as pd\n",
    "from tqdm import tqdm\n",
    "from multiprocessing import cpu_count\n",
    "import matplotlib.pyplot as plt\n",
    "import seaborn as sns\n",
    "\n",
    "# Image handling\n",
    "from torchvision import datasets, transforms\n",
    "from PIL import Image\n",
    "\n",
    "# Pytorch\n",
    "import torch\n",
    "import torch.nn as nn\n",
    "from torch.nn import functional as F\n",
    "import torch.optim as optim\n",
    "from torch.optim.lr_scheduler import ReduceLROnPlateau\n",
    "from torch.utils.data import Dataset, DataLoader, SubsetRandomSampler, RandomSampler, SequentialSampler, ConcatDataset\n",
    "from torchvision import models\n",
    "from vit_pytorch import ViT\n",
    "\n",
    "\n",
    "# Sklearn\n",
    "from sklearn.model_selection import train_test_split\n",
    "from sklearn.metrics import f1_score\n",
    "from sklearn.preprocessing import LabelEncoder\n",
    "\n",
    "# Augmenting library \n",
    "import albumentations as A\n",
    "import torchvision.transforms as T\n",
    "\n",
    "# Control Randomness\n",
    "import random\n",
    "random_seed = 7\n",
    "torch.manual_seed(random_seed)\n",
    "torch.backends.cudnn.deterministic = True\n",
    "torch.backends.cudnn.benchmark = False\n",
    "np.random.seed(random_seed)\n",
    "random.seed(random_seed)\n",
    "\n",
    "import warnings\n",
    "warnings.filterwarnings(\"ignore\")"
   ]
  },
  {
   "cell_type": "markdown",
   "metadata": {},
   "source": [
    "RGB 채널별로 평균과 표준편차를 구해줍니다.\n",
    "\n",
    "데이터 정규화를 시켜주는 이유는 간단히 다음과 같습니다.\n",
    "\n",
    "1. 평균을 0, 분산을 1로 만들어줌으로써 학습 속도를 증가\n",
    "\n",
    "2. Train/Val 과 Test 데이터의 분포가 다름(Dataset Shift Problem)으로써 나오는 악영향을 줄임\n",
    "\n",
    "등등, https://hyen4110.tistory.com/20"
   ]
  },
  {
   "cell_type": "code",
   "execution_count": 2,
   "metadata": {},
   "outputs": [],
   "source": [
    "temp_transform = T.Compose([\n",
    "    T.ToTensor(), #이미지 데이터를 tensor 데이터 포멧으로 바꾸어줍니다.\n",
    "    # T.Resize([224, 224]), #이미지의 크기가 다를 수 있으니 크기를 통일해 줍니다.\n",
    "    # T.Normalize(mean=(0.5, 0.5, 0.5), std=(0.5, 0.5, 0.5)) #픽셀 단위 데이터를 정규화 시켜줍니다.\n",
    "])\n",
    "\n",
    "# R_mean = data[0][:, 0].mean().numpy()\n",
    "# G_mean = data[0][:, 1].mean().numpy()\n",
    "# B_mean = data[0][:, 2].mean().numpy()\n",
    "\n",
    "# R_std = data[0][:, 0].std().numpy()\n",
    "# G_std = data[0][:, 1].std().numpy()\n",
    "# B_std = data[0][:, 2].std().numpy()\n",
    "\n",
    "R_mean = 0.4912\n",
    "G_mean = 0.4820\n",
    "B_mean = 0.4465\n",
    "\n",
    "R_std = 0.2457\n",
    "G_std = 0.2429\n",
    "B_std = 0.2610"
   ]
  },
  {
   "cell_type": "markdown",
   "metadata": {},
   "source": [
    "Pytorch는 String 형태의 레이블을 입력받지 못하므로, 숫자형태로 매핑해줍니다."
   ]
  },
  {
   "cell_type": "code",
   "execution_count": 3,
   "metadata": {},
   "outputs": [],
   "source": [
    "submission = pd.read_csv('./data/sample_submission.csv')\n",
    "train_imgs = glob('./data/train/*/*')\n",
    "train_labels = [path.split('\\\\')[1] for path in train_imgs]\n",
    "test_imgs = glob('./data/test/*')\n",
    "\n",
    "# Pytorch는 String 형태의 label을 입력받지 못합니다.\n",
    "label_map = {\n",
    "    'airplane' : 0, \n",
    "    'automobile': 1, \n",
    "    'bird': 2,\n",
    "    'cat': 3, \n",
    "    'deer': 4, \n",
    "    'dog': 5, \n",
    "    'frog': 6,\n",
    "    'horse': 7, \n",
    "    'ship': 8, \n",
    "    'truck': 9,\n",
    "}"
   ]
  },
  {
   "cell_type": "markdown",
   "metadata": {},
   "source": [
    "# Dataset 정의"
   ]
  },
  {
   "cell_type": "code",
   "execution_count": 4,
   "metadata": {},
   "outputs": [],
   "source": [
    "class train_dataset(Dataset):\n",
    "    def __init__(self, imgs, labels, transform = None):\n",
    "        super(train_dataset, self).__init__()\n",
    "        self.imgs = imgs\n",
    "        self.labels = labels\n",
    "        self.transform = transform\n",
    "        \n",
    "    def __len__(self):\n",
    "        assert len(self.imgs) == len(self.labels)\n",
    "        return len(self.imgs)\n",
    "    \n",
    "    def __getitem__(self, idx):\n",
    "        X = np.array(Image.open(self.imgs[idx]))\n",
    "        y = label_map[self.labels[idx]]\n",
    "        \n",
    "        if self.transform:\n",
    "            img = self.transform(image = X)['image']\n",
    "        else:\n",
    "            img = X\n",
    "    \n",
    "        y = torch.tensor(y, dtype = torch.long)\n",
    "        return {\n",
    "            'img' : img,\n",
    "            'label' : y\n",
    "        }\n",
    "    \n",
    "class test_dataset(Dataset):\n",
    "    def __init__(self, imgs, transform = None):\n",
    "        super(test_dataset, self).__init__()\n",
    "        self.imgs = imgs\n",
    "        self.transform = transform\n",
    "        # self.n_tta = n_tta\n",
    "        \n",
    "    def __len__(self):\n",
    "        return len(self.imgs)\n",
    "    \n",
    "    def __getitem__(self, idx):\n",
    "        X = np.array(Image.open(self.imgs[idx]))\n",
    "        if self.transform:\n",
    "            img = self.transform(image = X)['image']\n",
    "            return img\n",
    "        else:\n",
    "            return X"
   ]
  },
  {
   "cell_type": "markdown",
   "metadata": {},
   "source": [
    "# Config\n",
    "\n",
    "하이퍼파라미터들을 설정해 줍니다.\n",
    "\n",
    "batch_size 란 하드웨어에 한번에 load 할 데이터의 크기입니다. \n",
    "\n",
    "num_workers 란 데이터 로드 멀티 프로세싱을 위한 파라미터입니다. Windows에서는 따로 설정하면 에러납니다.\n",
    "\n",
    "Train 데이터 batch_size는 적당한 값, val/test 데이터는 하드웨어가 감당하는 최대한 큰 값으로 하면 좋습니다."
   ]
  },
  {
   "cell_type": "code",
   "execution_count": 5,
   "metadata": {},
   "outputs": [
    {
     "name": "stdout",
     "output_type": "stream",
     "text": [
      "js_vit_r64p4_b64_lr0.001_e100\n",
      "models/js_vit_r64p4_b64_lr0.001_e100.pt\n"
     ]
    }
   ],
   "source": [
    "re_size = 64\n",
    "patch_size = 4\n",
    "\n",
    "projection_dim = 64     # 1024, 512\n",
    "num_heads = 4\n",
    "transformer_layers = 8\n",
    "\n",
    "train_batch_size = 64\n",
    "valid_batch_size = 128\n",
    "test_batch_size = 128\n",
    "\n",
    "epochs = 100\n",
    "learning_rate = 1e-3\n",
    "weight_decay = 1e-3\n",
    "\n",
    "save_name = f'js_vit_r{re_size}p{patch_size}_b{train_batch_size}_lr{learning_rate}_e{epochs}'\n",
    "save_path = f'models/{save_name}.pt'\n",
    "\n",
    "print(save_name)\n",
    "print(save_path)"
   ]
  },
  {
   "cell_type": "markdown",
   "metadata": {},
   "source": [
    "# 데이터 증강 (Augmentation)\n",
    "\n",
    "데이터 형태마다 고유의 증강 기법이 존재합니다. \n",
    "\n",
    "증강을 통해 Train 데이터에 변형을 주어 다양성(Variability)를 높이고, Bias를 낮춰 앞서 말한 Dataset shift 문제에 대처할 수 있습니다.\n",
    "\n",
    "즉, 과적합(Overfitting)에 조금 더 강건한 모델을 만들 수 있습니다.\n",
    "\n",
    "이미지에는 다음과 같은 증강 기법들이 존재합니다. 컴퓨터 비전 관련한 수업을 들으신 분들은 익숙하실 것입니다.\n",
    "1. 픽셀 단위 증강 : 가우시안 블러링, 가우시안 노이즈 추가, 픽셀 정규화, Grayscaling 등\n",
    "2. 공간 수준 증강(Spatial-level Augmentation): Resize, Crop, Rotate, Flip, Shift 등 \n",
    "\n",
    "- 이외에도 Cutout, Mixup, CutMix, Augmix 등 다양한 증강 기법들이 개발되고 있습니다.\n",
    "\n",
    "**Validation 및 Test 데이터에는 Augmentation을 적용하면 안 됩니다. (정규화 제외)**\n",
    "- Test-time Augmentation(TTA)라는 기법이 있긴 하지만, 여기서는 적용하지 않겠습니다."
   ]
  },
  {
   "cell_type": "code",
   "execution_count": 6,
   "metadata": {},
   "outputs": [],
   "source": [
    "from albumentations.pytorch import ToTensorV2\n",
    "import cv2\n",
    "\n",
    "train_transform = A.Compose([\n",
    "    A.Resize(re_size, re_size, interpolation=cv2.INTER_AREA),\n",
    "    A.HorizontalFlip(p=0.5),\n",
    "    A.VerticalFlip(p=0.3),\n",
    "    A.GaussNoise(p=0.3),\n",
    "    A.OneOf([\n",
    "        A.MotionBlur(blur_limit = 3, p = 1.0),\n",
    "        A.MedianBlur(blur_limit = 3, p = 1.0),\n",
    "        A.Blur(blur_limit = 3, p = 1.0),\n",
    "        ], p = 0.3),\n",
    "    A.ShiftScaleRotate(rotate_limit = 30),\n",
    "    A.OneOf([\n",
    "        A.OpticalDistortion(p = 1.0),\n",
    "        A.GridDistortion(p = 1.0),\n",
    "        ], p = 0.3),\n",
    "    A.OneOf([\n",
    "        A.CLAHE(clip_limit = 2),\n",
    "        A.RandomBrightnessContrast(),\n",
    "        ], p = 0.3),\n",
    "    A.HueSaturationValue(p = 0.3),\n",
    "    A.Normalize(mean=(R_mean, G_mean, B_mean), std=(R_std, G_std, B_std)),\n",
    "    ToTensorV2(),\n",
    "])\n",
    "\n",
    "else_transform = A.Compose([\n",
    "    A.Resize(re_size, re_size, interpolation=cv2.INTER_AREA),\n",
    "    A.Normalize(mean=(R_mean, G_mean, B_mean), std=(R_std, G_std, B_std)),\n",
    "    ToTensorV2(),\n",
    "])"
   ]
  },
  {
   "cell_type": "code",
   "execution_count": 7,
   "metadata": {},
   "outputs": [
    {
     "data": {
      "text/plain": [
       "10000"
      ]
     },
     "execution_count": 7,
     "metadata": {},
     "output_type": "execute_result"
    }
   ],
   "source": [
    "len(test_imgs)"
   ]
  },
  {
   "cell_type": "markdown",
   "metadata": {},
   "source": [
    "Train/Val split"
   ]
  },
  {
   "cell_type": "code",
   "execution_count": 8,
   "metadata": {},
   "outputs": [
    {
     "data": {
      "text/plain": [
       "(40000, 10000, 40000, 10000)"
      ]
     },
     "execution_count": 8,
     "metadata": {},
     "output_type": "execute_result"
    }
   ],
   "source": [
    "train_data = datasets.ImageFolder(root='./data/train/',transform=temp_transform)\n",
    "train_imgs = glob('./data/train/*/*')\n",
    "train_labels = [path.split('\\\\')[1] for path in train_imgs]\n",
    "test_imgs = glob('./data/test/*')\n",
    "\n",
    "# Pytorch는 String 형태의 label을 입력받지 못합니다.\n",
    "label_map = {\n",
    "    'airplane' : 0, \n",
    "    'automobile': 1, \n",
    "    'bird': 2,\n",
    "    'cat': 3, \n",
    "    'deer': 4, \n",
    "    'dog': 5, \n",
    "    'frog': 6,\n",
    "    'horse': 7, \n",
    "    'ship': 8, \n",
    "    'truck': 9,\n",
    "}\n",
    "\n",
    "train_imgs, val_imgs, train_labels, val_labels = train_test_split(train_imgs, train_labels, test_size = 0.2,\n",
    "                                                                  stratify = train_labels, random_state = 42)\n",
    "len(train_imgs), len(val_imgs), len(train_labels), len(val_labels)"
   ]
  },
  {
   "cell_type": "code",
   "execution_count": 9,
   "metadata": {},
   "outputs": [
    {
     "data": {
      "image/png": "[encoded data removed]",
      "text/plain": [
       "<Figure size 432x288 with 1 Axes>"
      ]
     },
     "metadata": {
      "needs_background": "light"
     },
     "output_type": "display_data"
    },
    {
     "data": {
      "image/png": "[encoded data removed]",
      "text/plain": [
       "<Figure size 1800x360 with 5 Axes>"
      ]
     },
     "metadata": {
      "needs_background": "light"
     },
     "output_type": "display_data"
    }
   ],
   "source": [
    "def display_aug(imgs, transform, labels = None, n_aug = 5, cols = 5):\n",
    "    idx = random.randint(0, len(imgs) - 1)\n",
    "    \n",
    "    plt.imshow(np.array(Image.open(imgs[idx])))\n",
    "    \n",
    "    if labels:\n",
    "        label = labels[idx]\n",
    "        plt.title(label)\n",
    "    plt.show()\n",
    "    \n",
    "    rows = int(np.ceil(n_aug / cols))\n",
    "    \n",
    "    fig, axes = plt.subplots(rows, cols, figsize = (cols * 5, rows * 5))\n",
    "\n",
    "    for i in range(n_aug):\n",
    "        img = np.array(Image.open(imgs[idx]))\n",
    "        img = transform(image = img)['image']\n",
    "        img = np.clip(img.numpy().transpose(1, 2, 0) * np.array([0.229, 0.224, 0.225]) + np.array([0.485, 0.456, 0.406]), 0, 1)\n",
    "        axes.flat[i].imshow(img)\n",
    "    plt.show()\n",
    "\n",
    "display_aug(train_imgs, train_transform, labels = train_labels)"
   ]
  },
  {
   "cell_type": "markdown",
   "metadata": {},
   "source": [
    "data loader 를 생성해줍니다. \n",
    "\n",
    "data loader 란 데이터 셋을 순회하며 모델에 데이터를 넣어주는 객체입니다. "
   ]
  },
  {
   "cell_type": "code",
   "execution_count": 10,
   "metadata": {},
   "outputs": [],
   "source": [
    "train_loader = DataLoader(train_dataset(train_imgs, train_labels, transform = train_transform),\n",
    "                          shuffle = True, batch_size = train_batch_size)\n",
    "val_loader = DataLoader(train_dataset(val_imgs, val_labels, transform = else_transform),\n",
    "                        shuffle = False, batch_size = valid_batch_size)"
   ]
  },
  {
   "cell_type": "code",
   "execution_count": 11,
   "metadata": {},
   "outputs": [
    {
     "data": {
      "text/plain": [
       "(torch.Size([64, 3, 64, 64]),\n",
       " tensor([1, 4, 9, 3, 4, 8, 7, 7, 4, 2, 2, 3, 8, 9, 9, 6, 7, 9, 0, 9, 3, 0, 4, 9,\n",
       "         5, 8, 7, 3, 9, 0, 5, 5, 5, 1, 8, 3, 4, 3, 5, 3, 4, 4, 8, 4, 2, 2, 7, 3,\n",
       "         9, 5, 0, 8, 3, 6, 9, 7, 8, 4, 3, 8, 2, 7, 1, 5]))"
      ]
     },
     "execution_count": 11,
     "metadata": {},
     "output_type": "execute_result"
    }
   ],
   "source": [
    "next(iter(train_loader))['img'].shape, next(iter(train_loader))['label']\n",
    "\n",
    "# (B, C, H, W), (B, num_classes)"
   ]
  },
  {
   "cell_type": "markdown",
   "metadata": {},
   "source": [
    "device 를 설정해줍니다.\n",
    "\n",
    "이번 베이스라인에서는 gpu 가 있다고 가정하겠습니다. "
   ]
  },
  {
   "cell_type": "code",
   "execution_count": 12,
   "metadata": {},
   "outputs": [
    {
     "data": {
      "text/plain": [
       "True"
      ]
     },
     "execution_count": 12,
     "metadata": {},
     "output_type": "execute_result"
    }
   ],
   "source": [
    "device = 'cuda' if torch.cuda.is_available() else 'cpu'\n",
    "torch.cuda.is_available()"
   ]
  },
  {
   "cell_type": "markdown",
   "metadata": {},
   "source": [
    "# Model\n",
    "\n",
    "전이학습을 위한 모델을 load 해줍니다. \n",
    "\n",
    "PYTORCH 의 models 메소드를 사용하면 손쉽게 외부의 모델을 불러올 수 있습니다.\n",
    "\n",
    "이번 베이스라인에서는 efficientnet_b3 모델을 사용해 볼 것입니다. \n",
    "\n",
    "사전 학습 모델을 사용하는 것은 부정행위에 해당하니, pretrained 파라미터를 False 로 설정해야 합니다!\n",
    "\n",
    "pretrained 파라미터를 True 로 설정한다면, ImageNet 이라는 데이터셋을 대상으로 학습된 모델이 load 됩니다.\n",
    "\n",
    "반면, pretrained 파라미터를 False 로 설정한다면, 모델의 구조만 load 되고 모델의 가중치 들은 load 되지 않습니다. "
   ]
  },
  {
   "cell_type": "code",
   "execution_count": 13,
   "metadata": {},
   "outputs": [],
   "source": [
    "model = ViT (\n",
    "    image_size = re_size,\n",
    "    patch_size = patch_size,\n",
    "    num_classes = 10,\n",
    "    dim = projection_dim,\n",
    "    depth = 6,\n",
    "    heads = 16,\n",
    "    mlp_dim = projection_dim*2,\n",
    "    dropout = 0.1,\n",
    "    emb_dropout = 0.1\n",
    ")"
   ]
  },
  {
   "cell_type": "code",
   "execution_count": 14,
   "metadata": {},
   "outputs": [
    {
     "data": {
      "text/plain": [
       "ViT(\n",
       "  (to_patch_embedding): Sequential(\n",
       "    (0): Rearrange('b c (h p1) (w p2) -> b (h w) (p1 p2 c)', p1=4, p2=4)\n",
       "    (1): Linear(in_features=48, out_features=64, bias=True)\n",
       "  )\n",
       "  (dropout): Dropout(p=0.1, inplace=False)\n",
       "  (transformer): Transformer(\n",
       "    (layers): ModuleList(\n",
       "      (0): ModuleList(\n",
       "        (0): PreNorm(\n",
       "          (norm): LayerNorm((64,), eps=1e-05, elementwise_affine=True)\n",
       "          (fn): Attention(\n",
       "            (attend): Softmax(dim=-1)\n",
       "            (to_qkv): Linear(in_features=64, out_features=3072, bias=False)\n",
       "            (to_out): Sequential(\n",
       "              (0): Linear(in_features=1024, out_features=64, bias=True)\n",
       "              (1): Dropout(p=0.1, inplace=False)\n",
       "            )\n",
       "          )\n",
       "        )\n",
       "        (1): PreNorm(\n",
       "          (norm): LayerNorm((64,), eps=1e-05, elementwise_affine=True)\n",
       "          (fn): FeedForward(\n",
       "            (net): Sequential(\n",
       "              (0): Linear(in_features=64, out_features=128, bias=True)\n",
       "              (1): GELU()\n",
       "              (2): Dropout(p=0.1, inplace=False)\n",
       "              (3): Linear(in_features=128, out_features=64, bias=True)\n",
       "              (4): Dropout(p=0.1, inplace=False)\n",
       "            )\n",
       "          )\n",
       "        )\n",
       "      )\n",
       "      (1): ModuleList(\n",
       "        (0): PreNorm(\n",
       "          (norm): LayerNorm((64,), eps=1e-05, elementwise_affine=True)\n",
       "          (fn): Attention(\n",
       "            (attend): Softmax(dim=-1)\n",
       "            (to_qkv): Linear(in_features=64, out_features=3072, bias=False)\n",
       "            (to_out): Sequential(\n",
       "              (0): Linear(in_features=1024, out_features=64, bias=True)\n",
       "              (1): Dropout(p=0.1, inplace=False)\n",
       "            )\n",
       "          )\n",
       "        )\n",
       "        (1): PreNorm(\n",
       "          (norm): LayerNorm((64,), eps=1e-05, elementwise_affine=True)\n",
       "          (fn): FeedForward(\n",
       "            (net): Sequential(\n",
       "              (0): Linear(in_features=64, out_features=128, bias=True)\n",
       "              (1): GELU()\n",
       "              (2): Dropout(p=0.1, inplace=False)\n",
       "              (3): Linear(in_features=128, out_features=64, bias=True)\n",
       "              (4): Dropout(p=0.1, inplace=False)\n",
       "            )\n",
       "          )\n",
       "        )\n",
       "      )\n",
       "      (2): ModuleList(\n",
       "        (0): PreNorm(\n",
       "          (norm): LayerNorm((64,), eps=1e-05, elementwise_affine=True)\n",
       "          (fn): Attention(\n",
       "            (attend): Softmax(dim=-1)\n",
       "            (to_qkv): Linear(in_features=64, out_features=3072, bias=False)\n",
       "            (to_out): Sequential(\n",
       "              (0): Linear(in_features=1024, out_features=64, bias=True)\n",
       "              (1): Dropout(p=0.1, inplace=False)\n",
       "            )\n",
       "          )\n",
       "        )\n",
       "        (1): PreNorm(\n",
       "          (norm): LayerNorm((64,), eps=1e-05, elementwise_affine=True)\n",
       "          (fn): FeedForward(\n",
       "            (net): Sequential(\n",
       "              (0): Linear(in_features=64, out_features=128, bias=True)\n",
       "              (1): GELU()\n",
       "              (2): Dropout(p=0.1, inplace=False)\n",
       "              (3): Linear(in_features=128, out_features=64, bias=True)\n",
       "              (4): Dropout(p=0.1, inplace=False)\n",
       "            )\n",
       "          )\n",
       "        )\n",
       "      )\n",
       "      (3): ModuleList(\n",
       "        (0): PreNorm(\n",
       "          (norm): LayerNorm((64,), eps=1e-05, elementwise_affine=True)\n",
       "          (fn): Attention(\n",
       "            (attend): Softmax(dim=-1)\n",
       "            (to_qkv): Linear(in_features=64, out_features=3072, bias=False)\n",
       "            (to_out): Sequential(\n",
       "              (0): Linear(in_features=1024, out_features=64, bias=True)\n",
       "              (1): Dropout(p=0.1, inplace=False)\n",
       "            )\n",
       "          )\n",
       "        )\n",
       "        (1): PreNorm(\n",
       "          (norm): LayerNorm((64,), eps=1e-05, elementwise_affine=True)\n",
       "          (fn): FeedForward(\n",
       "            (net): Sequential(\n",
       "              (0): Linear(in_features=64, out_features=128, bias=True)\n",
       "              (1): GELU()\n",
       "              (2): Dropout(p=0.1, inplace=False)\n",
       "              (3): Linear(in_features=128, out_features=64, bias=True)\n",
       "              (4): Dropout(p=0.1, inplace=False)\n",
       "            )\n",
       "          )\n",
       "        )\n",
       "      )\n",
       "      (4): ModuleList(\n",
       "        (0): PreNorm(\n",
       "          (norm): LayerNorm((64,), eps=1e-05, elementwise_affine=True)\n",
       "          (fn): Attention(\n",
       "            (attend): Softmax(dim=-1)\n",
       "            (to_qkv): Linear(in_features=64, out_features=3072, bias=False)\n",
       "            (to_out): Sequential(\n",
       "              (0): Linear(in_features=1024, out_features=64, bias=True)\n",
       "              (1): Dropout(p=0.1, inplace=False)\n",
       "            )\n",
       "          )\n",
       "        )\n",
       "        (1): PreNorm(\n",
       "          (norm): LayerNorm((64,), eps=1e-05, elementwise_affine=True)\n",
       "          (fn): FeedForward(\n",
       "            (net): Sequential(\n",
       "              (0): Linear(in_features=64, out_features=128, bias=True)\n",
       "              (1): GELU()\n",
       "              (2): Dropout(p=0.1, inplace=False)\n",
       "              (3): Linear(in_features=128, out_features=64, bias=True)\n",
       "              (4): Dropout(p=0.1, inplace=False)\n",
       "            )\n",
       "          )\n",
       "        )\n",
       "      )\n",
       "      (5): ModuleList(\n",
       "        (0): PreNorm(\n",
       "          (norm): LayerNorm((64,), eps=1e-05, elementwise_affine=True)\n",
       "          (fn): Attention(\n",
       "            (attend): Softmax(dim=-1)\n",
       "            (to_qkv): Linear(in_features=64, out_features=3072, bias=False)\n",
       "            (to_out): Sequential(\n",
       "              (0): Linear(in_features=1024, out_features=64, bias=True)\n",
       "              (1): Dropout(p=0.1, inplace=False)\n",
       "            )\n",
       "          )\n",
       "        )\n",
       "        (1): PreNorm(\n",
       "          (norm): LayerNorm((64,), eps=1e-05, elementwise_affine=True)\n",
       "          (fn): FeedForward(\n",
       "            (net): Sequential(\n",
       "              (0): Linear(in_features=64, out_features=128, bias=True)\n",
       "              (1): GELU()\n",
       "              (2): Dropout(p=0.1, inplace=False)\n",
       "              (3): Linear(in_features=128, out_features=64, bias=True)\n",
       "              (4): Dropout(p=0.1, inplace=False)\n",
       "            )\n",
       "          )\n",
       "        )\n",
       "      )\n",
       "    )\n",
       "  )\n",
       "  (to_latent): Identity()\n",
       "  (mlp_head): Sequential(\n",
       "    (0): LayerNorm((64,), eps=1e-05, elementwise_affine=True)\n",
       "    (1): Linear(in_features=64, out_features=10, bias=True)\n",
       "  )\n",
       ")"
      ]
     },
     "execution_count": 14,
     "metadata": {},
     "output_type": "execute_result"
    }
   ],
   "source": [
    "model"
   ]
  },
  {
   "cell_type": "code",
   "execution_count": 15,
   "metadata": {},
   "outputs": [
    {
     "data": {
      "text/plain": [
       "(tensor([ 0.0333, -0.4473,  0.8003,  0.3682,  0.5094,  0.2658, -0.0092, -0.4444,\n",
       "          0.8260,  0.2667], grad_fn=<SelectBackward0>),\n",
       " tensor(6))"
      ]
     },
     "execution_count": 15,
     "metadata": {},
     "output_type": "execute_result"
    }
   ],
   "source": [
    "sample_img = next(iter(train_loader))['img']\n",
    "sample_lab = next(iter(train_loader))['label']\n",
    "model(sample_img)[0], sample_lab[0]"
   ]
  },
  {
   "cell_type": "code",
   "execution_count": 16,
   "metadata": {},
   "outputs": [],
   "source": [
    "criterion = nn.CrossEntropyLoss(reduction='sum')\n",
    "optimizer = optim.AdamW(params=model.parameters(), lr=learning_rate, weight_decay=weight_decay)"
   ]
  },
  {
   "cell_type": "markdown",
   "metadata": {},
   "source": [
    "# 학습 \n",
    "\n",
    "train/validate 함수를 따로 정의해주었습니다."
   ]
  },
  {
   "cell_type": "code",
   "execution_count": 17,
   "metadata": {},
   "outputs": [
    {
     "data": {
      "text/plain": [
       "18120"
      ]
     },
     "execution_count": 17,
     "metadata": {},
     "output_type": "execute_result"
    }
   ],
   "source": [
    "from sklearn.metrics import f1_score \n",
    "import gc\n",
    "\n",
    "def train(model, loader, epoch, nb_epochs):\n",
    "    print(f'Epoch {epoch+1}/{nb_epochs}')\n",
    "    running_loss = 0.0\n",
    "    # running_f1 = 0.0\n",
    "    running_corrects = 0\n",
    "    model.train()\n",
    "    # scaler = torch.cuda.amp.GradScaler()\n",
    "    # y_true = []\n",
    "    # y_pred = []\n",
    "\n",
    "    for idx, batch in enumerate(tqdm(loader)):\n",
    "        img = batch['img'].float().to(device)\n",
    "        label = batch['label'].long().to(device)\n",
    "\n",
    "        # zero the parameter gradients\n",
    "        optimizer.zero_grad()\n",
    "\n",
    "        # with torch.cuda.amp.autocast():\n",
    "        #     output = model(img)\n",
    "        #     loss = criterion(output, label)\n",
    "\n",
    "        # scaler.scale(loss).backward() # ADDED - mixed precision + gradient clipping\n",
    "        # nn.utils.clip_grad_norm_(model.parameters(), max_norm=10)\n",
    "        # scaler.step(optimizer)\n",
    "        # scaler.update()\n",
    "        \n",
    "        # forward + backward + optimize\n",
    "        output = model(img)\n",
    "        loss = criterion(output, label)\n",
    "        loss.backward()\n",
    "        # nn.utils.clip_grad_norm_(model.parameters(), max_norm=10)   # gradient clipping\n",
    "        optimizer.step()\n",
    "\n",
    "        # stats\n",
    "        preds = torch.argmax(output, dim=1)\n",
    "        correct = torch.eq(preds, label).sum()\n",
    "        running_loss += loss.item() \n",
    "        running_corrects+=correct\n",
    "\n",
    "    epoch_loss = running_loss / len(loader.dataset)\n",
    "    epoch_acc = running_corrects / len(loader.dataset)\n",
    "    # epoch_f1_macro = f1_score(y_true, y_pred, average='macro')\n",
    "    # epoch_f1_weighted = f1_score(y_true, y_pred, average='weighted')\n",
    "\n",
    "    writer.add_scalar('Loss/Train', epoch_loss, epoch)\n",
    "    writer.add_scalar('Accuracy/Train', epoch_acc, epoch)\n",
    "    # writer.add_scalar('F1_macro/Train', epoch_f1_macro, epoch)\n",
    "    # writer.add_scalar('F1_weighted/Train', epoch_f1_weighted, epoch)\n",
    "    writer.add_scalar('learning_rate', optimizer.param_groups[0][\"lr\"], epoch)\n",
    "\n",
    "    # print(f'Train loss: {epoch_loss:.6f}, Train ACC: {epoch_acc:.6f}, F1_macro: {epoch_f1_macro:.6f}, F1_weighted: {epoch_f1_weighted:.6f},\\\n",
    "    # lr: {optimizer.param_groups[0][\"lr\"]:.6f}')\n",
    "    print(f'Train loss: {epoch_loss:.6f}, Train ACC: {epoch_acc:.6f}, lr: {optimizer.param_groups[0][\"lr\"]:.6f}')    \n",
    "    # scheduler.step()\n",
    "    \n",
    "def validate(model, loader, epoch, nb_epochs):\n",
    "    running_loss = 0.0\n",
    "    # running_f1 = 0.0\n",
    "    running_corrects = 0\n",
    "    model.eval()\n",
    "    # y_true = []\n",
    "    # y_pred = []\n",
    "\n",
    "    with torch.no_grad():\n",
    "        for idx, batch in enumerate(loader):\n",
    "            img = batch['img'].float().to(device)\n",
    "            label = batch['label'].long().to(device)\n",
    "\n",
    "            output = model(img)\n",
    "            loss = criterion(output, label)\n",
    "\n",
    "            # stats\n",
    "            preds = torch.argmax(output, dim=1)\n",
    "            correct = torch.eq(preds, label).sum()\n",
    "            running_loss += loss.item() \n",
    "            running_corrects+=correct\n",
    "\n",
    "\n",
    "        epoch_loss = running_loss / len(loader.dataset)\n",
    "        epoch_acc = running_corrects / len(loader.dataset)\n",
    "        # epoch_f1_macro = f1_score(y_true, y_pred, average='macro')\n",
    "        # epoch_f1_weighted = f1_score(y_true, y_pred, average='weighted')\n",
    "        \n",
    "        writer.add_scalar('Loss/Valid', epoch_loss, epoch)\n",
    "        writer.add_scalar('Accuracy/Valid', epoch_acc, epoch)\n",
    "        # writer.add_scalar('F1_macro/Valid', epoch_f1_macro, epoch)\n",
    "        # writer.add_scalar('F1_weighted/Valid', epoch_f1_weighted, epoch)\n",
    "        \n",
    "        print(f'{running_corrects}/{len(loader.dataset)} correct' )\n",
    "        # print(f'Valid loss: {epoch_loss:.6f}, Valid ACC: {epoch_acc:.6f}, F1_macro: {epoch_f1_macro:.6f}, F1_weighted: {epoch_f1_weighted:.6f}')\n",
    "        print(f'Valid loss: {epoch_loss:.6f}, Valid ACC: {epoch_acc:.6f}')\n",
    "        \n",
    "        val_acc_list.append(epoch_acc.cpu().numpy())\n",
    "        # val_f1_macro_list.append(epoch_f1_macro)\n",
    "        # val_f1_weighted_list.append(epoch_f1_weighted)\n",
    "        \n",
    "        if np.max(val_acc_list) == val_acc_list[-1]:  # 현재 모델이 성능 최댓값이면 저장 \n",
    "            print(f'Saving, ACC: {val_acc_list[-1]:.6f}')\n",
    "            torch.save(model.state_dict(), save_path)\n",
    "            \n",
    "\n",
    "gc.collect()"
   ]
  },
  {
   "cell_type": "code",
   "execution_count": 18,
   "metadata": {},
   "outputs": [
    {
     "name": "stdout",
     "output_type": "stream",
     "text": [
      "js_vit_r64p4_b64_lr0.001_e100\n",
      "models/js_vit_r64p4_b64_lr0.001_e100.pt\n"
     ]
    }
   ],
   "source": [
    "print(save_name)\n",
    "print(save_path)"
   ]
  },
  {
   "cell_type": "code",
   "execution_count": 19,
   "metadata": {},
   "outputs": [
    {
     "name": "stdout",
     "output_type": "stream",
     "text": [
      "Epoch 1/100\n"
     ]
    },
    {
     "name": "stderr",
     "output_type": "stream",
     "text": [
      "100%|██████████| 625/625 [01:36<00:00,  6.50it/s]\n"
     ]
    },
    {
     "name": "stdout",
     "output_type": "stream",
     "text": [
      "Train loss: 1.948335, Train ACC: 0.277225, lr: 0.001000\n",
      "3701/10000 correct\n",
      "Valid loss: 1.727376, Valid ACC: 0.370100\n",
      "Saving, ACC: 0.370100\n",
      "Epoch 2/100\n"
     ]
    },
    {
     "name": "stderr",
     "output_type": "stream",
     "text": [
      "100%|██████████| 625/625 [01:31<00:00,  6.83it/s]\n"
     ]
    },
    {
     "name": "stdout",
     "output_type": "stream",
     "text": [
      "Train loss: 1.738195, Train ACC: 0.366825, lr: 0.001000\n",
      "4378/10000 correct\n",
      "Valid loss: 1.554142, Valid ACC: 0.437800\n",
      "Saving, ACC: 0.437800\n",
      "Epoch 3/100\n"
     ]
    },
    {
     "name": "stderr",
     "output_type": "stream",
     "text": [
      "100%|██████████| 625/625 [01:31<00:00,  6.82it/s]\n"
     ]
    },
    {
     "name": "stdout",
     "output_type": "stream",
     "text": [
      "Train loss: 1.634547, Train ACC: 0.404250, lr: 0.001000\n",
      "4696/10000 correct\n",
      "Valid loss: 1.470448, Valid ACC: 0.469600\n",
      "Saving, ACC: 0.469600\n",
      "Epoch 4/100\n"
     ]
    },
    {
     "name": "stderr",
     "output_type": "stream",
     "text": [
      "100%|██████████| 625/625 [01:32<00:00,  6.75it/s]\n"
     ]
    },
    {
     "name": "stdout",
     "output_type": "stream",
     "text": [
      "Train loss: 1.569352, Train ACC: 0.431225, lr: 0.001000\n",
      "4870/10000 correct\n",
      "Valid loss: 1.421960, Valid ACC: 0.487000\n",
      "Saving, ACC: 0.487000\n",
      "Epoch 5/100\n"
     ]
    },
    {
     "name": "stderr",
     "output_type": "stream",
     "text": [
      "100%|██████████| 625/625 [01:32<00:00,  6.74it/s]\n"
     ]
    },
    {
     "name": "stdout",
     "output_type": "stream",
     "text": [
      "Train loss: 1.528528, Train ACC: 0.447200, lr: 0.001000\n",
      "4924/10000 correct\n",
      "Valid loss: 1.402680, Valid ACC: 0.492400\n",
      "Saving, ACC: 0.492400\n",
      "Epoch 6/100\n"
     ]
    },
    {
     "name": "stderr",
     "output_type": "stream",
     "text": [
      "100%|██████████| 625/625 [01:32<00:00,  6.73it/s]\n"
     ]
    },
    {
     "name": "stdout",
     "output_type": "stream",
     "text": [
      "Train loss: 1.499195, Train ACC: 0.457125, lr: 0.001000\n",
      "5101/10000 correct\n",
      "Valid loss: 1.367077, Valid ACC: 0.510100\n",
      "Saving, ACC: 0.510100\n",
      "Epoch 7/100\n"
     ]
    },
    {
     "name": "stderr",
     "output_type": "stream",
     "text": [
      "100%|██████████| 625/625 [01:32<00:00,  6.72it/s]\n"
     ]
    },
    {
     "name": "stdout",
     "output_type": "stream",
     "text": [
      "Train loss: 1.477965, Train ACC: 0.466900, lr: 0.001000\n",
      "5263/10000 correct\n",
      "Valid loss: 1.316403, Valid ACC: 0.526300\n",
      "Saving, ACC: 0.526300\n",
      "Epoch 8/100\n"
     ]
    },
    {
     "name": "stderr",
     "output_type": "stream",
     "text": [
      "100%|██████████| 625/625 [01:32<00:00,  6.74it/s]\n"
     ]
    },
    {
     "name": "stdout",
     "output_type": "stream",
     "text": [
      "Train loss: 1.449882, Train ACC: 0.474450, lr: 0.001000\n",
      "5335/10000 correct\n",
      "Valid loss: 1.293782, Valid ACC: 0.533500\n",
      "Saving, ACC: 0.533500\n",
      "Epoch 9/100\n"
     ]
    },
    {
     "name": "stderr",
     "output_type": "stream",
     "text": [
      "100%|██████████| 625/625 [01:32<00:00,  6.74it/s]\n"
     ]
    },
    {
     "name": "stdout",
     "output_type": "stream",
     "text": [
      "Train loss: 1.434190, Train ACC: 0.481550, lr: 0.001000\n",
      "5392/10000 correct\n",
      "Valid loss: 1.279407, Valid ACC: 0.539200\n",
      "Saving, ACC: 0.539200\n",
      "Epoch 10/100\n"
     ]
    },
    {
     "name": "stderr",
     "output_type": "stream",
     "text": [
      "100%|██████████| 625/625 [01:36<00:00,  6.51it/s]\n"
     ]
    },
    {
     "name": "stdout",
     "output_type": "stream",
     "text": [
      "Train loss: 1.413248, Train ACC: 0.491550, lr: 0.001000\n",
      "5587/10000 correct\n",
      "Valid loss: 1.240480, Valid ACC: 0.558700\n",
      "Saving, ACC: 0.558700\n",
      "Epoch 11/100\n"
     ]
    },
    {
     "name": "stderr",
     "output_type": "stream",
     "text": [
      "100%|██████████| 625/625 [01:36<00:00,  6.49it/s]\n"
     ]
    },
    {
     "name": "stdout",
     "output_type": "stream",
     "text": [
      "Train loss: 1.399438, Train ACC: 0.493950, lr: 0.001000\n",
      "5597/10000 correct\n",
      "Valid loss: 1.237113, Valid ACC: 0.559700\n",
      "Saving, ACC: 0.559700\n",
      "Epoch 12/100\n"
     ]
    },
    {
     "name": "stderr",
     "output_type": "stream",
     "text": [
      "100%|██████████| 625/625 [01:37<00:00,  6.41it/s]\n"
     ]
    },
    {
     "name": "stdout",
     "output_type": "stream",
     "text": [
      "Train loss: 1.384919, Train ACC: 0.498925, lr: 0.001000\n",
      "5662/10000 correct\n",
      "Valid loss: 1.223880, Valid ACC: 0.566200\n",
      "Saving, ACC: 0.566200\n",
      "Epoch 13/100\n"
     ]
    },
    {
     "name": "stderr",
     "output_type": "stream",
     "text": [
      "100%|██████████| 625/625 [01:36<00:00,  6.45it/s]\n"
     ]
    },
    {
     "name": "stdout",
     "output_type": "stream",
     "text": [
      "Train loss: 1.364554, Train ACC: 0.509575, lr: 0.001000\n",
      "5623/10000 correct\n",
      "Valid loss: 1.216994, Valid ACC: 0.562300\n",
      "Epoch 14/100\n"
     ]
    },
    {
     "name": "stderr",
     "output_type": "stream",
     "text": [
      "100%|██████████| 625/625 [01:36<00:00,  6.47it/s]\n"
     ]
    },
    {
     "name": "stdout",
     "output_type": "stream",
     "text": [
      "Train loss: 1.354818, Train ACC: 0.513425, lr: 0.001000\n",
      "5713/10000 correct\n",
      "Valid loss: 1.198032, Valid ACC: 0.571300\n",
      "Saving, ACC: 0.571300\n",
      "Epoch 15/100\n"
     ]
    },
    {
     "name": "stderr",
     "output_type": "stream",
     "text": [
      "100%|██████████| 625/625 [01:37<00:00,  6.43it/s]\n"
     ]
    },
    {
     "name": "stdout",
     "output_type": "stream",
     "text": [
      "Train loss: 1.342048, Train ACC: 0.519475, lr: 0.001000\n",
      "5714/10000 correct\n",
      "Valid loss: 1.195813, Valid ACC: 0.571400\n",
      "Saving, ACC: 0.571400\n",
      "Epoch 16/100\n"
     ]
    },
    {
     "name": "stderr",
     "output_type": "stream",
     "text": [
      "100%|██████████| 625/625 [01:37<00:00,  6.38it/s]\n"
     ]
    },
    {
     "name": "stdout",
     "output_type": "stream",
     "text": [
      "Train loss: 1.325760, Train ACC: 0.524475, lr: 0.001000\n",
      "5775/10000 correct\n",
      "Valid loss: 1.197905, Valid ACC: 0.577500\n",
      "Saving, ACC: 0.577500\n",
      "Epoch 17/100\n"
     ]
    },
    {
     "name": "stderr",
     "output_type": "stream",
     "text": [
      "100%|██████████| 625/625 [01:38<00:00,  6.38it/s]\n"
     ]
    },
    {
     "name": "stdout",
     "output_type": "stream",
     "text": [
      "Train loss: 1.316130, Train ACC: 0.524850, lr: 0.001000\n",
      "5841/10000 correct\n",
      "Valid loss: 1.177451, Valid ACC: 0.584100\n",
      "Saving, ACC: 0.584100\n",
      "Epoch 18/100\n"
     ]
    },
    {
     "name": "stderr",
     "output_type": "stream",
     "text": [
      "100%|██████████| 625/625 [01:38<00:00,  6.37it/s]\n"
     ]
    },
    {
     "name": "stdout",
     "output_type": "stream",
     "text": [
      "Train loss: 1.306738, Train ACC: 0.531300, lr: 0.001000\n",
      "5916/10000 correct\n",
      "Valid loss: 1.150687, Valid ACC: 0.591600\n",
      "Saving, ACC: 0.591600\n",
      "Epoch 19/100\n"
     ]
    },
    {
     "name": "stderr",
     "output_type": "stream",
     "text": [
      "100%|██████████| 625/625 [01:37<00:00,  6.39it/s]\n"
     ]
    },
    {
     "name": "stdout",
     "output_type": "stream",
     "text": [
      "Train loss: 1.288969, Train ACC: 0.535975, lr: 0.001000\n",
      "5864/10000 correct\n",
      "Valid loss: 1.149058, Valid ACC: 0.586400\n",
      "Epoch 20/100\n"
     ]
    },
    {
     "name": "stderr",
     "output_type": "stream",
     "text": [
      "100%|██████████| 625/625 [01:37<00:00,  6.41it/s]\n"
     ]
    },
    {
     "name": "stdout",
     "output_type": "stream",
     "text": [
      "Train loss: 1.278945, Train ACC: 0.538950, lr: 0.001000\n",
      "5940/10000 correct\n",
      "Valid loss: 1.148344, Valid ACC: 0.594000\n",
      "Saving, ACC: 0.594000\n",
      "Epoch 21/100\n"
     ]
    },
    {
     "name": "stderr",
     "output_type": "stream",
     "text": [
      "100%|██████████| 625/625 [01:37<00:00,  6.41it/s]\n"
     ]
    },
    {
     "name": "stdout",
     "output_type": "stream",
     "text": [
      "Train loss: 1.269829, Train ACC: 0.543525, lr: 0.001000\n",
      "5997/10000 correct\n",
      "Valid loss: 1.120800, Valid ACC: 0.599700\n",
      "Saving, ACC: 0.599700\n",
      "Epoch 22/100\n"
     ]
    },
    {
     "name": "stderr",
     "output_type": "stream",
     "text": [
      "100%|██████████| 625/625 [01:37<00:00,  6.39it/s]\n"
     ]
    },
    {
     "name": "stdout",
     "output_type": "stream",
     "text": [
      "Train loss: 1.258832, Train ACC: 0.547675, lr: 0.001000\n",
      "6027/10000 correct\n",
      "Valid loss: 1.120487, Valid ACC: 0.602700\n",
      "Saving, ACC: 0.602700\n",
      "Epoch 23/100\n"
     ]
    },
    {
     "name": "stderr",
     "output_type": "stream",
     "text": [
      "100%|██████████| 625/625 [01:37<00:00,  6.39it/s]\n"
     ]
    },
    {
     "name": "stdout",
     "output_type": "stream",
     "text": [
      "Train loss: 1.252102, Train ACC: 0.554850, lr: 0.001000\n",
      "5935/10000 correct\n",
      "Valid loss: 1.126100, Valid ACC: 0.593500\n",
      "Epoch 24/100\n"
     ]
    },
    {
     "name": "stderr",
     "output_type": "stream",
     "text": [
      "100%|██████████| 625/625 [01:37<00:00,  6.41it/s]\n"
     ]
    },
    {
     "name": "stdout",
     "output_type": "stream",
     "text": [
      "Train loss: 1.242642, Train ACC: 0.556250, lr: 0.001000\n",
      "6069/10000 correct\n",
      "Valid loss: 1.115080, Valid ACC: 0.606900\n",
      "Saving, ACC: 0.606900\n",
      "Epoch 25/100\n"
     ]
    },
    {
     "name": "stderr",
     "output_type": "stream",
     "text": [
      "100%|██████████| 625/625 [01:37<00:00,  6.40it/s]\n"
     ]
    },
    {
     "name": "stdout",
     "output_type": "stream",
     "text": [
      "Train loss: 1.230249, Train ACC: 0.556625, lr: 0.001000\n",
      "6067/10000 correct\n",
      "Valid loss: 1.094500, Valid ACC: 0.606700\n",
      "Epoch 26/100\n"
     ]
    },
    {
     "name": "stderr",
     "output_type": "stream",
     "text": [
      "100%|██████████| 625/625 [01:37<00:00,  6.39it/s]\n"
     ]
    },
    {
     "name": "stdout",
     "output_type": "stream",
     "text": [
      "Train loss: 1.224333, Train ACC: 0.563825, lr: 0.001000\n",
      "6132/10000 correct\n",
      "Valid loss: 1.093998, Valid ACC: 0.613200\n",
      "Saving, ACC: 0.613200\n",
      "Epoch 27/100\n"
     ]
    },
    {
     "name": "stderr",
     "output_type": "stream",
     "text": [
      "100%|██████████| 625/625 [01:38<00:00,  6.37it/s]\n"
     ]
    },
    {
     "name": "stdout",
     "output_type": "stream",
     "text": [
      "Train loss: 1.216629, Train ACC: 0.565450, lr: 0.001000\n",
      "6109/10000 correct\n",
      "Valid loss: 1.100776, Valid ACC: 0.610900\n",
      "Epoch 28/100\n"
     ]
    },
    {
     "name": "stderr",
     "output_type": "stream",
     "text": [
      "100%|██████████| 625/625 [01:37<00:00,  6.38it/s]\n"
     ]
    },
    {
     "name": "stdout",
     "output_type": "stream",
     "text": [
      "Train loss: 1.200023, Train ACC: 0.569575, lr: 0.001000\n",
      "6156/10000 correct\n",
      "Valid loss: 1.080716, Valid ACC: 0.615600\n",
      "Saving, ACC: 0.615600\n",
      "Epoch 29/100\n"
     ]
    },
    {
     "name": "stderr",
     "output_type": "stream",
     "text": [
      "100%|██████████| 625/625 [01:37<00:00,  6.38it/s]\n"
     ]
    },
    {
     "name": "stdout",
     "output_type": "stream",
     "text": [
      "Train loss: 1.197432, Train ACC: 0.572050, lr: 0.001000\n",
      "6101/10000 correct\n",
      "Valid loss: 1.086685, Valid ACC: 0.610100\n",
      "Epoch 30/100\n"
     ]
    },
    {
     "name": "stderr",
     "output_type": "stream",
     "text": [
      "100%|██████████| 625/625 [01:37<00:00,  6.43it/s]\n"
     ]
    },
    {
     "name": "stdout",
     "output_type": "stream",
     "text": [
      "Train loss: 1.192002, Train ACC: 0.573000, lr: 0.001000\n",
      "6177/10000 correct\n",
      "Valid loss: 1.071826, Valid ACC: 0.617700\n",
      "Saving, ACC: 0.617700\n",
      "Epoch 31/100\n"
     ]
    },
    {
     "name": "stderr",
     "output_type": "stream",
     "text": [
      "100%|██████████| 625/625 [01:35<00:00,  6.52it/s]\n"
     ]
    },
    {
     "name": "stdout",
     "output_type": "stream",
     "text": [
      "Train loss: 1.185158, Train ACC: 0.574575, lr: 0.001000\n",
      "6057/10000 correct\n",
      "Valid loss: 1.086765, Valid ACC: 0.605700\n",
      "Epoch 32/100\n"
     ]
    },
    {
     "name": "stderr",
     "output_type": "stream",
     "text": [
      "100%|██████████| 625/625 [01:36<00:00,  6.45it/s]\n"
     ]
    },
    {
     "name": "stdout",
     "output_type": "stream",
     "text": [
      "Train loss: 1.174175, Train ACC: 0.582625, lr: 0.001000\n",
      "6241/10000 correct\n",
      "Valid loss: 1.059059, Valid ACC: 0.624100\n",
      "Saving, ACC: 0.624100\n",
      "Epoch 33/100\n"
     ]
    },
    {
     "name": "stderr",
     "output_type": "stream",
     "text": [
      "100%|██████████| 625/625 [01:37<00:00,  6.44it/s]\n"
     ]
    },
    {
     "name": "stdout",
     "output_type": "stream",
     "text": [
      "Train loss: 1.169266, Train ACC: 0.584075, lr: 0.001000\n",
      "6222/10000 correct\n",
      "Valid loss: 1.069084, Valid ACC: 0.622200\n",
      "Epoch 34/100\n"
     ]
    },
    {
     "name": "stderr",
     "output_type": "stream",
     "text": [
      "100%|██████████| 625/625 [01:38<00:00,  6.32it/s]\n"
     ]
    },
    {
     "name": "stdout",
     "output_type": "stream",
     "text": [
      "Train loss: 1.152078, Train ACC: 0.590700, lr: 0.001000\n",
      "6348/10000 correct\n",
      "Valid loss: 1.038106, Valid ACC: 0.634800\n",
      "Saving, ACC: 0.634800\n",
      "Epoch 35/100\n"
     ]
    },
    {
     "name": "stderr",
     "output_type": "stream",
     "text": [
      "100%|██████████| 625/625 [01:38<00:00,  6.35it/s]\n"
     ]
    },
    {
     "name": "stdout",
     "output_type": "stream",
     "text": [
      "Train loss: 1.150562, Train ACC: 0.587250, lr: 0.001000\n",
      "6292/10000 correct\n",
      "Valid loss: 1.057738, Valid ACC: 0.629200\n",
      "Epoch 36/100\n"
     ]
    },
    {
     "name": "stderr",
     "output_type": "stream",
     "text": [
      "100%|██████████| 625/625 [01:38<00:00,  6.35it/s]\n"
     ]
    },
    {
     "name": "stdout",
     "output_type": "stream",
     "text": [
      "Train loss: 1.142411, Train ACC: 0.593525, lr: 0.001000\n",
      "6293/10000 correct\n",
      "Valid loss: 1.044256, Valid ACC: 0.629300\n",
      "Epoch 37/100\n"
     ]
    },
    {
     "name": "stderr",
     "output_type": "stream",
     "text": [
      "100%|██████████| 625/625 [01:38<00:00,  6.34it/s]\n"
     ]
    },
    {
     "name": "stdout",
     "output_type": "stream",
     "text": [
      "Train loss: 1.135269, Train ACC: 0.595225, lr: 0.001000\n",
      "6290/10000 correct\n",
      "Valid loss: 1.033708, Valid ACC: 0.629000\n",
      "Epoch 38/100\n"
     ]
    },
    {
     "name": "stderr",
     "output_type": "stream",
     "text": [
      "100%|██████████| 625/625 [01:34<00:00,  6.63it/s]\n"
     ]
    },
    {
     "name": "stdout",
     "output_type": "stream",
     "text": [
      "Train loss: 1.131740, Train ACC: 0.593125, lr: 0.001000\n",
      "6378/10000 correct\n",
      "Valid loss: 1.027715, Valid ACC: 0.637800\n",
      "Saving, ACC: 0.637800\n",
      "Epoch 39/100\n"
     ]
    },
    {
     "name": "stderr",
     "output_type": "stream",
     "text": [
      "100%|██████████| 625/625 [01:32<00:00,  6.79it/s]\n"
     ]
    },
    {
     "name": "stdout",
     "output_type": "stream",
     "text": [
      "Train loss: 1.123448, Train ACC: 0.598925, lr: 0.001000\n",
      "6372/10000 correct\n",
      "Valid loss: 1.031299, Valid ACC: 0.637200\n",
      "Epoch 40/100\n"
     ]
    },
    {
     "name": "stderr",
     "output_type": "stream",
     "text": [
      "100%|██████████| 625/625 [01:31<00:00,  6.80it/s]\n"
     ]
    },
    {
     "name": "stdout",
     "output_type": "stream",
     "text": [
      "Train loss: 1.118268, Train ACC: 0.603275, lr: 0.001000\n",
      "6291/10000 correct\n",
      "Valid loss: 1.035696, Valid ACC: 0.629100\n",
      "Epoch 41/100\n"
     ]
    },
    {
     "name": "stderr",
     "output_type": "stream",
     "text": [
      "100%|██████████| 625/625 [01:33<00:00,  6.71it/s]\n"
     ]
    },
    {
     "name": "stdout",
     "output_type": "stream",
     "text": [
      "Train loss: 1.112627, Train ACC: 0.604325, lr: 0.001000\n",
      "6324/10000 correct\n",
      "Valid loss: 1.036820, Valid ACC: 0.632400\n",
      "Epoch 42/100\n"
     ]
    },
    {
     "name": "stderr",
     "output_type": "stream",
     "text": [
      "100%|██████████| 625/625 [01:33<00:00,  6.70it/s]\n"
     ]
    },
    {
     "name": "stdout",
     "output_type": "stream",
     "text": [
      "Train loss: 1.107679, Train ACC: 0.605375, lr: 0.001000\n",
      "6421/10000 correct\n",
      "Valid loss: 1.016636, Valid ACC: 0.642100\n",
      "Saving, ACC: 0.642100\n",
      "Epoch 43/100\n"
     ]
    },
    {
     "name": "stderr",
     "output_type": "stream",
     "text": [
      "100%|██████████| 625/625 [01:33<00:00,  6.70it/s]\n"
     ]
    },
    {
     "name": "stdout",
     "output_type": "stream",
     "text": [
      "Train loss: 1.099795, Train ACC: 0.607525, lr: 0.001000\n",
      "6507/10000 correct\n",
      "Valid loss: 1.004104, Valid ACC: 0.650700\n",
      "Saving, ACC: 0.650700\n",
      "Epoch 44/100\n"
     ]
    },
    {
     "name": "stderr",
     "output_type": "stream",
     "text": [
      "100%|██████████| 625/625 [01:33<00:00,  6.71it/s]\n"
     ]
    },
    {
     "name": "stdout",
     "output_type": "stream",
     "text": [
      "Train loss: 1.089623, Train ACC: 0.611025, lr: 0.001000\n",
      "6493/10000 correct\n",
      "Valid loss: 0.996583, Valid ACC: 0.649300\n",
      "Epoch 45/100\n"
     ]
    },
    {
     "name": "stderr",
     "output_type": "stream",
     "text": [
      "100%|██████████| 625/625 [01:33<00:00,  6.71it/s]\n"
     ]
    },
    {
     "name": "stdout",
     "output_type": "stream",
     "text": [
      "Train loss: 1.083234, Train ACC: 0.613900, lr: 0.001000\n",
      "6394/10000 correct\n",
      "Valid loss: 1.010981, Valid ACC: 0.639400\n",
      "Epoch 46/100\n"
     ]
    },
    {
     "name": "stderr",
     "output_type": "stream",
     "text": [
      "100%|██████████| 625/625 [01:33<00:00,  6.70it/s]\n"
     ]
    },
    {
     "name": "stdout",
     "output_type": "stream",
     "text": [
      "Train loss: 1.083575, Train ACC: 0.611825, lr: 0.001000\n",
      "6396/10000 correct\n",
      "Valid loss: 1.000529, Valid ACC: 0.639600\n",
      "Epoch 47/100\n"
     ]
    },
    {
     "name": "stderr",
     "output_type": "stream",
     "text": [
      "100%|██████████| 625/625 [01:33<00:00,  6.70it/s]\n"
     ]
    },
    {
     "name": "stdout",
     "output_type": "stream",
     "text": [
      "Train loss: 1.075905, Train ACC: 0.616750, lr: 0.001000\n",
      "6455/10000 correct\n",
      "Valid loss: 1.017514, Valid ACC: 0.645500\n",
      "Epoch 48/100\n"
     ]
    },
    {
     "name": "stderr",
     "output_type": "stream",
     "text": [
      "100%|██████████| 625/625 [01:33<00:00,  6.71it/s]\n"
     ]
    },
    {
     "name": "stdout",
     "output_type": "stream",
     "text": [
      "Train loss: 1.071227, Train ACC: 0.619550, lr: 0.001000\n",
      "6447/10000 correct\n",
      "Valid loss: 1.015401, Valid ACC: 0.644700\n",
      "Epoch 49/100\n"
     ]
    },
    {
     "name": "stderr",
     "output_type": "stream",
     "text": [
      "100%|██████████| 625/625 [01:33<00:00,  6.70it/s]\n"
     ]
    },
    {
     "name": "stdout",
     "output_type": "stream",
     "text": [
      "Train loss: 1.063977, Train ACC: 0.620450, lr: 0.001000\n",
      "6454/10000 correct\n",
      "Valid loss: 1.003866, Valid ACC: 0.645400\n",
      "Epoch 50/100\n"
     ]
    },
    {
     "name": "stderr",
     "output_type": "stream",
     "text": [
      "100%|██████████| 625/625 [01:33<00:00,  6.69it/s]\n"
     ]
    },
    {
     "name": "stdout",
     "output_type": "stream",
     "text": [
      "Train loss: 1.056980, Train ACC: 0.627075, lr: 0.001000\n",
      "6455/10000 correct\n",
      "Valid loss: 1.008261, Valid ACC: 0.645500\n",
      "Epoch 51/100\n"
     ]
    },
    {
     "name": "stderr",
     "output_type": "stream",
     "text": [
      "100%|██████████| 625/625 [01:33<00:00,  6.69it/s]\n"
     ]
    },
    {
     "name": "stdout",
     "output_type": "stream",
     "text": [
      "Train loss: 1.049455, Train ACC: 0.629000, lr: 0.001000\n",
      "6501/10000 correct\n",
      "Valid loss: 0.992201, Valid ACC: 0.650100\n",
      "Epoch 52/100\n"
     ]
    },
    {
     "name": "stderr",
     "output_type": "stream",
     "text": [
      "100%|██████████| 625/625 [01:33<00:00,  6.70it/s]\n"
     ]
    },
    {
     "name": "stdout",
     "output_type": "stream",
     "text": [
      "Train loss: 1.044057, Train ACC: 0.625850, lr: 0.001000\n",
      "6475/10000 correct\n",
      "Valid loss: 1.019658, Valid ACC: 0.647500\n",
      "Epoch 53/100\n"
     ]
    },
    {
     "name": "stderr",
     "output_type": "stream",
     "text": [
      "100%|██████████| 625/625 [01:33<00:00,  6.71it/s]\n"
     ]
    },
    {
     "name": "stdout",
     "output_type": "stream",
     "text": [
      "Train loss: 1.041203, Train ACC: 0.627875, lr: 0.001000\n",
      "6514/10000 correct\n",
      "Valid loss: 0.993703, Valid ACC: 0.651400\n",
      "Saving, ACC: 0.651400\n",
      "Epoch 54/100\n"
     ]
    },
    {
     "name": "stderr",
     "output_type": "stream",
     "text": [
      "100%|██████████| 625/625 [01:33<00:00,  6.70it/s]\n"
     ]
    },
    {
     "name": "stdout",
     "output_type": "stream",
     "text": [
      "Train loss: 1.031766, Train ACC: 0.631850, lr: 0.001000\n",
      "6466/10000 correct\n",
      "Valid loss: 1.027283, Valid ACC: 0.646600\n",
      "Epoch 55/100\n"
     ]
    },
    {
     "name": "stderr",
     "output_type": "stream",
     "text": [
      "100%|██████████| 625/625 [01:33<00:00,  6.70it/s]\n"
     ]
    },
    {
     "name": "stdout",
     "output_type": "stream",
     "text": [
      "Train loss: 1.033181, Train ACC: 0.632475, lr: 0.001000\n",
      "6496/10000 correct\n",
      "Valid loss: 0.998207, Valid ACC: 0.649600\n",
      "Epoch 56/100\n"
     ]
    },
    {
     "name": "stderr",
     "output_type": "stream",
     "text": [
      "100%|██████████| 625/625 [01:33<00:00,  6.71it/s]\n"
     ]
    },
    {
     "name": "stdout",
     "output_type": "stream",
     "text": [
      "Train loss: 1.026215, Train ACC: 0.633500, lr: 0.001000\n",
      "6458/10000 correct\n",
      "Valid loss: 1.014091, Valid ACC: 0.645800\n",
      "Epoch 57/100\n"
     ]
    },
    {
     "name": "stderr",
     "output_type": "stream",
     "text": [
      "100%|██████████| 625/625 [01:33<00:00,  6.72it/s]\n"
     ]
    },
    {
     "name": "stdout",
     "output_type": "stream",
     "text": [
      "Train loss: 1.019684, Train ACC: 0.634800, lr: 0.001000\n",
      "6450/10000 correct\n",
      "Valid loss: 1.023215, Valid ACC: 0.645000\n",
      "Epoch 58/100\n"
     ]
    },
    {
     "name": "stderr",
     "output_type": "stream",
     "text": [
      "100%|██████████| 625/625 [01:33<00:00,  6.72it/s]\n"
     ]
    },
    {
     "name": "stdout",
     "output_type": "stream",
     "text": [
      "Train loss: 1.017688, Train ACC: 0.637675, lr: 0.001000\n",
      "6550/10000 correct\n",
      "Valid loss: 0.992649, Valid ACC: 0.655000\n",
      "Saving, ACC: 0.655000\n",
      "Epoch 59/100\n"
     ]
    },
    {
     "name": "stderr",
     "output_type": "stream",
     "text": [
      "100%|██████████| 625/625 [01:33<00:00,  6.71it/s]\n"
     ]
    },
    {
     "name": "stdout",
     "output_type": "stream",
     "text": [
      "Train loss: 1.005015, Train ACC: 0.640050, lr: 0.001000\n",
      "6573/10000 correct\n",
      "Valid loss: 0.973298, Valid ACC: 0.657300\n",
      "Saving, ACC: 0.657300\n",
      "Epoch 60/100\n"
     ]
    },
    {
     "name": "stderr",
     "output_type": "stream",
     "text": [
      "100%|██████████| 625/625 [01:32<00:00,  6.72it/s]\n"
     ]
    },
    {
     "name": "stdout",
     "output_type": "stream",
     "text": [
      "Train loss: 1.002458, Train ACC: 0.640450, lr: 0.001000\n",
      "6536/10000 correct\n",
      "Valid loss: 0.994128, Valid ACC: 0.653600\n",
      "Epoch 61/100\n"
     ]
    },
    {
     "name": "stderr",
     "output_type": "stream",
     "text": [
      "100%|██████████| 625/625 [01:33<00:00,  6.71it/s]\n"
     ]
    },
    {
     "name": "stdout",
     "output_type": "stream",
     "text": [
      "Train loss: 1.000992, Train ACC: 0.643975, lr: 0.001000\n",
      "6499/10000 correct\n",
      "Valid loss: 1.002444, Valid ACC: 0.649900\n",
      "Epoch 62/100\n"
     ]
    },
    {
     "name": "stderr",
     "output_type": "stream",
     "text": [
      "100%|██████████| 625/625 [01:32<00:00,  6.72it/s]\n"
     ]
    },
    {
     "name": "stdout",
     "output_type": "stream",
     "text": [
      "Train loss: 0.995991, Train ACC: 0.644750, lr: 0.001000\n",
      "6602/10000 correct\n",
      "Valid loss: 0.965660, Valid ACC: 0.660200\n",
      "Saving, ACC: 0.660200\n",
      "Epoch 63/100\n"
     ]
    },
    {
     "name": "stderr",
     "output_type": "stream",
     "text": [
      "100%|██████████| 625/625 [01:33<00:00,  6.72it/s]\n"
     ]
    },
    {
     "name": "stdout",
     "output_type": "stream",
     "text": [
      "Train loss: 0.991200, Train ACC: 0.646025, lr: 0.001000\n",
      "6636/10000 correct\n",
      "Valid loss: 0.969953, Valid ACC: 0.663600\n",
      "Saving, ACC: 0.663600\n",
      "Epoch 64/100\n"
     ]
    },
    {
     "name": "stderr",
     "output_type": "stream",
     "text": [
      "100%|██████████| 625/625 [01:33<00:00,  6.70it/s]\n"
     ]
    },
    {
     "name": "stdout",
     "output_type": "stream",
     "text": [
      "Train loss: 0.986463, Train ACC: 0.649300, lr: 0.001000\n",
      "6605/10000 correct\n",
      "Valid loss: 0.982445, Valid ACC: 0.660500\n",
      "Epoch 65/100\n"
     ]
    },
    {
     "name": "stderr",
     "output_type": "stream",
     "text": [
      "100%|██████████| 625/625 [01:33<00:00,  6.70it/s]\n"
     ]
    },
    {
     "name": "stdout",
     "output_type": "stream",
     "text": [
      "Train loss: 0.981796, Train ACC: 0.648050, lr: 0.001000\n",
      "6599/10000 correct\n",
      "Valid loss: 0.978302, Valid ACC: 0.659900\n",
      "Epoch 66/100\n"
     ]
    },
    {
     "name": "stderr",
     "output_type": "stream",
     "text": [
      "100%|██████████| 625/625 [01:33<00:00,  6.71it/s]\n"
     ]
    },
    {
     "name": "stdout",
     "output_type": "stream",
     "text": [
      "Train loss: 0.968568, Train ACC: 0.652000, lr: 0.001000\n",
      "6598/10000 correct\n",
      "Valid loss: 0.972043, Valid ACC: 0.659800\n",
      "Epoch 67/100\n"
     ]
    },
    {
     "name": "stderr",
     "output_type": "stream",
     "text": [
      "100%|██████████| 625/625 [01:33<00:00,  6.70it/s]\n"
     ]
    },
    {
     "name": "stdout",
     "output_type": "stream",
     "text": [
      "Train loss: 0.967220, Train ACC: 0.658150, lr: 0.001000\n",
      "6598/10000 correct\n",
      "Valid loss: 0.964711, Valid ACC: 0.659800\n",
      "Epoch 68/100\n"
     ]
    },
    {
     "name": "stderr",
     "output_type": "stream",
     "text": [
      "100%|██████████| 625/625 [01:33<00:00,  6.70it/s]\n"
     ]
    },
    {
     "name": "stdout",
     "output_type": "stream",
     "text": [
      "Train loss: 0.964771, Train ACC: 0.656425, lr: 0.001000\n",
      "6556/10000 correct\n",
      "Valid loss: 0.993942, Valid ACC: 0.655600\n",
      "Epoch 69/100\n"
     ]
    },
    {
     "name": "stderr",
     "output_type": "stream",
     "text": [
      "100%|██████████| 625/625 [01:33<00:00,  6.71it/s]\n"
     ]
    },
    {
     "name": "stdout",
     "output_type": "stream",
     "text": [
      "Train loss: 0.962394, Train ACC: 0.657100, lr: 0.001000\n",
      "6574/10000 correct\n",
      "Valid loss: 0.979079, Valid ACC: 0.657400\n",
      "Epoch 70/100\n"
     ]
    },
    {
     "name": "stderr",
     "output_type": "stream",
     "text": [
      "100%|██████████| 625/625 [01:33<00:00,  6.71it/s]\n"
     ]
    },
    {
     "name": "stdout",
     "output_type": "stream",
     "text": [
      "Train loss: 0.961542, Train ACC: 0.656875, lr: 0.001000\n",
      "6611/10000 correct\n",
      "Valid loss: 0.969153, Valid ACC: 0.661100\n",
      "Epoch 71/100\n"
     ]
    },
    {
     "name": "stderr",
     "output_type": "stream",
     "text": [
      "100%|██████████| 625/625 [01:32<00:00,  6.72it/s]\n"
     ]
    },
    {
     "name": "stdout",
     "output_type": "stream",
     "text": [
      "Train loss: 0.948789, Train ACC: 0.660325, lr: 0.001000\n",
      "6607/10000 correct\n",
      "Valid loss: 0.966265, Valid ACC: 0.660700\n",
      "Epoch 72/100\n"
     ]
    },
    {
     "name": "stderr",
     "output_type": "stream",
     "text": [
      "100%|██████████| 625/625 [01:33<00:00,  6.72it/s]\n"
     ]
    },
    {
     "name": "stdout",
     "output_type": "stream",
     "text": [
      "Train loss: 0.953459, Train ACC: 0.659625, lr: 0.001000\n",
      "6651/10000 correct\n",
      "Valid loss: 0.975746, Valid ACC: 0.665100\n",
      "Saving, ACC: 0.665100\n",
      "Epoch 73/100\n"
     ]
    },
    {
     "name": "stderr",
     "output_type": "stream",
     "text": [
      "100%|██████████| 625/625 [01:33<00:00,  6.71it/s]\n"
     ]
    },
    {
     "name": "stdout",
     "output_type": "stream",
     "text": [
      "Train loss: 0.944428, Train ACC: 0.664800, lr: 0.001000\n",
      "6633/10000 correct\n",
      "Valid loss: 0.965479, Valid ACC: 0.663300\n",
      "Epoch 74/100\n"
     ]
    },
    {
     "name": "stderr",
     "output_type": "stream",
     "text": [
      "100%|██████████| 625/625 [01:33<00:00,  6.68it/s]\n"
     ]
    },
    {
     "name": "stdout",
     "output_type": "stream",
     "text": [
      "Train loss: 0.941796, Train ACC: 0.663925, lr: 0.001000\n",
      "6629/10000 correct\n",
      "Valid loss: 0.972743, Valid ACC: 0.662900\n",
      "Epoch 75/100\n"
     ]
    },
    {
     "name": "stderr",
     "output_type": "stream",
     "text": [
      "100%|██████████| 625/625 [01:33<00:00,  6.68it/s]\n"
     ]
    },
    {
     "name": "stdout",
     "output_type": "stream",
     "text": [
      "Train loss: 0.937903, Train ACC: 0.665200, lr: 0.001000\n",
      "6602/10000 correct\n",
      "Valid loss: 0.982296, Valid ACC: 0.660200\n",
      "Epoch 76/100\n"
     ]
    },
    {
     "name": "stderr",
     "output_type": "stream",
     "text": [
      "100%|██████████| 625/625 [01:32<00:00,  6.72it/s]\n"
     ]
    },
    {
     "name": "stdout",
     "output_type": "stream",
     "text": [
      "Train loss: 0.931063, Train ACC: 0.669600, lr: 0.001000\n",
      "6556/10000 correct\n",
      "Valid loss: 0.987429, Valid ACC: 0.655600\n",
      "Epoch 77/100\n"
     ]
    },
    {
     "name": "stderr",
     "output_type": "stream",
     "text": [
      "100%|██████████| 625/625 [01:32<00:00,  6.79it/s]\n"
     ]
    },
    {
     "name": "stdout",
     "output_type": "stream",
     "text": [
      "Train loss: 0.930157, Train ACC: 0.665975, lr: 0.001000\n",
      "6662/10000 correct\n",
      "Valid loss: 0.964941, Valid ACC: 0.666200\n",
      "Saving, ACC: 0.666200\n",
      "Epoch 78/100\n"
     ]
    },
    {
     "name": "stderr",
     "output_type": "stream",
     "text": [
      "100%|██████████| 625/625 [01:31<00:00,  6.80it/s]\n"
     ]
    },
    {
     "name": "stdout",
     "output_type": "stream",
     "text": [
      "Train loss: 0.922452, Train ACC: 0.671900, lr: 0.001000\n",
      "6709/10000 correct\n",
      "Valid loss: 0.959594, Valid ACC: 0.670900\n",
      "Saving, ACC: 0.670900\n",
      "Epoch 79/100\n"
     ]
    },
    {
     "name": "stderr",
     "output_type": "stream",
     "text": [
      "100%|██████████| 625/625 [01:31<00:00,  6.80it/s]\n"
     ]
    },
    {
     "name": "stdout",
     "output_type": "stream",
     "text": [
      "Train loss: 0.920692, Train ACC: 0.670325, lr: 0.001000\n",
      "6679/10000 correct\n",
      "Valid loss: 0.957663, Valid ACC: 0.667900\n",
      "Epoch 80/100\n"
     ]
    },
    {
     "name": "stderr",
     "output_type": "stream",
     "text": [
      "100%|██████████| 625/625 [01:31<00:00,  6.80it/s]\n"
     ]
    },
    {
     "name": "stdout",
     "output_type": "stream",
     "text": [
      "Train loss: 0.912956, Train ACC: 0.673875, lr: 0.001000\n",
      "6728/10000 correct\n",
      "Valid loss: 0.957664, Valid ACC: 0.672800\n",
      "Saving, ACC: 0.672800\n",
      "Epoch 81/100\n"
     ]
    },
    {
     "name": "stderr",
     "output_type": "stream",
     "text": [
      "100%|██████████| 625/625 [01:32<00:00,  6.79it/s]\n"
     ]
    },
    {
     "name": "stdout",
     "output_type": "stream",
     "text": [
      "Train loss: 0.907729, Train ACC: 0.676650, lr: 0.001000\n",
      "6590/10000 correct\n",
      "Valid loss: 0.992652, Valid ACC: 0.659000\n",
      "Epoch 82/100\n"
     ]
    },
    {
     "name": "stderr",
     "output_type": "stream",
     "text": [
      "100%|██████████| 625/625 [01:31<00:00,  6.81it/s]\n"
     ]
    },
    {
     "name": "stdout",
     "output_type": "stream",
     "text": [
      "Train loss: 0.912102, Train ACC: 0.675650, lr: 0.001000\n",
      "6663/10000 correct\n",
      "Valid loss: 0.965867, Valid ACC: 0.666300\n",
      "Epoch 83/100\n"
     ]
    },
    {
     "name": "stderr",
     "output_type": "stream",
     "text": [
      "100%|██████████| 625/625 [01:31<00:00,  6.80it/s]\n"
     ]
    },
    {
     "name": "stdout",
     "output_type": "stream",
     "text": [
      "Train loss: 0.900488, Train ACC: 0.678825, lr: 0.001000\n",
      "6679/10000 correct\n",
      "Valid loss: 0.973877, Valid ACC: 0.667900\n",
      "Epoch 84/100\n"
     ]
    },
    {
     "name": "stderr",
     "output_type": "stream",
     "text": [
      "100%|██████████| 625/625 [01:31<00:00,  6.80it/s]\n"
     ]
    },
    {
     "name": "stdout",
     "output_type": "stream",
     "text": [
      "Train loss: 0.898823, Train ACC: 0.679575, lr: 0.001000\n",
      "6689/10000 correct\n",
      "Valid loss: 0.973793, Valid ACC: 0.668900\n",
      "Epoch 85/100\n"
     ]
    },
    {
     "name": "stderr",
     "output_type": "stream",
     "text": [
      "100%|██████████| 625/625 [01:31<00:00,  6.80it/s]\n"
     ]
    },
    {
     "name": "stdout",
     "output_type": "stream",
     "text": [
      "Train loss: 0.899404, Train ACC: 0.680075, lr: 0.001000\n",
      "6708/10000 correct\n",
      "Valid loss: 0.963258, Valid ACC: 0.670800\n",
      "Epoch 86/100\n"
     ]
    },
    {
     "name": "stderr",
     "output_type": "stream",
     "text": [
      "100%|██████████| 625/625 [01:31<00:00,  6.81it/s]\n"
     ]
    },
    {
     "name": "stdout",
     "output_type": "stream",
     "text": [
      "Train loss: 0.890692, Train ACC: 0.684450, lr: 0.001000\n",
      "6667/10000 correct\n",
      "Valid loss: 0.974608, Valid ACC: 0.666700\n",
      "Epoch 87/100\n"
     ]
    },
    {
     "name": "stderr",
     "output_type": "stream",
     "text": [
      "100%|██████████| 625/625 [01:31<00:00,  6.80it/s]\n"
     ]
    },
    {
     "name": "stdout",
     "output_type": "stream",
     "text": [
      "Train loss: 0.883342, Train ACC: 0.683300, lr: 0.001000\n",
      "6714/10000 correct\n",
      "Valid loss: 0.961363, Valid ACC: 0.671400\n",
      "Epoch 88/100\n"
     ]
    },
    {
     "name": "stderr",
     "output_type": "stream",
     "text": [
      "100%|██████████| 625/625 [01:31<00:00,  6.81it/s]\n"
     ]
    },
    {
     "name": "stdout",
     "output_type": "stream",
     "text": [
      "Train loss: 0.883790, Train ACC: 0.687625, lr: 0.001000\n",
      "6707/10000 correct\n",
      "Valid loss: 0.960712, Valid ACC: 0.670700\n",
      "Epoch 89/100\n"
     ]
    },
    {
     "name": "stderr",
     "output_type": "stream",
     "text": [
      "100%|██████████| 625/625 [01:31<00:00,  6.81it/s]\n"
     ]
    },
    {
     "name": "stdout",
     "output_type": "stream",
     "text": [
      "Train loss: 0.885859, Train ACC: 0.684075, lr: 0.001000\n",
      "6595/10000 correct\n",
      "Valid loss: 0.991704, Valid ACC: 0.659500\n",
      "Epoch 90/100\n"
     ]
    },
    {
     "name": "stderr",
     "output_type": "stream",
     "text": [
      "100%|██████████| 625/625 [01:31<00:00,  6.80it/s]\n"
     ]
    },
    {
     "name": "stdout",
     "output_type": "stream",
     "text": [
      "Train loss: 0.880900, Train ACC: 0.684825, lr: 0.001000\n",
      "6680/10000 correct\n",
      "Valid loss: 0.977146, Valid ACC: 0.668000\n",
      "Epoch 91/100\n"
     ]
    },
    {
     "name": "stderr",
     "output_type": "stream",
     "text": [
      "100%|██████████| 625/625 [01:31<00:00,  6.80it/s]\n"
     ]
    },
    {
     "name": "stdout",
     "output_type": "stream",
     "text": [
      "Train loss: 0.871954, Train ACC: 0.687650, lr: 0.001000\n",
      "6710/10000 correct\n",
      "Valid loss: 0.951900, Valid ACC: 0.671000\n",
      "Epoch 92/100\n"
     ]
    },
    {
     "name": "stderr",
     "output_type": "stream",
     "text": [
      "100%|██████████| 625/625 [01:31<00:00,  6.80it/s]\n"
     ]
    },
    {
     "name": "stdout",
     "output_type": "stream",
     "text": [
      "Train loss: 0.865765, Train ACC: 0.691250, lr: 0.001000\n",
      "6692/10000 correct\n",
      "Valid loss: 0.985630, Valid ACC: 0.669200\n",
      "Epoch 93/100\n"
     ]
    },
    {
     "name": "stderr",
     "output_type": "stream",
     "text": [
      "100%|██████████| 625/625 [01:31<00:00,  6.80it/s]\n"
     ]
    },
    {
     "name": "stdout",
     "output_type": "stream",
     "text": [
      "Train loss: 0.864575, Train ACC: 0.690550, lr: 0.001000\n",
      "6729/10000 correct\n",
      "Valid loss: 0.966696, Valid ACC: 0.672900\n",
      "Saving, ACC: 0.672900\n",
      "Epoch 94/100\n"
     ]
    },
    {
     "name": "stderr",
     "output_type": "stream",
     "text": [
      "100%|██████████| 625/625 [01:31<00:00,  6.80it/s]\n"
     ]
    },
    {
     "name": "stdout",
     "output_type": "stream",
     "text": [
      "Train loss: 0.860502, Train ACC: 0.694075, lr: 0.001000\n",
      "6756/10000 correct\n",
      "Valid loss: 0.939820, Valid ACC: 0.675600\n",
      "Saving, ACC: 0.675600\n",
      "Epoch 95/100\n"
     ]
    },
    {
     "name": "stderr",
     "output_type": "stream",
     "text": [
      "100%|██████████| 625/625 [01:31<00:00,  6.80it/s]\n"
     ]
    },
    {
     "name": "stdout",
     "output_type": "stream",
     "text": [
      "Train loss: 0.855988, Train ACC: 0.692725, lr: 0.001000\n",
      "6591/10000 correct\n",
      "Valid loss: 1.017107, Valid ACC: 0.659100\n",
      "Epoch 96/100\n"
     ]
    },
    {
     "name": "stderr",
     "output_type": "stream",
     "text": [
      "100%|██████████| 625/625 [01:32<00:00,  6.79it/s]\n"
     ]
    },
    {
     "name": "stdout",
     "output_type": "stream",
     "text": [
      "Train loss: 0.852134, Train ACC: 0.695525, lr: 0.001000\n",
      "6633/10000 correct\n",
      "Valid loss: 0.995678, Valid ACC: 0.663300\n",
      "Epoch 97/100\n"
     ]
    },
    {
     "name": "stderr",
     "output_type": "stream",
     "text": [
      "100%|██████████| 625/625 [01:31<00:00,  6.80it/s]\n"
     ]
    },
    {
     "name": "stdout",
     "output_type": "stream",
     "text": [
      "Train loss: 0.853309, Train ACC: 0.698300, lr: 0.001000\n",
      "6668/10000 correct\n",
      "Valid loss: 0.993752, Valid ACC: 0.666800\n",
      "Epoch 98/100\n"
     ]
    },
    {
     "name": "stderr",
     "output_type": "stream",
     "text": [
      "100%|██████████| 625/625 [01:31<00:00,  6.80it/s]\n"
     ]
    },
    {
     "name": "stdout",
     "output_type": "stream",
     "text": [
      "Train loss: 0.850469, Train ACC: 0.696225, lr: 0.001000\n",
      "6707/10000 correct\n",
      "Valid loss: 0.964622, Valid ACC: 0.670700\n",
      "Epoch 99/100\n"
     ]
    },
    {
     "name": "stderr",
     "output_type": "stream",
     "text": [
      "100%|██████████| 625/625 [01:31<00:00,  6.80it/s]\n"
     ]
    },
    {
     "name": "stdout",
     "output_type": "stream",
     "text": [
      "Train loss: 0.842247, Train ACC: 0.702550, lr: 0.001000\n",
      "6683/10000 correct\n",
      "Valid loss: 0.986086, Valid ACC: 0.668300\n",
      "Epoch 100/100\n"
     ]
    },
    {
     "name": "stderr",
     "output_type": "stream",
     "text": [
      "100%|██████████| 625/625 [01:31<00:00,  6.81it/s]\n"
     ]
    },
    {
     "name": "stdout",
     "output_type": "stream",
     "text": [
      "Train loss: 0.841420, Train ACC: 0.700150, lr: 0.001000\n",
      "6683/10000 correct\n",
      "Valid loss: 0.970186, Valid ACC: 0.668300\n"
     ]
    }
   ],
   "source": [
    "from torch.utils.tensorboard import SummaryWriter\n",
    "\n",
    "writer = SummaryWriter(log_dir='logs/' + save_name)\n",
    "val_acc_list = []\n",
    "model.to(device)\n",
    "\n",
    "for epoch in range(epochs):\n",
    "    train(model, train_loader, epoch, epochs)\n",
    "    validate(model, val_loader, epoch, epochs)"
   ]
  },
  {
   "cell_type": "markdown",
   "metadata": {},
   "source": [
    "저장된 Weight를 입혀주고, Valid set에 대한 Confusion Matrix를 그려봅니다."
   ]
  },
  {
   "cell_type": "code",
   "execution_count": 20,
   "metadata": {},
   "outputs": [
    {
     "data": {
      "text/plain": [
       "<All keys matched successfully>"
      ]
     },
     "execution_count": 20,
     "metadata": {},
     "output_type": "execute_result"
    }
   ],
   "source": [
    "model.load_state_dict(torch.load(save_path))"
   ]
  },
  {
   "cell_type": "code",
   "execution_count": 21,
   "metadata": {},
   "outputs": [],
   "source": [
    "train_y_true = []\n",
    "train_y_pred = []\n",
    "val_y_true = []\n",
    "val_y_pred = []\n",
    "\n",
    "with torch.no_grad():\n",
    "    for idx, batch in enumerate(train_loader):\n",
    "        img = batch['img'].float().to(device)\n",
    "        label = batch['label'].long().to(device)\n",
    "        output = model(img)\n",
    "        preds = torch.argmax(output, dim=1)\n",
    "\n",
    "        for item in label.cpu().numpy():\n",
    "            train_y_true.append(item)\n",
    "        for item in preds.cpu().numpy():\n",
    "            train_y_pred.append(item)\n",
    "\n",
    "    for idx, batch in enumerate(val_loader):\n",
    "        img = batch['img'].float().to(device)\n",
    "        label = batch['label'].long().to(device)\n",
    "        output = model(img)\n",
    "        preds = torch.argmax(output, dim=1)\n",
    "        \n",
    "        for item in label.cpu().numpy():\n",
    "            val_y_true.append(item)\n",
    "        for item in preds.cpu().numpy():\n",
    "            val_y_pred.append(item)"
   ]
  },
  {
   "cell_type": "code",
   "execution_count": 22,
   "metadata": {},
   "outputs": [],
   "source": [
    "labels = {0:'airplane', 1:'automobile', 2:'bird', 3:'cat', 4:'deer', 5:'dog', 6:'frog', 7:'horse', 8:'ship', 9:'truck'}\n",
    "\n",
    "train_y_true = pd.DataFrame(train_y_true).apply(lambda x : x.map(labels))\n",
    "train_y_pred = pd.DataFrame(train_y_pred).apply(lambda x : x.map(labels))\n",
    "val_y_true = pd.DataFrame(val_y_true).apply(lambda x : x.map(labels))\n",
    "val_y_pred = pd.DataFrame(val_y_pred).apply(lambda x : x.map(labels))"
   ]
  },
  {
   "cell_type": "code",
   "execution_count": 23,
   "metadata": {},
   "outputs": [
    {
     "data": {
      "text/plain": [
       "0.6756"
      ]
     },
     "execution_count": 23,
     "metadata": {},
     "output_type": "execute_result"
    }
   ],
   "source": [
    "np.max(val_acc_list)"
   ]
  },
  {
   "cell_type": "code",
   "execution_count": 24,
   "metadata": {},
   "outputs": [
    {
     "data": {
      "image/png": "[encoded data removed]",
      "text/plain": [
       "<Figure size 1152x1152 with 2 Axes>"
      ]
     },
     "metadata": {
      "needs_background": "light"
     },
     "output_type": "display_data"
    }
   ],
   "source": [
    "from sklearn.metrics import confusion_matrix\n",
    "\n",
    "plt.figure(figsize=(16, 16))\n",
    "sns.heatmap(\n",
    "    confusion_matrix(\n",
    "        train_y_true,\n",
    "        train_y_pred,\n",
    "        normalize ='true'), \n",
    "        annot=True, cmap='coolwarm'\n",
    "        )\n",
    "plt.title(\"CONFUSION MATRIX of the train dataset\", fontsize=25)\n",
    "plt.show()"
   ]
  },
  {
   "cell_type": "code",
   "execution_count": 25,
   "metadata": {},
   "outputs": [
    {
     "data": {
      "image/png": "[encoded data removed]",
      "text/plain": [
       "<Figure size 1152x1152 with 2 Axes>"
      ]
     },
     "metadata": {
      "needs_background": "light"
     },
     "output_type": "display_data"
    }
   ],
   "source": [
    "plt.figure(figsize=(16, 16))\n",
    "sns.heatmap(\n",
    "    confusion_matrix(\n",
    "        val_y_true,\n",
    "        val_y_pred,\n",
    "        normalize = 'true'), \n",
    "        annot=True, cmap='coolwarm'\n",
    "        )\n",
    "plt.title(\"CONFUSION MATRIX of the val dataset\", fontsize=25)\n",
    "plt.show()"
   ]
  },
  {
   "cell_type": "markdown",
   "metadata": {},
   "source": [
    "# 추론 \n",
    "\n",
    "이제 학습이 완료되었습니다! \n",
    "\n",
    "그럼 test 데이터를 예측해 보아요.\n",
    "\n",
    "test 데이터를 불어옵니다."
   ]
  },
  {
   "cell_type": "code",
   "execution_count": 26,
   "metadata": {},
   "outputs": [],
   "source": [
    "from glob import glob\n",
    "import PIL.Image\n",
    "import numpy as np\n",
    "\n",
    "test_images = []\n",
    "\n",
    "path = './data/'\n",
    "for filename in sorted(glob(path + \"test/*.jpg\")):\n",
    "    an_img = PIL.Image.open(filename) \n",
    "    img_array = np.array(an_img) \n",
    "    test_images.append(img_array) \n",
    "\n",
    "test_images = np.array(test_images)"
   ]
  },
  {
   "cell_type": "code",
   "execution_count": 27,
   "metadata": {},
   "outputs": [],
   "source": [
    "class CustomDataset(Dataset):\n",
    "    def __init__(self, transform):\n",
    "        self.transform = transform \n",
    "        self.img_list = test_images\n",
    "        self.img_labels = [0] * 10000 \n",
    "\n",
    "    def __len__(self):\n",
    "        return len(self.img_list)\n",
    "\n",
    "    def __getitem__(self, idx):\n",
    "        return self.transform(image=self.img_list[idx]), self.img_labels[idx]"
   ]
  },
  {
   "cell_type": "code",
   "execution_count": 28,
   "metadata": {},
   "outputs": [],
   "source": [
    "test_set = CustomDataset(transform=else_transform)\n",
    "\n",
    "test_loader = DataLoader(test_set, batch_size = test_batch_size)"
   ]
  },
  {
   "cell_type": "code",
   "execution_count": 29,
   "metadata": {},
   "outputs": [],
   "source": [
    "def test(model, loader, epoch, nb_epochs):\n",
    "\n",
    "    model.eval()\n",
    "    with torch.no_grad():\n",
    "        for idx, batch in enumerate(loader):\n",
    "            img = batch['img'].float().to(device)\n",
    "            label = batch['label'].long().to(device)\n",
    "\n",
    "            output = model(img)\n",
    "            loss = criterion(output, label)\n",
    "\n",
    "            # stats\n",
    "            preds = torch.argmax(output, dim=1)"
   ]
  },
  {
   "cell_type": "code",
   "execution_count": 30,
   "metadata": {},
   "outputs": [
    {
     "data": {
      "text/plain": [
       "torch.Size([3, 64, 64])"
      ]
     },
     "execution_count": 30,
     "metadata": {},
     "output_type": "execute_result"
    }
   ],
   "source": [
    "next(iter(test_loader))[0]['image'][0].shape"
   ]
  },
  {
   "cell_type": "markdown",
   "metadata": {},
   "source": [
    "본격적으로 test 데이터를 예측해보아요! \n",
    "\n",
    "예측을 할 때는 학습이 진행되지 않도록 net.eval() 코드를 작성해주어야 합니다. \n",
    "\n",
    "데이터가 backpropagation 되어 가중치가 수정되지 않도록 해주는 코드입니다. "
   ]
  },
  {
   "cell_type": "code",
   "execution_count": 31,
   "metadata": {},
   "outputs": [],
   "source": [
    "import pandas as pd\n",
    "sample_submission = pd.read_csv('./data/sample_submission.csv')\n",
    "\n",
    "model.eval()\n",
    "\n",
    "batch_index = 0\n",
    "with torch.no_grad():\n",
    "    for i, (images, targets) in enumerate(test_loader):\n",
    "        images = images['image'].to(device)\n",
    "        outputs = model(images)\n",
    "        batch_index = i * test_batch_size\n",
    "        max_vals, max_indices = torch.max(outputs, 1)\n",
    "        sample_submission.iloc[batch_index:batch_index + test_batch_size, 1:] = max_indices.long().cpu().numpy()[:,np.newaxis]"
   ]
  },
  {
   "cell_type": "markdown",
   "metadata": {},
   "source": [
    "예측된 데이터의 라벨은 숫자로 되어있습니다. \n",
    "\n",
    "train 데이터를 불러올 때 ImageFolder 메소드를 사용해 데이터를 불러왔기 때문입니다. \n",
    "\n",
    "제출을 위해 라벨을 다시 복원 시켜 줍니다."
   ]
  },
  {
   "cell_type": "code",
   "execution_count": 32,
   "metadata": {},
   "outputs": [],
   "source": [
    "labels = {0:'airplane', 1:'automobile', 2:'bird', 3:'cat', 4:'deer',\n",
    "          5:'dog', 6:'frog', 7:'horse', 8:'ship', 9:'truck'}\n",
    "sample_submission['target'] = sample_submission['target'].map(labels)"
   ]
  },
  {
   "cell_type": "code",
   "execution_count": 33,
   "metadata": {},
   "outputs": [
    {
     "data": {
      "text/html": [
       "<div>\n",
       "<style scoped>\n",
       "    .dataframe tbody tr th:only-of-type {\n",
       "        vertical-align: middle;\n",
       "    }\n",
       "\n",
       "    .dataframe tbody tr th {\n",
       "        vertical-align: top;\n",
       "    }\n",
       "\n",
       "    .dataframe thead th {\n",
       "        text-align: right;\n",
       "    }\n",
       "</style>\n",
       "<table border=\"1\" class=\"dataframe\">\n",
       "  <thead>\n",
       "    <tr style=\"text-align: right;\">\n",
       "      <th></th>\n",
       "      <th>id</th>\n",
       "      <th>target</th>\n",
       "    </tr>\n",
       "  </thead>\n",
       "  <tbody>\n",
       "    <tr>\n",
       "      <th>0</th>\n",
       "      <td>0000.jpg</td>\n",
       "      <td>horse</td>\n",
       "    </tr>\n",
       "    <tr>\n",
       "      <th>1</th>\n",
       "      <td>0001.jpg</td>\n",
       "      <td>automobile</td>\n",
       "    </tr>\n",
       "    <tr>\n",
       "      <th>2</th>\n",
       "      <td>0002.jpg</td>\n",
       "      <td>truck</td>\n",
       "    </tr>\n",
       "    <tr>\n",
       "      <th>3</th>\n",
       "      <td>0003.jpg</td>\n",
       "      <td>dog</td>\n",
       "    </tr>\n",
       "    <tr>\n",
       "      <th>4</th>\n",
       "      <td>0004.jpg</td>\n",
       "      <td>airplane</td>\n",
       "    </tr>\n",
       "  </tbody>\n",
       "</table>\n",
       "</div>"
      ],
      "text/plain": [
       "         id      target\n",
       "0  0000.jpg       horse\n",
       "1  0001.jpg  automobile\n",
       "2  0002.jpg       truck\n",
       "3  0003.jpg         dog\n",
       "4  0004.jpg    airplane"
      ]
     },
     "execution_count": 33,
     "metadata": {},
     "output_type": "execute_result"
    }
   ],
   "source": [
    "sample_submission.head()"
   ]
  },
  {
   "cell_type": "code",
   "execution_count": 34,
   "metadata": {},
   "outputs": [],
   "source": [
    "sample_submission.to_csv(f'{np.max(val_acc_list):.4f}_'+f'{save_name}.csv', index=False)"
   ]
  },
  {
   "cell_type": "markdown",
   "metadata": {},
   "source": [
    "축하합니다! 데이터 분석을 완료하셨습니다!\n",
    "\n",
    "앞으로도 데이콘과 함께 즐겁게 데이터 분석 능력을 키워가시면 좋겠습니다.\n",
    "\n",
    "감사합니다."
   ]
  }
 ],
 "metadata": {
  "interpreter": {
   "hash": "bad09bf3460384be675c44a59a72086f42923413dad5a47918d06fc95c7f78cf"
  },
  "kernelspec": {
   "display_name": "subin",
   "language": "python",
   "name": "python3"
  },
  "language_info": {
   "codemirror_mode": {
    "name": "ipython",
    "version": 3
   },
   "file_extension": ".py",
   "mimetype": "text/x-python",
   "name": "python",
   "nbconvert_exporter": "python",
   "pygments_lexer": "ipython3",
   "version": "3.7.7"
  }
 },
 "nbformat": 4,
 "nbformat_minor": 4
}
